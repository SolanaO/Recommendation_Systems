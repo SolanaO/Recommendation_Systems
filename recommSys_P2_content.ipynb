{
 "cells": [
  {
   "cell_type": "markdown",
   "metadata": {},
   "source": [
    "# <font color='darkblue'> Recommendations with IBM Watson. Part II</font>\n",
    "\n",
    "## <font color='darkblue'> Rank and Content Based Recommendations</font>\n"
   ]
  },
  {
   "cell_type": "markdown",
   "metadata": {},
   "source": [
    "In this notebook, rank based recommendations to address the cold start problem and content based recommendations methods are investigated. The dataset is real data from the IBM Watson Studio platform. "
   ]
  },
  {
   "cell_type": "markdown",
   "metadata": {},
   "source": [
    "## <font color='darkblue'>Environment SetUp</font>"
   ]
  },
  {
   "cell_type": "code",
   "execution_count": 11,
   "metadata": {},
   "outputs": [],
   "source": [
    "# General libraries and packages\n",
    "\n",
    "import pandas as pd\n",
    "import numpy as np\n",
    "import re\n",
    "\n",
    "from ast import literal_eval\n",
    "\n",
    "# Packages and libraries for content based recs\n",
    "import re\n",
    "\n",
    "# NLP packages\n",
    "from nltk.corpus import stopwords\n",
    "from nltk.tokenize import word_tokenize\n",
    "from nltk.stem.wordnet import WordNetLemmatizer\n",
    "\n",
    "# Data processing packages\n",
    "from sklearn.feature_extraction.text import TfidfVectorizer, CountVectorizer\n",
    "\n",
    "# Import linear kernel to compute the dot product\n",
    "from sklearn.metrics.pairwise import linear_kernel"
   ]
  },
  {
   "cell_type": "code",
   "execution_count": 2,
   "metadata": {},
   "outputs": [],
   "source": [
    "# Import visualization packages and libraries\n",
    "\n",
    "import matplotlib.pyplot as plt\n",
    "%matplotlib inline\n",
    "\n",
    "# Choose style and color palette\n",
    "import seaborn as sns\n",
    "sns.set_style(\"darkgrid\")\n",
    "\n",
    "colors = sns.color_palette('PuBuGn')"
   ]
  },
  {
   "cell_type": "code",
   "execution_count": 3,
   "metadata": {},
   "outputs": [],
   "source": [
    "# Use 2 decimal places in output display\n",
    "pd.set_option(\"display.precision\", 2)\n",
    "\n",
    "# Don't wrap dataframe across additional lines\n",
    "pd.set_option(\"display.expand_frame_repr\", False)\n",
    "\n",
    "# Set the maximum widths of columns\n",
    "pd.set_option(\"display.max_colwidth\", 90)\n",
    "\n",
    "# Set max rows displayed in output to 20\n",
    "pd.set_option(\"display.max_rows\", 20)"
   ]
  },
  {
   "cell_type": "markdown",
   "metadata": {},
   "source": [
    "## <font color='darkblue'>Upload Preprocessed Data</font>"
   ]
  },
  {
   "cell_type": "markdown",
   "metadata": {},
   "source": [
    "<div class=\"alert alert-block alert-info\">\n",
    "\n",
    "<b>NOTES</b>:\n",
    "    <ul>\n",
    "        <li>There are 2 files to upload.</li>\n",
    "        <li>One is centered on the user information, the other on the article information.</li>\n",
    "    </ul>\n",
    "\n",
    "</div>"
   ]
  },
  {
   "cell_type": "code",
   "execution_count": 4,
   "metadata": {},
   "outputs": [],
   "source": [
    "# Read in the user-item interaction files\n",
    "articles_per_user = pd.read_csv('data/articles_per_user.csv', \n",
    "                                index_col=[0], \n",
    "                                converters={'viewed_articles': literal_eval}) # to keep int type\n",
    "\n",
    "# Read the articles information files\n",
    "users_per_article = pd.read_csv('data/users_per_article.csv', \n",
    "                                index_col=[0],\n",
    "                               converters={'users_accessed': literal_eval}) # to keep int type"
   ]
  },
  {
   "cell_type": "code",
   "execution_count": 5,
   "metadata": {},
   "outputs": [
    {
     "data": {
      "text/html": [
       "<div>\n",
       "<style scoped>\n",
       "    .dataframe tbody tr th:only-of-type {\n",
       "        vertical-align: middle;\n",
       "    }\n",
       "\n",
       "    .dataframe tbody tr th {\n",
       "        vertical-align: top;\n",
       "    }\n",
       "\n",
       "    .dataframe thead th {\n",
       "        text-align: right;\n",
       "    }\n",
       "</style>\n",
       "<table border=\"1\" class=\"dataframe\">\n",
       "  <thead>\n",
       "    <tr style=\"text-align: right;\">\n",
       "      <th></th>\n",
       "      <th>user_id</th>\n",
       "      <th>viewed_articles</th>\n",
       "      <th>articles_count</th>\n",
       "      <th>unique_articles_count</th>\n",
       "    </tr>\n",
       "  </thead>\n",
       "  <tbody>\n",
       "    <tr>\n",
       "      <th>0</th>\n",
       "      <td>1</td>\n",
       "      <td>[1430.0, 1430.0, 732.0, 1429.0, 43.0, 109.0, 1232.0, 310.0, 1293.0, 1406.0, 1406.0, 32...</td>\n",
       "      <td>47</td>\n",
       "      <td>36</td>\n",
       "    </tr>\n",
       "    <tr>\n",
       "      <th>1</th>\n",
       "      <td>2</td>\n",
       "      <td>[1314.0, 1305.0, 1024.0, 1176.0, 1422.0, 1427.0]</td>\n",
       "      <td>6</td>\n",
       "      <td>6</td>\n",
       "    </tr>\n",
       "  </tbody>\n",
       "</table>\n",
       "</div>"
      ],
      "text/plain": [
       "   user_id                                                                            viewed_articles  articles_count  unique_articles_count\n",
       "0        1  [1430.0, 1430.0, 732.0, 1429.0, 43.0, 109.0, 1232.0, 310.0, 1293.0, 1406.0, 1406.0, 32...              47                     36\n",
       "1        2                                           [1314.0, 1305.0, 1024.0, 1176.0, 1422.0, 1427.0]               6                      6"
      ]
     },
     "execution_count": 5,
     "metadata": {},
     "output_type": "execute_result"
    }
   ],
   "source": [
    "# Check the user_item dataframes\n",
    "articles_per_user.head(2)"
   ]
  },
  {
   "cell_type": "code",
   "execution_count": 6,
   "metadata": {},
   "outputs": [
    {
     "data": {
      "text/html": [
       "<div>\n",
       "<style scoped>\n",
       "    .dataframe tbody tr th:only-of-type {\n",
       "        vertical-align: middle;\n",
       "    }\n",
       "\n",
       "    .dataframe tbody tr th {\n",
       "        vertical-align: top;\n",
       "    }\n",
       "\n",
       "    .dataframe thead th {\n",
       "        text-align: right;\n",
       "    }\n",
       "</style>\n",
       "<table border=\"1\" class=\"dataframe\">\n",
       "  <thead>\n",
       "    <tr style=\"text-align: right;\">\n",
       "      <th></th>\n",
       "      <th>doc_body</th>\n",
       "      <th>doc_description</th>\n",
       "      <th>article_id</th>\n",
       "      <th>views</th>\n",
       "      <th>doc_name</th>\n",
       "      <th>users_accessed</th>\n",
       "    </tr>\n",
       "  </thead>\n",
       "  <tbody>\n",
       "    <tr>\n",
       "      <th>0</th>\n",
       "      <td>Skip navigation Sign in SearchLoading...\\r\\n\\r\\nClose Yeah, keep it Undo CloseTHIS VID...</td>\n",
       "      <td>Detect bad readings in real time using Python and Streaming Analytics.</td>\n",
       "      <td>0.0</td>\n",
       "      <td>14</td>\n",
       "      <td>detect malfunctioning iot sensors with streaming analytics</td>\n",
       "      <td>[495, 495, 495, 503, 233, 552, 1347, 1051, 785, 2992, 3216, 3570, 4571, 4836]</td>\n",
       "    </tr>\n",
       "    <tr>\n",
       "      <th>1</th>\n",
       "      <td>No Free Hunch Navigation * kaggle.com\\r\\n\\r\\n * kaggle.com\\r\\n\\r\\nCommunicating data s...</td>\n",
       "      <td>See the forest, see the trees. Here lies the challenge in both performing and presenti...</td>\n",
       "      <td>1.0</td>\n",
       "      <td>0</td>\n",
       "      <td>Communicating data science: A guide to presenting your work</td>\n",
       "      <td>[]</td>\n",
       "    </tr>\n",
       "  </tbody>\n",
       "</table>\n",
       "</div>"
      ],
      "text/plain": [
       "                                                                                    doc_body                                                                            doc_description  article_id  views                                                     doc_name                                                                 users_accessed\n",
       "0  Skip navigation Sign in SearchLoading...\\r\\n\\r\\nClose Yeah, keep it Undo CloseTHIS VID...                     Detect bad readings in real time using Python and Streaming Analytics.         0.0     14   detect malfunctioning iot sensors with streaming analytics  [495, 495, 495, 503, 233, 552, 1347, 1051, 785, 2992, 3216, 3570, 4571, 4836]\n",
       "1  No Free Hunch Navigation * kaggle.com\\r\\n\\r\\n * kaggle.com\\r\\n\\r\\nCommunicating data s...  See the forest, see the trees. Here lies the challenge in both performing and presenti...         1.0      0  Communicating data science: A guide to presenting your work                                                                             []"
      ]
     },
     "execution_count": 6,
     "metadata": {},
     "output_type": "execute_result"
    }
   ],
   "source": [
    "# Check the articles information dataframe\n",
    "users_per_article.head(2)"
   ]
  },
  {
   "cell_type": "markdown",
   "metadata": {},
   "source": [
    "## <a class=\"anchor\" id=\"Rank\">Rank-Based Recommendations</a>"
   ]
  },
  {
   "cell_type": "markdown",
   "metadata": {},
   "source": [
    "<div class=\"alert alert-block alert-info\">\n",
    "\n",
    "<b>NOTES</b>:\n",
    "    <ul>\n",
    "<li>The dataset does not contain ratings for whether a user liked an article or not.  We only know that a user has interacted with an article.  In these cases, the popularity of an article can be based on how often an article was interacted with.</li>\n",
    "    </ul>\n",
    "\n",
    "</div>"
   ]
  },
  {
   "cell_type": "markdown",
   "metadata": {},
   "source": [
    "### <font color='darkblue'>Get the top n most popular articles</font>"
   ]
  },
  {
   "cell_type": "code",
   "execution_count": 7,
   "metadata": {},
   "outputs": [],
   "source": [
    "# Function to retrieve the ids and title of the most viewed n articles\n",
    "def get_top_articles(n):\n",
    "    \n",
    "    '''\n",
    "    Finds the n most popular articles.\n",
    "    \n",
    "    INPUT:\n",
    "        n (int) - specifies how many items should be returned\n",
    "    OUTPUT:\n",
    "        article_ids (list) - the ids of the n most popular articles\n",
    "        titles (list) - the titles of the n most popular articles\n",
    "    '''\n",
    "    \n",
    "    df_top_n = users_per_article.nlargest(n, 'views')\n",
    "    titles = list(df_top_n.doc_name)\n",
    "    article_ids = list(df_top_n.article_id)\n",
    "    return article_ids, titles"
   ]
  },
  {
   "cell_type": "code",
   "execution_count": 8,
   "metadata": {},
   "outputs": [
    {
     "data": {
      "text/plain": [
       "[1429.0, 1330.0, 1431.0, 1427.0, 1364.0]"
      ]
     },
     "execution_count": 8,
     "metadata": {},
     "output_type": "execute_result"
    }
   ],
   "source": [
    "# The ids of the 5 most popular articles\n",
    "get_top_articles(5)[0]"
   ]
  },
  {
   "cell_type": "code",
   "execution_count": 9,
   "metadata": {},
   "outputs": [
    {
     "data": {
      "text/plain": [
       "['use deep learning for image classification',\n",
       " 'insights from new york car accident reports',\n",
       " 'visualize car data with brunel',\n",
       " 'use xgboost, scikit-learn & ibm watson machine learning apis',\n",
       " 'predicting churn with the spss random tree algorithm']"
      ]
     },
     "execution_count": 9,
     "metadata": {},
     "output_type": "execute_result"
    }
   ],
   "source": [
    "# The titles of the 5 most popular articles\n",
    "get_top_articles(5)[1]"
   ]
  },
  {
   "cell_type": "markdown",
   "metadata": {},
   "source": [
    "## <a class=\"anchor\" id=\"Content-Recs\">Content Based Recommendations</a>"
   ]
  },
  {
   "cell_type": "markdown",
   "metadata": {},
   "source": [
    "## <font color='darkblue'>Baseline Model</font>"
   ]
  },
  {
   "cell_type": "markdown",
   "metadata": {},
   "source": [
    "<div class=\"alert alert-block alert-info\">\n",
    "\n",
    "<b>NOTES</b>:\n",
    "    <ul>\n",
    "<li>In this section we work with users_per_article dataframe that contains content information.</li>\n",
    "<li>The text is preprocessed using a tokenizer function, then vectorized with TfidfVectorizer from sklearn.</li>\n",
    "<li>The cosine similarity scores are computed with linear_kernel in sklearn.</li>\n",
    "</ul>\n",
    "\n",
    "</div>"
   ]
  },
  {
   "cell_type": "code",
   "execution_count": 9,
   "metadata": {},
   "outputs": [],
   "source": [
    "# Make a copy of the dataframe\n",
    "content = users_per_article.copy()"
   ]
  },
  {
   "cell_type": "code",
   "execution_count": 10,
   "metadata": {},
   "outputs": [
    {
     "data": {
      "text/html": [
       "<div>\n",
       "<style scoped>\n",
       "    .dataframe tbody tr th:only-of-type {\n",
       "        vertical-align: middle;\n",
       "    }\n",
       "\n",
       "    .dataframe tbody tr th {\n",
       "        vertical-align: top;\n",
       "    }\n",
       "\n",
       "    .dataframe thead th {\n",
       "        text-align: right;\n",
       "    }\n",
       "</style>\n",
       "<table border=\"1\" class=\"dataframe\">\n",
       "  <thead>\n",
       "    <tr style=\"text-align: right;\">\n",
       "      <th></th>\n",
       "      <th>article_id</th>\n",
       "      <th>doc_name</th>\n",
       "    </tr>\n",
       "  </thead>\n",
       "  <tbody>\n",
       "    <tr>\n",
       "      <th>0</th>\n",
       "      <td>0.0</td>\n",
       "      <td>detect malfunctioning iot sensors with streaming analytics</td>\n",
       "    </tr>\n",
       "    <tr>\n",
       "      <th>1</th>\n",
       "      <td>1.0</td>\n",
       "      <td>Communicating data science: A guide to presenting your work</td>\n",
       "    </tr>\n",
       "  </tbody>\n",
       "</table>\n",
       "</div>"
      ],
      "text/plain": [
       "   article_id                                                     doc_name\n",
       "0         0.0   detect malfunctioning iot sensors with streaming analytics\n",
       "1         1.0  Communicating data science: A guide to presenting your work"
      ]
     },
     "execution_count": 10,
     "metadata": {},
     "output_type": "execute_result"
    }
   ],
   "source": [
    "# Dataframe that retains article_id and doc_name \n",
    "df_titles = content[['article_id', 'doc_name']]\n",
    "\n",
    "# check the output\n",
    "df_titles.head(2)"
   ]
  },
  {
   "cell_type": "markdown",
   "metadata": {},
   "source": [
    "### <font color='darkblue'>Preprocess text and create TF-IDF matrix</font>"
   ]
  },
  {
   "cell_type": "code",
   "execution_count": 90,
   "metadata": {},
   "outputs": [],
   "source": [
    "def tokenize(text):\n",
    "    \n",
    "    \"\"\"\n",
    "    Contains the pre-processing steps for a document:\n",
    "        - tokenize\n",
    "        - lemmatize\n",
    "        - lowercasing\n",
    "        - removes stopwords in English language\n",
    "        \n",
    "    INPUT (string) - raw message\n",
    "    OUTPUT (list)  - clean tokens\n",
    "    \"\"\"\n",
    "    \n",
    "    # remove punctuation and unusual characters \n",
    "    text = re.sub(r\"[^a-zA-Z0-9]\", \" \", text).strip()\n",
    "    \n",
    "    # split into words\n",
    "    words = word_tokenize(text)\n",
    "    \n",
    "    # lemmatize - reduce words to their root form\n",
    "    words = [WordNetLemmatizer().lemmatize(w) for w in words]\n",
    "    \n",
    "    # case normalize and remove leading & trailing empty spaces\n",
    "    words = [w.lower().strip() for w in words]\n",
    "    \n",
    "    # remove stopwords, keep not and can\n",
    "    clean_words = [w for w in words if w not in stopwords.words('english')]\n",
    "                  # or w in ['not', 'can', 'r']]\n",
    "    \n",
    "    return clean_words"
   ]
  },
  {
   "cell_type": "code",
   "execution_count": 13,
   "metadata": {},
   "outputs": [],
   "source": [
    "# Create an instance of the TF-IDF vectorizer\n",
    "tfidf = TfidfVectorizer(tokenizer=tokenize)\n",
    "\n",
    "# Construct the TF-IDF matrix \n",
    "tfidf_matrix = tfidf.fit_transform(df_titles['doc_name'])"
   ]
  },
  {
   "cell_type": "code",
   "execution_count": 14,
   "metadata": {},
   "outputs": [
    {
     "data": {
      "text/plain": [
       "(1328, 1946)"
      ]
     },
     "execution_count": 14,
     "metadata": {},
     "output_type": "execute_result"
    }
   ],
   "source": [
    "# Output the shape of the TF-IDF matrix\n",
    "tfidf_matrix.shape"
   ]
  },
  {
   "cell_type": "markdown",
   "metadata": {},
   "source": [
    "### <font color='darkblue'>Compute the cosine similarity scores</font>"
   ]
  },
  {
   "cell_type": "code",
   "execution_count": 15,
   "metadata": {},
   "outputs": [
    {
     "data": {
      "text/plain": [
       "(1328, 1328)"
      ]
     },
     "execution_count": 15,
     "metadata": {},
     "output_type": "execute_result"
    }
   ],
   "source": [
    "# Compute the cosine similarity matrix \n",
    "cosine_sim = linear_kernel(tfidf_matrix, tfidf_matrix)\n",
    "# Check the output\n",
    "cosine_sim.shape"
   ]
  },
  {
   "cell_type": "markdown",
   "metadata": {},
   "source": [
    "### <font color='darkblue'>Build the recommender function</font>"
   ]
  },
  {
   "cell_type": "code",
   "execution_count": 22,
   "metadata": {},
   "outputs": [],
   "source": [
    "def get_article_info(article_id, df_titles):\n",
    "    '''\n",
    "    INPUT:\n",
    "    article_id (int) - unique article identifier\n",
    "    df_titles (pd.DataFrame) - contains article_id, title\n",
    "    \n",
    "    OUTPUT:\n",
    "    article_title (str) - the article name associated with the provided article id\n",
    "    '''\n",
    "    \n",
    "    article_title = df_titles[df_titles['article_id']==article_id]['doc_name'].unique()[0]\n",
    "    return article_id, article_title"
   ]
  },
  {
   "cell_type": "code",
   "execution_count": 17,
   "metadata": {},
   "outputs": [
    {
     "name": "stdout",
     "output_type": "stream",
     "text": [
      "The title of the article with id = 542 is: getting started with python.\n"
     ]
    }
   ],
   "source": [
    "# Print a sample output\n",
    "print(f'The title of the article with id = 542 is: {get_article_info(542, df_titles)[1]}.')"
   ]
  },
  {
   "cell_type": "code",
   "execution_count": 16,
   "metadata": {},
   "outputs": [],
   "source": [
    "# Function that takes in the article id as input and gives n recommendations\n",
    "def content_recommender_tfidf(article_id, n, cosine_sim, df_titles):\n",
    "    '''\n",
    "    INPUT:\n",
    "    article_id (int) - unique article identifier\n",
    "    n (int) - how many recommendations should be returned\n",
    "    cosine_sim (np.ndarray) - matrix of cosine similarities\n",
    "    df (pd.DdataFrame) - contains title and article id\n",
    "    \n",
    "    OUTPUT:\n",
    "    recommended_articles (list) - recommended articles (ids and titles), \n",
    "                                  sorted by cosine similarity\n",
    "    '''\n",
    "    # Get the information for the given article id\n",
    "    given_article = get_article_info(article_id, df_titles)\n",
    "    \n",
    "    # Obtain the matrix index that matches the article id\n",
    "    matrix_index = df_titles[df_titles['article_id']==article_id].index.values[0]\n",
    "    \n",
    "    # Sort the scores based on the cosine similarity scores with given article index, ignore the first entry\n",
    "    sim_scores = pd.Series(cosine_sim[matrix_index]).sort_values(ascending=False).iloc[1:]\n",
    "    \n",
    "    # Get the indices corresponding to the scores of the n most similar articles\n",
    "    sim_scores_n = list(sim_scores[:n].index.values)\n",
    "    \n",
    "    # Return the top n most similar article_ids as a pandas dataframe\n",
    "    recommended_articles = df_titles.iloc[sim_scores_n]\n",
    "    \n",
    "    return given_article, recommended_articles"
   ]
  },
  {
   "cell_type": "markdown",
   "metadata": {},
   "source": [
    "### <font color='darkblue'>Make content recommendations with the baseline model</font>"
   ]
  },
  {
   "cell_type": "code",
   "execution_count": 17,
   "metadata": {},
   "outputs": [],
   "source": [
    "def make_content_recs_tfidf(user_id, \n",
    "                      cosine_sim, \n",
    "                      m, \n",
    "                      df=articles_per_user, \n",
    "                      df_content=users_per_article):\n",
    "    '''\n",
    "    INPUT:\n",
    "        user_id (int) - unique numeric user identifier\n",
    "        m (int) - the number of recommendations we want for the user\n",
    "        df (pd.DataFrame) - contains users and articles interactions\n",
    "        df_content (pd.DataFrame) - contains titles and article_ids\n",
    "    \n",
    "    OUTPUT:\n",
    "        recs_ids (list) - list of recommendations for the user by article id\n",
    "        rec_names (list) - list of recommendations for the user by article title\n",
    "    \n",
    "    Description:\n",
    "        Loops through the articles based on closeness to the articles seen by the user.\n",
    "        For each article seen by the user - finds n most similar articles based on \n",
    "        content recommendations. Does this until m recommendations are found.\n",
    "    \n",
    "    Notes:\n",
    "        The articles that have the most total article interactions are chosen first.\n",
    "   \n",
    "    '''\n",
    "    # List of recommended articles by id, and by title\n",
    "    recommendations = []\n",
    "    \n",
    "    # Ids of articles seen by user  \n",
    "    articles_ids_seen = articles_per_user.loc[user_id].viewed_articles\n",
    "    \n",
    "    for art_id in articles_ids_seen:\n",
    "        \n",
    "        # choose n such that we get similar articles to all articles viewed\n",
    "        if len(articles_ids_seen) >= 5:\n",
    "            n = 2\n",
    "        elif len(articles_ids_seen) == 4:\n",
    "            n = 3\n",
    "        else:\n",
    "            n = 10\n",
    "        \n",
    "         # get the n most similar articles ids and titles\n",
    "        similar_articles_ids = content_recommender_tfidf(\n",
    "            art_id, n, cosine_sim, df_titles)[1]['article_id'].tolist()\n",
    "        similar_articles = content_recommender_tfidf(\n",
    "            art_id, n, cosine_sim, df_titles)[1]['doc_name'].tolist()\n",
    "\n",
    "        # remove the ids of the articles in articles_ids_seen and available\n",
    "        articles_ids_to_recommend = np.setdiff1d(\n",
    "            similar_articles_ids, articles_ids_seen)\n",
    "        \n",
    "        # remove the articles already added to the recs list\n",
    "        articles_ids_to_add = np.setdiff1d(\n",
    "            articles_ids_to_recommend, recommendations)\n",
    "        \n",
    "        # add the sorted article ids\n",
    "        recommendations.extend(articles_ids_to_add)\n",
    "        \n",
    "        # break when we have enough articles to recommend\n",
    "        if len(recommendations) >= m:\n",
    "            break\n",
    "    \n",
    "    # retain the first m recommendations\n",
    "    recs = recommendations[:m]\n",
    "    \n",
    "    # get the articles titles\n",
    "    complete_recs = [get_article_info(article_id, df_titles) for article_id in recs]\n",
    "    \n",
    "    return complete_recs\n"
   ]
  },
  {
   "cell_type": "markdown",
   "metadata": {},
   "source": [
    "## <font color='darkblue'>Sentence Transformers</font>"
   ]
  },
  {
   "cell_type": "code",
   "execution_count": 18,
   "metadata": {},
   "outputs": [],
   "source": [
    "# Install packages to generate the BERT embeddings\n",
    "from sentence_transformers import SentenceTransformer, util\n",
    "import torch\n",
    "\n",
    "# Create the model\n",
    "model = SentenceTransformer('paraphrase-MiniLM-L6-v2')\n",
    "\n",
    "# Create embeddings for the collection of titles\n",
    "corpus_embeddings = model.encode(users_per_article.doc_name.values, \n",
    "                                 convert_to_tensor=True)"
   ]
  },
  {
   "cell_type": "code",
   "execution_count": 19,
   "metadata": {},
   "outputs": [],
   "source": [
    "# Function that takes in the article id as input and gives n recommendations\n",
    "def content_recommender_transformer(article_id, k, df_titles):\n",
    "    '''\n",
    "    INPUT:\n",
    "    article_id (int) - unique article identifier\n",
    "    n (int) - how many recommendations should be returned\n",
    "    cosine_sim (np.ndarray) - matrix of cosine similarities\n",
    "    df (pd.DdataFrame) - contains title and article id\n",
    "    \n",
    "    OUTPUT:\n",
    "    recommended_articles (list) - recommended articles (ids and titles), \n",
    "                                  sorted by cosine similarity\n",
    "    '''\n",
    "    # Get the information for the given article id\n",
    "    select_title = get_article_info(article_id, df_titles)[1]\n",
    "    \n",
    "    # Create an embedding for select article title\n",
    "    select_article_embedding = model.encode(select_title, convert_to_tensor=True)\n",
    "    \n",
    "    # Compute cosine similarity scores between the select article and the corpus\n",
    "    cos_scores = util.pytorch_cos_sim(select_article_embedding, corpus_embeddings)[0]\n",
    "    \n",
    "    # Select the highest k scores\n",
    "    top_results = torch.topk(cos_scores, k)\n",
    "    \n",
    "    # Get a list of recommended article ids\n",
    "    top_ids = top_results[1].tolist()[1:]\n",
    "    \n",
    "    # Return the top n most similar article_ids as a pandas dataframe\n",
    "    recommended_articles = df_titles.iloc[top_ids]\n",
    "    \n",
    "    return select_title, recommended_articles"
   ]
  },
  {
   "cell_type": "markdown",
   "metadata": {},
   "source": [
    "### <font color='darkblue'>Make content recommendations with transformers</font>"
   ]
  },
  {
   "cell_type": "code",
   "execution_count": 20,
   "metadata": {},
   "outputs": [],
   "source": [
    "def make_content_recs_transformers(user_id, m, \n",
    "                      df=articles_per_user, \n",
    "                      df_content=users_per_article):\n",
    "    '''\n",
    "    INPUT:\n",
    "        user_id (int) - unique numeric user identifier\n",
    "        m (int) - the number of recommendations we want for the user\n",
    "        df (pd.DataFrame) - contains users and articles interactions\n",
    "        df_content (pd.DataFrame) - contains titles and article_ids\n",
    "    \n",
    "    OUTPUT:\n",
    "        recs_ids (list) - list of recommendations for the user by article id\n",
    "        rec_names (list) - list of recommendations for the user by article title\n",
    "    \n",
    "    Description:\n",
    "        Loops through the articles based on closeness to the articles seen by the user.\n",
    "        For each article seen by the user - finds n most similar articles based on \n",
    "        content recommendations. Does this until m recommendations are found.\n",
    "    \n",
    "    Notes:\n",
    "        The articles that have the most total article interactions are chosen first.\n",
    "   \n",
    "    '''\n",
    "    # List of recommended articles by id, and by title\n",
    "    recommendations = []\n",
    "    \n",
    "    # Ids of articles seen by user  \n",
    "    articles_ids_seen = articles_per_user.loc[user_id].viewed_articles\n",
    "    \n",
    "    for art_id in articles_ids_seen:\n",
    "        \n",
    "        # choose n such that we get similar articles to all articles viewed\n",
    "        if len(articles_ids_seen) >= 5:\n",
    "            n = 2\n",
    "        elif len(articles_ids_seen) == 4:\n",
    "            n = 3\n",
    "        else:\n",
    "            n = 12\n",
    "        \n",
    "        # get the n most similar articles ids and titles\n",
    "        similar_articles_ids = content_recommender_transformer(\n",
    "            art_id, n, df_titles)[1]['article_id'].tolist()\n",
    "        similar_articles = content_recommender_transformer(\n",
    "            art_id, n, df_titles)[1]['doc_name'].tolist()\n",
    "\n",
    "        # remove the ids of the articles in articles_ids_seen and available\n",
    "        articles_ids_to_recommend = np.setdiff1d(\n",
    "            similar_articles_ids, articles_ids_seen)\n",
    "        \n",
    "        # remove the articles already added to the recs list\n",
    "        articles_ids_to_add = np.setdiff1d(\n",
    "            articles_ids_to_recommend, recommendations)\n",
    "        \n",
    "        # add the sorted article ids\n",
    "        recommendations.extend(articles_ids_to_add)\n",
    "        \n",
    "        # break when we have enough articles to recommend\n",
    "        if len(recommendations) >= m:\n",
    "            break\n",
    "    \n",
    "    # retain the first m recommendations\n",
    "    recs = recommendations[:m]\n",
    "    \n",
    "    # get the articles titles\n",
    "    complete_recs = [get_article_info(article_id, df_titles) for article_id in recs]\n",
    "    \n",
    "    return complete_recs\n"
   ]
  },
  {
   "cell_type": "markdown",
   "metadata": {},
   "source": [
    "### <font color='darkblue'>Examples: finding similar articles</font>"
   ]
  },
  {
   "cell_type": "code",
   "execution_count": 23,
   "metadata": {},
   "outputs": [
    {
     "name": "stdout",
     "output_type": "stream",
     "text": [
      "The article with id = 20 for which we give recommendations is:\n",
      "working interactively with rstudio and notebooks in dsx\n",
      "\n",
      "The baseline model recommended articles are:\n"
     ]
    },
    {
     "data": {
      "text/html": [
       "<div>\n",
       "<style scoped>\n",
       "    .dataframe tbody tr th:only-of-type {\n",
       "        vertical-align: middle;\n",
       "    }\n",
       "\n",
       "    .dataframe tbody tr th {\n",
       "        vertical-align: top;\n",
       "    }\n",
       "\n",
       "    .dataframe thead th {\n",
       "        text-align: right;\n",
       "    }\n",
       "</style>\n",
       "<table border=\"1\" class=\"dataframe\">\n",
       "  <thead>\n",
       "    <tr style=\"text-align: right;\">\n",
       "      <th></th>\n",
       "      <th>article_id</th>\n",
       "      <th>doc_name</th>\n",
       "    </tr>\n",
       "  </thead>\n",
       "  <tbody>\n",
       "    <tr>\n",
       "      <th>373</th>\n",
       "      <td>373.0</td>\n",
       "      <td>working with notebooks in dsx</td>\n",
       "    </tr>\n",
       "    <tr>\n",
       "      <th>763</th>\n",
       "      <td>763.0</td>\n",
       "      <td>load data into rstudio for analysis in dsx</td>\n",
       "    </tr>\n",
       "    <tr>\n",
       "      <th>182</th>\n",
       "      <td>182.0</td>\n",
       "      <td>Overview of RStudio IDE in DSX</td>\n",
       "    </tr>\n",
       "    <tr>\n",
       "      <th>355</th>\n",
       "      <td>355.0</td>\n",
       "      <td>run shiny applications in rstudio in dsx</td>\n",
       "    </tr>\n",
       "    <tr>\n",
       "      <th>626</th>\n",
       "      <td>626.0</td>\n",
       "      <td>analyze db2 warehouse on cloud data in rstudio in dsx</td>\n",
       "    </tr>\n",
       "    <tr>\n",
       "      <th>665</th>\n",
       "      <td>665.0</td>\n",
       "      <td>get social with your notebooks in dsx</td>\n",
       "    </tr>\n",
       "    <tr>\n",
       "      <th>958</th>\n",
       "      <td>958.0</td>\n",
       "      <td>using dsx notebooks to analyze github data</td>\n",
       "    </tr>\n",
       "    <tr>\n",
       "      <th>474</th>\n",
       "      <td>474.0</td>\n",
       "      <td>publish notebooks to github in dsx</td>\n",
       "    </tr>\n",
       "    <tr>\n",
       "      <th>930</th>\n",
       "      <td>930.0</td>\n",
       "      <td>how to use version control (github) in rstudio within dsx?</td>\n",
       "    </tr>\n",
       "    <tr>\n",
       "      <th>821</th>\n",
       "      <td>821.0</td>\n",
       "      <td>using rstudio in ibm data science experience</td>\n",
       "    </tr>\n",
       "  </tbody>\n",
       "</table>\n",
       "</div>"
      ],
      "text/plain": [
       "     article_id                                                    doc_name\n",
       "373       373.0                               working with notebooks in dsx\n",
       "763       763.0                  load data into rstudio for analysis in dsx\n",
       "182       182.0                              Overview of RStudio IDE in DSX\n",
       "355       355.0                    run shiny applications in rstudio in dsx\n",
       "626       626.0       analyze db2 warehouse on cloud data in rstudio in dsx\n",
       "665       665.0                       get social with your notebooks in dsx\n",
       "958       958.0                  using dsx notebooks to analyze github data\n",
       "474       474.0                          publish notebooks to github in dsx\n",
       "930       930.0  how to use version control (github) in rstudio within dsx?\n",
       "821       821.0                using rstudio in ibm data science experience"
      ]
     },
     "execution_count": 23,
     "metadata": {},
     "output_type": "execute_result"
    }
   ],
   "source": [
    "# Choose the id for the test article\n",
    "article_id = 20\n",
    "\n",
    "# Create the list of recommendations using the baseline model\n",
    "recommendations_tfidf_list_20 = content_recommender_tfidf(article_id, 10, cosine_sim, df_titles)\n",
    "\n",
    "# Print the information for the test article\n",
    "print(f'The article with id = {article_id} for which we give recommendations is:\\n{recommendations_tfidf_list_20[0][1]}')\n",
    "\n",
    "# Print the recommended articles information\n",
    "print(f'\\nThe baseline model recommended articles are:')\n",
    "recommendations_tfidf_list_20[1]"
   ]
  },
  {
   "cell_type": "code",
   "execution_count": 24,
   "metadata": {},
   "outputs": [
    {
     "name": "stdout",
     "output_type": "stream",
     "text": [
      "\n",
      "The transformer model recommended articles are:\n"
     ]
    },
    {
     "data": {
      "text/html": [
       "<div>\n",
       "<style scoped>\n",
       "    .dataframe tbody tr th:only-of-type {\n",
       "        vertical-align: middle;\n",
       "    }\n",
       "\n",
       "    .dataframe tbody tr th {\n",
       "        vertical-align: top;\n",
       "    }\n",
       "\n",
       "    .dataframe thead th {\n",
       "        text-align: right;\n",
       "    }\n",
       "</style>\n",
       "<table border=\"1\" class=\"dataframe\">\n",
       "  <thead>\n",
       "    <tr style=\"text-align: right;\">\n",
       "      <th></th>\n",
       "      <th>article_id</th>\n",
       "      <th>doc_name</th>\n",
       "    </tr>\n",
       "  </thead>\n",
       "  <tbody>\n",
       "    <tr>\n",
       "      <th>373</th>\n",
       "      <td>373.0</td>\n",
       "      <td>working with notebooks in dsx</td>\n",
       "    </tr>\n",
       "    <tr>\n",
       "      <th>182</th>\n",
       "      <td>182.0</td>\n",
       "      <td>Overview of RStudio IDE in DSX</td>\n",
       "    </tr>\n",
       "    <tr>\n",
       "      <th>763</th>\n",
       "      <td>763.0</td>\n",
       "      <td>load data into rstudio for analysis in dsx</td>\n",
       "    </tr>\n",
       "    <tr>\n",
       "      <th>665</th>\n",
       "      <td>665.0</td>\n",
       "      <td>get social with your notebooks in dsx</td>\n",
       "    </tr>\n",
       "    <tr>\n",
       "      <th>821</th>\n",
       "      <td>821.0</td>\n",
       "      <td>using rstudio in ibm data science experience</td>\n",
       "    </tr>\n",
       "    <tr>\n",
       "      <th>474</th>\n",
       "      <td>474.0</td>\n",
       "      <td>publish notebooks to github in dsx</td>\n",
       "    </tr>\n",
       "    <tr>\n",
       "      <th>806</th>\n",
       "      <td>806.0</td>\n",
       "      <td>Collaborate on projects in DSX</td>\n",
       "    </tr>\n",
       "    <tr>\n",
       "      <th>355</th>\n",
       "      <td>355.0</td>\n",
       "      <td>run shiny applications in rstudio in dsx</td>\n",
       "    </tr>\n",
       "    <tr>\n",
       "      <th>395</th>\n",
       "      <td>395.0</td>\n",
       "      <td>run dsx notebooks on amazon emr</td>\n",
       "    </tr>\n",
       "    <tr>\n",
       "      <th>277</th>\n",
       "      <td>277.0</td>\n",
       "      <td>work with data connections in dsx</td>\n",
       "    </tr>\n",
       "  </tbody>\n",
       "</table>\n",
       "</div>"
      ],
      "text/plain": [
       "     article_id                                      doc_name\n",
       "373       373.0                 working with notebooks in dsx\n",
       "182       182.0                Overview of RStudio IDE in DSX\n",
       "763       763.0    load data into rstudio for analysis in dsx\n",
       "665       665.0         get social with your notebooks in dsx\n",
       "821       821.0  using rstudio in ibm data science experience\n",
       "474       474.0            publish notebooks to github in dsx\n",
       "806       806.0                Collaborate on projects in DSX\n",
       "355       355.0      run shiny applications in rstudio in dsx\n",
       "395       395.0               run dsx notebooks on amazon emr\n",
       "277       277.0             work with data connections in dsx"
      ]
     },
     "execution_count": 24,
     "metadata": {},
     "output_type": "execute_result"
    }
   ],
   "source": [
    "# Print the recommended articles using transformers\n",
    "print(f'\\nThe transformer model recommended articles are:')\n",
    "recommendations_transf_list_20 = content_recommender_transformer(20, 11, df_titles)\n",
    "recommendations_transf_list_20[1]"
   ]
  },
  {
   "cell_type": "code",
   "execution_count": 25,
   "metadata": {},
   "outputs": [
    {
     "name": "stdout",
     "output_type": "stream",
     "text": [
      "For article_id = 20\n",
      "Articles recommended by transformer but not by baseline model:{395.0, 277.0, 806.0}\n",
      "Articles recommended by baseline but not by transformer model:{930.0, 958.0, 626.0}\n"
     ]
    }
   ],
   "source": [
    "list_transf_20 = recommendations_transf_list_20[1].article_id.values\n",
    "list_tfidf_20 = recommendations_tfidf_list_20[1].article_id.values\n",
    "\n",
    "# The articles recommended one model but not the other\n",
    "print(f'For article_id = 20')\n",
    "print(f'Articles recommended by transformer but not by baseline model:{set(list_transf_20) - set(list_tfidf_20)}')\n",
    "print(f'Articles recommended by baseline but not by transformer model:{set(list_tfidf_20) - set(list_transf_20)}')"
   ]
  },
  {
   "cell_type": "code",
   "execution_count": 26,
   "metadata": {},
   "outputs": [
    {
     "name": "stdout",
     "output_type": "stream",
     "text": [
      "The article with id = 500 for which we give recommendations is:\n",
      "the difference between ai, machine learning, and deep learning?\n",
      "\n",
      "The baseline model recommended articles are:\n"
     ]
    },
    {
     "data": {
      "text/html": [
       "<div>\n",
       "<style scoped>\n",
       "    .dataframe tbody tr th:only-of-type {\n",
       "        vertical-align: middle;\n",
       "    }\n",
       "\n",
       "    .dataframe tbody tr th {\n",
       "        vertical-align: top;\n",
       "    }\n",
       "\n",
       "    .dataframe thead th {\n",
       "        text-align: right;\n",
       "    }\n",
       "</style>\n",
       "<table border=\"1\" class=\"dataframe\">\n",
       "  <thead>\n",
       "    <tr style=\"text-align: right;\">\n",
       "      <th></th>\n",
       "      <th>article_id</th>\n",
       "      <th>doc_name</th>\n",
       "    </tr>\n",
       "  </thead>\n",
       "  <tbody>\n",
       "    <tr>\n",
       "      <th>313</th>\n",
       "      <td>313.0</td>\n",
       "      <td>what is machine learning?</td>\n",
       "    </tr>\n",
       "    <tr>\n",
       "      <th>260</th>\n",
       "      <td>260.0</td>\n",
       "      <td>the machine learning database</td>\n",
       "    </tr>\n",
       "    <tr>\n",
       "      <th>762</th>\n",
       "      <td>762.0</td>\n",
       "      <td>From Machine Learning to Learning Machine (Dinesh Nirmal)</td>\n",
       "    </tr>\n",
       "    <tr>\n",
       "      <th>237</th>\n",
       "      <td>237.0</td>\n",
       "      <td>deep learning with data science experience</td>\n",
       "    </tr>\n",
       "    <tr>\n",
       "      <th>1035</th>\n",
       "      <td>1035.0</td>\n",
       "      <td>machine learning for the enterprise.</td>\n",
       "    </tr>\n",
       "    <tr>\n",
       "      <th>800</th>\n",
       "      <td>800.0</td>\n",
       "      <td>machine learning for the enterprise</td>\n",
       "    </tr>\n",
       "    <tr>\n",
       "      <th>336</th>\n",
       "      <td>336.0</td>\n",
       "      <td>challenges in deep learning</td>\n",
       "    </tr>\n",
       "    <tr>\n",
       "      <th>337</th>\n",
       "      <td>337.0</td>\n",
       "      <td>generalization in deep learning</td>\n",
       "    </tr>\n",
       "    <tr>\n",
       "      <th>1004</th>\n",
       "      <td>1004.0</td>\n",
       "      <td>how to get a job in deep learning</td>\n",
       "    </tr>\n",
       "    <tr>\n",
       "      <th>809</th>\n",
       "      <td>809.0</td>\n",
       "      <td>use the machine learning library</td>\n",
       "    </tr>\n",
       "  </tbody>\n",
       "</table>\n",
       "</div>"
      ],
      "text/plain": [
       "      article_id                                                   doc_name\n",
       "313        313.0                                  what is machine learning?\n",
       "260        260.0                              the machine learning database\n",
       "762        762.0  From Machine Learning to Learning Machine (Dinesh Nirmal)\n",
       "237        237.0                 deep learning with data science experience\n",
       "1035      1035.0                       machine learning for the enterprise.\n",
       "800        800.0                        machine learning for the enterprise\n",
       "336        336.0                                challenges in deep learning\n",
       "337        337.0                            generalization in deep learning\n",
       "1004      1004.0                          how to get a job in deep learning\n",
       "809        809.0                           use the machine learning library"
      ]
     },
     "execution_count": 26,
     "metadata": {},
     "output_type": "execute_result"
    }
   ],
   "source": [
    "# Choose the id for the test article\n",
    "article_id = 500\n",
    "\n",
    "# Create the list of recommendations using baseline model\n",
    "recommendations_tfidf_list_500 = content_recommender_tfidf(article_id, 10, cosine_sim, df_titles)\n",
    "\n",
    "# Print the information for the test article\n",
    "print(f'The article with id = {article_id} for which we give recommendations is:\\n{recommendations_tfidf_list_500[0][1]}')\n",
    "\n",
    "# Print the recommended articles information\n",
    "print(f'\\nThe baseline model recommended articles are:')\n",
    "recommendations_tfidf_list_500[1]"
   ]
  },
  {
   "cell_type": "code",
   "execution_count": 27,
   "metadata": {},
   "outputs": [
    {
     "name": "stdout",
     "output_type": "stream",
     "text": [
      "\n",
      "The transformer model recommended articles are:\n"
     ]
    },
    {
     "data": {
      "text/html": [
       "<div>\n",
       "<style scoped>\n",
       "    .dataframe tbody tr th:only-of-type {\n",
       "        vertical-align: middle;\n",
       "    }\n",
       "\n",
       "    .dataframe tbody tr th {\n",
       "        vertical-align: top;\n",
       "    }\n",
       "\n",
       "    .dataframe thead th {\n",
       "        text-align: right;\n",
       "    }\n",
       "</style>\n",
       "<table border=\"1\" class=\"dataframe\">\n",
       "  <thead>\n",
       "    <tr style=\"text-align: right;\">\n",
       "      <th></th>\n",
       "      <th>article_id</th>\n",
       "      <th>doc_name</th>\n",
       "    </tr>\n",
       "  </thead>\n",
       "  <tbody>\n",
       "    <tr>\n",
       "      <th>336</th>\n",
       "      <td>336.0</td>\n",
       "      <td>challenges in deep learning</td>\n",
       "    </tr>\n",
       "    <tr>\n",
       "      <th>278</th>\n",
       "      <td>278.0</td>\n",
       "      <td>deep learning trends and an example</td>\n",
       "    </tr>\n",
       "    <tr>\n",
       "      <th>337</th>\n",
       "      <td>337.0</td>\n",
       "      <td>generalization in deep learning</td>\n",
       "    </tr>\n",
       "    <tr>\n",
       "      <th>313</th>\n",
       "      <td>313.0</td>\n",
       "      <td>what is machine learning?</td>\n",
       "    </tr>\n",
       "    <tr>\n",
       "      <th>762</th>\n",
       "      <td>762.0</td>\n",
       "      <td>From Machine Learning to Learning Machine (Dinesh Nirmal)</td>\n",
       "    </tr>\n",
       "    <tr>\n",
       "      <th>1313</th>\n",
       "      <td>1429.0</td>\n",
       "      <td>use deep learning for image classification</td>\n",
       "    </tr>\n",
       "    <tr>\n",
       "      <th>237</th>\n",
       "      <td>237.0</td>\n",
       "      <td>deep learning with data science experience</td>\n",
       "    </tr>\n",
       "    <tr>\n",
       "      <th>833</th>\n",
       "      <td>833.0</td>\n",
       "      <td>machine learning and the science of choosing</td>\n",
       "    </tr>\n",
       "    <tr>\n",
       "      <th>195</th>\n",
       "      <td>195.0</td>\n",
       "      <td>artificial intelligence, ethically speaking – inside machine learning – medium</td>\n",
       "    </tr>\n",
       "    <tr>\n",
       "      <th>532</th>\n",
       "      <td>532.0</td>\n",
       "      <td>the two phases of gradient descent in deep learning</td>\n",
       "    </tr>\n",
       "  </tbody>\n",
       "</table>\n",
       "</div>"
      ],
      "text/plain": [
       "      article_id                                                                        doc_name\n",
       "336        336.0                                                     challenges in deep learning\n",
       "278        278.0                                             deep learning trends and an example\n",
       "337        337.0                                                 generalization in deep learning\n",
       "313        313.0                                                       what is machine learning?\n",
       "762        762.0                       From Machine Learning to Learning Machine (Dinesh Nirmal)\n",
       "1313      1429.0                                      use deep learning for image classification\n",
       "237        237.0                                      deep learning with data science experience\n",
       "833        833.0                                    machine learning and the science of choosing\n",
       "195        195.0  artificial intelligence, ethically speaking – inside machine learning – medium\n",
       "532        532.0                             the two phases of gradient descent in deep learning"
      ]
     },
     "execution_count": 27,
     "metadata": {},
     "output_type": "execute_result"
    }
   ],
   "source": [
    "# Print the recommended articles information\n",
    "print(f'\\nThe transformer model recommended articles are:')\n",
    "recommendations_transf_list_500 = content_recommender_transformer(500, 11, df_titles)\n",
    "recommendations_transf_list_500[1]"
   ]
  },
  {
   "cell_type": "code",
   "execution_count": 28,
   "metadata": {},
   "outputs": [
    {
     "name": "stdout",
     "output_type": "stream",
     "text": [
      "For article_id = 500\n",
      "Articles recommended by transformer but not by baseline model:{833.0, 195.0, 532.0, 1429.0, 278.0}\n",
      "Articles recommended by baseline but not by transformer model:{800.0, 260.0, 809.0, 1035.0, 1004.0}\n"
     ]
    }
   ],
   "source": [
    "list_transf_500 = recommendations_transf_list_500[1].article_id.values\n",
    "list_tfidf_500 = recommendations_tfidf_list_500[1].article_id.values\n",
    "\n",
    "# The articles recommended one model but not the other\n",
    "print(f'For article_id = 500')\n",
    "print(f'Articles recommended by transformer but not by baseline model:{set(list_transf_500) - set(list_tfidf_500)}')\n",
    "print(f'Articles recommended by baseline but not by transformer model:{set(list_tfidf_500) - set(list_transf_500)}')"
   ]
  },
  {
   "cell_type": "markdown",
   "metadata": {},
   "source": [
    "### <font color='darkblue'>Examples: Make content recommendations</font>"
   ]
  },
  {
   "cell_type": "code",
   "execution_count": 29,
   "metadata": {},
   "outputs": [
    {
     "name": "stdout",
     "output_type": "stream",
     "text": [
      "The articles accessed by user_id=40 are:\n"
     ]
    },
    {
     "data": {
      "text/plain": [
       "{(151.0, 'jupyter notebook tutorial'),\n",
       " (162.0, 'an introduction to stock market data analysis with r (part 1)'),\n",
       " (486.0, 'use spark r to load and analyze data'),\n",
       " (542.0, 'getting started with python'),\n",
       " (645.0, 'how to perform a logistic regression in r'),\n",
       " (692.0, '15 page tutorial for r'),\n",
       " (1198.0, 'country statistics: commercial bank prime lending rate'),\n",
       " (1304.0, 'gosales transactions for logistic regression model'),\n",
       " (1368.0, 'putting a human face on machine learning'),\n",
       " (1430.0,\n",
       "  'using pixiedust for fast, flexible, and easier data analysis and experimentation'),\n",
       " (1436.0, 'welcome to pixiedust')}"
      ]
     },
     "execution_count": 29,
     "metadata": {},
     "output_type": "execute_result"
    }
   ],
   "source": [
    "# Take a look at the unique articles seen by user_id=40\n",
    "articles_ids_seen_40 = articles_per_user.loc[40].viewed_articles\n",
    "articles_seen_40 = [get_article_info(article_id, \n",
    "                                     df_titles) for article_id in articles_ids_seen_40]\n",
    "print(f'The articles accessed by user_id=40 are:')\n",
    "set(articles_seen_40)"
   ]
  },
  {
   "cell_type": "code",
   "execution_count": 30,
   "metadata": {},
   "outputs": [
    {
     "name": "stdout",
     "output_type": "stream",
     "text": [
      "The articles recommended by baseline model to user_id=40 are:\n"
     ]
    },
    {
     "data": {
      "text/plain": [
       "[(82.0, 'build a logistic regression model with wml & dsx'),\n",
       " (1305.0, 'gosales transactions for naive bayes model'),\n",
       " (110.0, 'pixiedust: magic for your python notebook'),\n",
       " (729.0, 'pixiedust 1.0 is here! – ibm watson data lab'),\n",
       " (329.0, 'introduction to market basket analysis in\\xa0python'),\n",
       " (886.0, 'Perform market basket analysis using dashDB and R'),\n",
       " (108.0,\n",
       "  '520    using notebooks with pixiedust for fast, flexi...\\nName: title, dtype: object'),\n",
       " (198.0, 'New Simple Data Pipe: Easier cloud data movement'),\n",
       " (528.0, '10 tips on using jupyter notebook'),\n",
       " (906.0, 'jupyter (ipython) notebooks features')]"
      ]
     },
     "execution_count": 30,
     "metadata": {},
     "output_type": "execute_result"
    }
   ],
   "source": [
    "# Take a look at the list of recommended articles using the baseline model\n",
    "print(f'The articles recommended by baseline model to user_id=40 are:')\n",
    "recs_tfidf_40 = make_content_recs_tfidf(40, cosine_sim, 10, \n",
    "                                        articles_per_user, users_per_article)\n",
    "recs_tfidf_40"
   ]
  },
  {
   "cell_type": "code",
   "execution_count": 31,
   "metadata": {},
   "outputs": [],
   "source": [
    "# Separate tuples of ids and titles for the recommended articles\n",
    "recs_tfidf_40_ids, recs_tfidf_40_titles = zip(*recs_tfidf_40)"
   ]
  },
  {
   "cell_type": "code",
   "execution_count": 32,
   "metadata": {},
   "outputs": [
    {
     "name": "stdout",
     "output_type": "stream",
     "text": [
      "The articles recommended by the transformer model to user_id=40 are:\n"
     ]
    },
    {
     "data": {
      "text/plain": [
       "[(617.0, 'pixiedust gets its first community-driven feature in 1.0.4'),\n",
       " (886.0, 'Perform market basket analysis using dashDB and R'),\n",
       " (1161.0, 'analyze data, build a dashboard with spark and pixiedust'),\n",
       " (528.0, '10 tips on using jupyter notebook'),\n",
       " (351.0, 'do i need to learn r?'),\n",
       " (1425.0, 'use spark for r to load data and run sql queries'),\n",
       " (426.0, 'migrating to python 3 with pleasure'),\n",
       " (511.0, 'Put a human face on machine learning with WML & DSX'),\n",
       " (1196.0, 'country statistics: central bank discount rate')]"
      ]
     },
     "execution_count": 32,
     "metadata": {},
     "output_type": "execute_result"
    }
   ],
   "source": [
    "# Take a look at the list of recommended articles using the transformer model\n",
    "print(f'The articles recommended by the transformer model to user_id=40 are:')\n",
    "recs_transf_40 = make_content_recs_transformers(40, 11, \n",
    "                                        articles_per_user, users_per_article)\n",
    "recs_transf_40"
   ]
  },
  {
   "cell_type": "code",
   "execution_count": 33,
   "metadata": {},
   "outputs": [],
   "source": [
    "# Separate tuples of ids and titles for the recommended articles\n",
    "recs_transf_40_ids, recs_transf_40_titles = zip(*recs_transf_40)"
   ]
  },
  {
   "cell_type": "code",
   "execution_count": 34,
   "metadata": {},
   "outputs": [
    {
     "name": "stdout",
     "output_type": "stream",
     "text": [
      "The articles accessed by user_id=178 are:\n"
     ]
    },
    {
     "data": {
      "text/plain": [
       "{(173.0, '10 must attend data science, ml and ai conferences in 2018')}"
      ]
     },
     "execution_count": 34,
     "metadata": {},
     "output_type": "execute_result"
    }
   ],
   "source": [
    "# Take a look at the unique articles seen by user_id=178\n",
    "articles_ids_seen_178 = articles_per_user.loc[178].viewed_articles\n",
    "articles_seen_178 = [get_article_info(article_id, df_titles) for article_id in articles_ids_seen_178]\n",
    "print(f'The articles accessed by user_id=178 are:')\n",
    "set(articles_seen_178)"
   ]
  },
  {
   "cell_type": "code",
   "execution_count": 36,
   "metadata": {},
   "outputs": [
    {
     "name": "stdout",
     "output_type": "stream",
     "text": [
      "The articles recommended by the baseline model to user_id=178 are:\n"
     ]
    },
    {
     "data": {
      "text/plain": [
       "[(508.0, 'data science in the cloud'),\n",
       " (528.0, '10 tips on using jupyter notebook'),\n",
       " (661.0, '21 Must-Know Data Science Interview Questions and Answers'),\n",
       " (679.0, 'this week in data science'),\n",
       " (715.0,\n",
       "  \"for ai to get creative, it must learn the rules--then how to break 'em\"),\n",
       " (784.0,\n",
       "  '10 data science, machine learning and ai podcasts you must listen to'),\n",
       " (878.0, '10 data science podcasts you need to be listening to right now'),\n",
       " (967.0, 'ml algorithm != learning machine'),\n",
       " (986.0, 'r for data science'),\n",
       " (990.0, 'this week in data science (january 10, 2017)')]"
      ]
     },
     "execution_count": 36,
     "metadata": {},
     "output_type": "execute_result"
    }
   ],
   "source": [
    "# Take a look at the list of recommended articles\n",
    "print(f'The articles recommended by the baseline model to user_id=178 are:')\n",
    "recs_tfidf_178 = make_content_recs_tfidf(178, cosine_sim, 10, \n",
    "                                         articles_per_user, users_per_article)\n",
    "recs_tfidf_178"
   ]
  },
  {
   "cell_type": "code",
   "execution_count": 37,
   "metadata": {},
   "outputs": [
    {
     "name": "stdout",
     "output_type": "stream",
     "text": [
      "The articles recommended by the transformer model to user_id=40 are:\n"
     ]
    },
    {
     "data": {
      "text/plain": [
       "[(8.0, 'data science bowl 2017'),\n",
       " (78.0, 'this week in data science (may 16, 2017)'),\n",
       " (101.0, 'how to choose a project to practice data science'),\n",
       " (364.0, 'this week in data science (october 18, 2016)'),\n",
       " (440.0, 'this week in data science (january 24, 2017)'),\n",
       " (493.0, 'This Week in Data Science (October 11, 2016)'),\n",
       " (510.0, 'this week in data science (may 30, 2017)'),\n",
       " (631.0, 'this week in data science (january 17, 2017)'),\n",
       " (661.0, '21 Must-Know Data Science Interview Questions and Answers'),\n",
       " (679.0, 'this week in data science')]"
      ]
     },
     "execution_count": 37,
     "metadata": {},
     "output_type": "execute_result"
    }
   ],
   "source": [
    "# Take a look at the list of recommended articles using the transformer model\n",
    "print(f'The articles recommended by the transformer model to user_id=40 are:')\n",
    "recs_transf_178 = make_content_recs_transformers(178, 10, \n",
    "                                        articles_per_user, users_per_article)\n",
    "recs_transf_178"
   ]
  },
  {
   "cell_type": "code",
   "execution_count": 39,
   "metadata": {},
   "outputs": [],
   "source": [
    "# Separate tuples of ids and titles for the recommended articles\n",
    "recs_transf_178_ids, recs_transf_178_titles = zip(*recs_tfidf_178)"
   ]
  },
  {
   "cell_type": "code",
   "execution_count": 38,
   "metadata": {},
   "outputs": [],
   "source": [
    "# Separate tuples of ids and titles for the recommended articles\n",
    "recs_tfidf_178_ids, recs_tfidf_178_titles = zip(*recs_tfidf_178)"
   ]
  },
  {
   "cell_type": "markdown",
   "metadata": {},
   "source": [
    "## <font color='darkblue'>Topic modeling with BERT</font>"
   ]
  },
  {
   "cell_type": "markdown",
   "metadata": {},
   "source": [
    "<div class=\"alert alert-block alert-info\">\n",
    "\n",
    "<b>NOTES</b>:\n",
    "    <ul>The approach here is after Maarten Grootendorst, Topic Modeling with BERT (Medium, Oct 5, 2020).\n",
    "    </ul>\n",
    "</div>"
   ]
  },
  {
   "cell_type": "code",
   "execution_count": 42,
   "metadata": {},
   "outputs": [
    {
     "data": {
      "text/html": [
       "<div>\n",
       "<style scoped>\n",
       "    .dataframe tbody tr th:only-of-type {\n",
       "        vertical-align: middle;\n",
       "    }\n",
       "\n",
       "    .dataframe tbody tr th {\n",
       "        vertical-align: top;\n",
       "    }\n",
       "\n",
       "    .dataframe thead th {\n",
       "        text-align: right;\n",
       "    }\n",
       "</style>\n",
       "<table border=\"1\" class=\"dataframe\">\n",
       "  <thead>\n",
       "    <tr style=\"text-align: right;\">\n",
       "      <th></th>\n",
       "      <th>doc_body</th>\n",
       "      <th>doc_description</th>\n",
       "      <th>article_id</th>\n",
       "      <th>views</th>\n",
       "      <th>doc_name</th>\n",
       "      <th>users_accessed</th>\n",
       "    </tr>\n",
       "  </thead>\n",
       "  <tbody>\n",
       "    <tr>\n",
       "      <th>0</th>\n",
       "      <td>Skip navigation Sign in SearchLoading...\\r\\n\\r\\nClose Yeah, keep it Undo CloseTHIS VID...</td>\n",
       "      <td>Detect bad readings in real time using Python and Streaming Analytics.</td>\n",
       "      <td>0.0</td>\n",
       "      <td>14</td>\n",
       "      <td>detect malfunctioning iot sensors with streaming analytics</td>\n",
       "      <td>[495, 495, 495, 503, 233, 552, 1347, 1051, 785, 2992, 3216, 3570, 4571, 4836]</td>\n",
       "    </tr>\n",
       "    <tr>\n",
       "      <th>1</th>\n",
       "      <td>No Free Hunch Navigation * kaggle.com\\r\\n\\r\\n * kaggle.com\\r\\n\\r\\nCommunicating data s...</td>\n",
       "      <td>See the forest, see the trees. Here lies the challenge in both performing and presenti...</td>\n",
       "      <td>1.0</td>\n",
       "      <td>0</td>\n",
       "      <td>Communicating data science: A guide to presenting your work</td>\n",
       "      <td>[]</td>\n",
       "    </tr>\n",
       "  </tbody>\n",
       "</table>\n",
       "</div>"
      ],
      "text/plain": [
       "                                                                                    doc_body                                                                            doc_description  article_id  views                                                     doc_name                                                                 users_accessed\n",
       "0  Skip navigation Sign in SearchLoading...\\r\\n\\r\\nClose Yeah, keep it Undo CloseTHIS VID...                     Detect bad readings in real time using Python and Streaming Analytics.         0.0     14   detect malfunctioning iot sensors with streaming analytics  [495, 495, 495, 503, 233, 552, 1347, 1051, 785, 2992, 3216, 3570, 4571, 4836]\n",
       "1  No Free Hunch Navigation * kaggle.com\\r\\n\\r\\n * kaggle.com\\r\\n\\r\\nCommunicating data s...  See the forest, see the trees. Here lies the challenge in both performing and presenti...         1.0      0  Communicating data science: A guide to presenting your work                                                                             []"
      ]
     },
     "execution_count": 42,
     "metadata": {},
     "output_type": "execute_result"
    }
   ],
   "source": [
    "# Create a copy of article information data\n",
    "metadata = users_per_article.copy()\n",
    "\n",
    "# Take a look at the data\n",
    "metadata.head(2)"
   ]
  },
  {
   "cell_type": "code",
   "execution_count": 43,
   "metadata": {},
   "outputs": [
    {
     "data": {
      "text/html": [
       "<div>\n",
       "<style scoped>\n",
       "    .dataframe tbody tr th:only-of-type {\n",
       "        vertical-align: middle;\n",
       "    }\n",
       "\n",
       "    .dataframe tbody tr th {\n",
       "        vertical-align: top;\n",
       "    }\n",
       "\n",
       "    .dataframe thead th {\n",
       "        text-align: right;\n",
       "    }\n",
       "</style>\n",
       "<table border=\"1\" class=\"dataframe\">\n",
       "  <thead>\n",
       "    <tr style=\"text-align: right;\">\n",
       "      <th></th>\n",
       "      <th>doc_body</th>\n",
       "      <th>doc_description</th>\n",
       "      <th>article_id</th>\n",
       "      <th>views</th>\n",
       "      <th>doc_name</th>\n",
       "      <th>users_accessed</th>\n",
       "      <th>doc_text</th>\n",
       "    </tr>\n",
       "  </thead>\n",
       "  <tbody>\n",
       "    <tr>\n",
       "      <th>0</th>\n",
       "      <td>Skip navigation Sign in SearchLoading...\\r\\n\\r\\nClose Yeah, keep it Undo CloseTHIS VID...</td>\n",
       "      <td>Detect bad readings in real time using Python and Streaming Analytics.</td>\n",
       "      <td>0.0</td>\n",
       "      <td>14</td>\n",
       "      <td>detect malfunctioning iot sensors with streaming analytics</td>\n",
       "      <td>[495, 495, 495, 503, 233, 552, 1347, 1051, 785, 2992, 3216, 3570, 4571, 4836]</td>\n",
       "      <td>Detect bad readings in real time using Python and Streaming Analytics. , detect malfun...</td>\n",
       "    </tr>\n",
       "    <tr>\n",
       "      <th>1</th>\n",
       "      <td>No Free Hunch Navigation * kaggle.com\\r\\n\\r\\n * kaggle.com\\r\\n\\r\\nCommunicating data s...</td>\n",
       "      <td>See the forest, see the trees. Here lies the challenge in both performing and presenti...</td>\n",
       "      <td>1.0</td>\n",
       "      <td>0</td>\n",
       "      <td>Communicating data science: A guide to presenting your work</td>\n",
       "      <td>[]</td>\n",
       "      <td>See the forest, see the trees. Here lies the challenge in both performing and presenti...</td>\n",
       "    </tr>\n",
       "  </tbody>\n",
       "</table>\n",
       "</div>"
      ],
      "text/plain": [
       "                                                                                    doc_body                                                                            doc_description  article_id  views                                                     doc_name                                                                 users_accessed                                                                                   doc_text\n",
       "0  Skip navigation Sign in SearchLoading...\\r\\n\\r\\nClose Yeah, keep it Undo CloseTHIS VID...                     Detect bad readings in real time using Python and Streaming Analytics.         0.0     14   detect malfunctioning iot sensors with streaming analytics  [495, 495, 495, 503, 233, 552, 1347, 1051, 785, 2992, 3216, 3570, 4571, 4836]  Detect bad readings in real time using Python and Streaming Analytics. , detect malfun...\n",
       "1  No Free Hunch Navigation * kaggle.com\\r\\n\\r\\n * kaggle.com\\r\\n\\r\\nCommunicating data s...  See the forest, see the trees. Here lies the challenge in both performing and presenti...         1.0      0  Communicating data science: A guide to presenting your work                                                                             []  See the forest, see the trees. Here lies the challenge in both performing and presenti..."
      ]
     },
     "execution_count": 43,
     "metadata": {},
     "output_type": "execute_result"
    }
   ],
   "source": [
    "# Replace NaN with the string 'none'\n",
    "metadata.fillna('none', inplace=True)\n",
    "\n",
    "# Create a new column that combines doc_name and doc_description \n",
    "metadata['doc_text'] = metadata['doc_description'] +  ' , ' + metadata['doc_name']\n",
    "\n",
    "# Check the output\n",
    "metadata.head(2)"
   ]
  },
  {
   "cell_type": "code",
   "execution_count": 44,
   "metadata": {},
   "outputs": [
    {
     "data": {
      "text/html": [
       "<div>\n",
       "<style scoped>\n",
       "    .dataframe tbody tr th:only-of-type {\n",
       "        vertical-align: middle;\n",
       "    }\n",
       "\n",
       "    .dataframe tbody tr th {\n",
       "        vertical-align: top;\n",
       "    }\n",
       "\n",
       "    .dataframe thead th {\n",
       "        text-align: right;\n",
       "    }\n",
       "</style>\n",
       "<table border=\"1\" class=\"dataframe\">\n",
       "  <thead>\n",
       "    <tr style=\"text-align: right;\">\n",
       "      <th></th>\n",
       "      <th>doc_body</th>\n",
       "      <th>doc_description</th>\n",
       "      <th>article_id</th>\n",
       "      <th>views</th>\n",
       "      <th>doc_name</th>\n",
       "      <th>users_accessed</th>\n",
       "      <th>doc_text</th>\n",
       "      <th>vectors</th>\n",
       "    </tr>\n",
       "  </thead>\n",
       "  <tbody>\n",
       "    <tr>\n",
       "      <th>0</th>\n",
       "      <td>Skip navigation Sign in SearchLoading...\\r\\n\\r\\nClose Yeah, keep it Undo CloseTHIS VID...</td>\n",
       "      <td>Detect bad readings in real time using Python and Streaming Analytics.</td>\n",
       "      <td>0.0</td>\n",
       "      <td>14</td>\n",
       "      <td>detect malfunctioning iot sensors with streaming analytics</td>\n",
       "      <td>[495, 495, 495, 503, 233, 552, 1347, 1051, 785, 2992, 3216, 3570, 4571, 4836]</td>\n",
       "      <td>Detect bad readings in real time using Python and Streaming Analytics. , detect malfun...</td>\n",
       "      <td>[-0.056983944, -0.0109135825, -0.0042920434, -0.010326301, 0.016904691, 0.0044431784, ...</td>\n",
       "    </tr>\n",
       "    <tr>\n",
       "      <th>1</th>\n",
       "      <td>No Free Hunch Navigation * kaggle.com\\r\\n\\r\\n * kaggle.com\\r\\n\\r\\nCommunicating data s...</td>\n",
       "      <td>See the forest, see the trees. Here lies the challenge in both performing and presenti...</td>\n",
       "      <td>1.0</td>\n",
       "      <td>0</td>\n",
       "      <td>Communicating data science: A guide to presenting your work</td>\n",
       "      <td>[]</td>\n",
       "      <td>See the forest, see the trees. Here lies the challenge in both performing and presenti...</td>\n",
       "      <td>[-0.044508077, 0.06600767, -0.035064492, -0.0024267777, 0.001408063, 0.0027797609, 0.0...</td>\n",
       "    </tr>\n",
       "  </tbody>\n",
       "</table>\n",
       "</div>"
      ],
      "text/plain": [
       "                                                                                    doc_body                                                                            doc_description  article_id  views                                                     doc_name                                                                 users_accessed                                                                                   doc_text                                                                                    vectors\n",
       "0  Skip navigation Sign in SearchLoading...\\r\\n\\r\\nClose Yeah, keep it Undo CloseTHIS VID...                     Detect bad readings in real time using Python and Streaming Analytics.         0.0     14   detect malfunctioning iot sensors with streaming analytics  [495, 495, 495, 503, 233, 552, 1347, 1051, 785, 2992, 3216, 3570, 4571, 4836]  Detect bad readings in real time using Python and Streaming Analytics. , detect malfun...  [-0.056983944, -0.0109135825, -0.0042920434, -0.010326301, 0.016904691, 0.0044431784, ...\n",
       "1  No Free Hunch Navigation * kaggle.com\\r\\n\\r\\n * kaggle.com\\r\\n\\r\\nCommunicating data s...  See the forest, see the trees. Here lies the challenge in both performing and presenti...         1.0      0  Communicating data science: A guide to presenting your work                                                                             []  See the forest, see the trees. Here lies the challenge in both performing and presenti...  [-0.044508077, 0.06600767, -0.035064492, -0.0024267777, 0.001408063, 0.0027797609, 0.0..."
      ]
     },
     "execution_count": 44,
     "metadata": {},
     "output_type": "execute_result"
    }
   ],
   "source": [
    "# Install packages to generate the BERT embeddings\n",
    "from sentence_transformers import SentenceTransformer\n",
    "\n",
    "# Transform the documents into 768-dim real vectors\n",
    "model = SentenceTransformer('all-mpnet-base-v2')\n",
    "metadata['vectors'] = metadata['doc_text'].apply(lambda x: model.encode(x))\n",
    "\n",
    "# Check the output\n",
    "metadata.head(2)"
   ]
  },
  {
   "cell_type": "markdown",
   "metadata": {},
   "source": [
    "### <font color='darkblue'>Clustering with HDBSAN</font>"
   ]
  },
  {
   "cell_type": "code",
   "execution_count": 45,
   "metadata": {},
   "outputs": [],
   "source": [
    "import umap\n",
    "\n",
    "# Reduce the dimensionality of the vectors to 5 while keeping the size of the local neighborhood to 15\n",
    "embeddings = umap.UMAP(n_neighbors=15,\n",
    "                       n_components=5,\n",
    "                       metric='cosine').fit_transform(list(metadata.vectors))"
   ]
  },
  {
   "cell_type": "code",
   "execution_count": 46,
   "metadata": {},
   "outputs": [
    {
     "data": {
      "text/html": [
       "<div>\n",
       "<style scoped>\n",
       "    .dataframe tbody tr th:only-of-type {\n",
       "        vertical-align: middle;\n",
       "    }\n",
       "\n",
       "    .dataframe tbody tr th {\n",
       "        vertical-align: top;\n",
       "    }\n",
       "\n",
       "    .dataframe thead th {\n",
       "        text-align: right;\n",
       "    }\n",
       "</style>\n",
       "<table border=\"1\" class=\"dataframe\">\n",
       "  <thead>\n",
       "    <tr style=\"text-align: right;\">\n",
       "      <th></th>\n",
       "      <th>doc_body</th>\n",
       "      <th>doc_description</th>\n",
       "      <th>article_id</th>\n",
       "      <th>views</th>\n",
       "      <th>doc_name</th>\n",
       "      <th>users_accessed</th>\n",
       "      <th>doc_text</th>\n",
       "      <th>vectors</th>\n",
       "      <th>umap_embed</th>\n",
       "    </tr>\n",
       "  </thead>\n",
       "  <tbody>\n",
       "    <tr>\n",
       "      <th>0</th>\n",
       "      <td>Skip navigation Sign in SearchLoading...\\r\\n\\r\\nClose Yeah, keep it Undo CloseTHIS VID...</td>\n",
       "      <td>Detect bad readings in real time using Python and Streaming Analytics.</td>\n",
       "      <td>0.0</td>\n",
       "      <td>14</td>\n",
       "      <td>detect malfunctioning iot sensors with streaming analytics</td>\n",
       "      <td>[495, 495, 495, 503, 233, 552, 1347, 1051, 785, 2992, 3216, 3570, 4571, 4836]</td>\n",
       "      <td>Detect bad readings in real time using Python and Streaming Analytics. , detect malfun...</td>\n",
       "      <td>[-0.056983944, -0.0109135825, -0.0042920434, -0.010326301, 0.016904691, 0.0044431784, ...</td>\n",
       "      <td>[1.239950180053711, -0.8587175011634827, 4.635855674743652, 4.153340816497803, 3.36218...</td>\n",
       "    </tr>\n",
       "    <tr>\n",
       "      <th>1</th>\n",
       "      <td>No Free Hunch Navigation * kaggle.com\\r\\n\\r\\n * kaggle.com\\r\\n\\r\\nCommunicating data s...</td>\n",
       "      <td>See the forest, see the trees. Here lies the challenge in both performing and presenti...</td>\n",
       "      <td>1.0</td>\n",
       "      <td>0</td>\n",
       "      <td>Communicating data science: A guide to presenting your work</td>\n",
       "      <td>[]</td>\n",
       "      <td>See the forest, see the trees. Here lies the challenge in both performing and presenti...</td>\n",
       "      <td>[-0.044508077, 0.06600767, -0.035064492, -0.0024267777, 0.001408063, 0.0027797609, 0.0...</td>\n",
       "      <td>[0.7916058301925659, 0.8479644060134888, 4.492250442504883, 2.728168249130249, 2.64139...</td>\n",
       "    </tr>\n",
       "  </tbody>\n",
       "</table>\n",
       "</div>"
      ],
      "text/plain": [
       "                                                                                    doc_body                                                                            doc_description  article_id  views                                                     doc_name                                                                 users_accessed                                                                                   doc_text                                                                                    vectors                                                                                 umap_embed\n",
       "0  Skip navigation Sign in SearchLoading...\\r\\n\\r\\nClose Yeah, keep it Undo CloseTHIS VID...                     Detect bad readings in real time using Python and Streaming Analytics.         0.0     14   detect malfunctioning iot sensors with streaming analytics  [495, 495, 495, 503, 233, 552, 1347, 1051, 785, 2992, 3216, 3570, 4571, 4836]  Detect bad readings in real time using Python and Streaming Analytics. , detect malfun...  [-0.056983944, -0.0109135825, -0.0042920434, -0.010326301, 0.016904691, 0.0044431784, ...  [1.239950180053711, -0.8587175011634827, 4.635855674743652, 4.153340816497803, 3.36218...\n",
       "1  No Free Hunch Navigation * kaggle.com\\r\\n\\r\\n * kaggle.com\\r\\n\\r\\nCommunicating data s...  See the forest, see the trees. Here lies the challenge in both performing and presenti...         1.0      0  Communicating data science: A guide to presenting your work                                                                             []  See the forest, see the trees. Here lies the challenge in both performing and presenti...  [-0.044508077, 0.06600767, -0.035064492, -0.0024267777, 0.001408063, 0.0027797609, 0.0...  [0.7916058301925659, 0.8479644060134888, 4.492250442504883, 2.728168249130249, 2.64139..."
      ]
     },
     "execution_count": 46,
     "metadata": {},
     "output_type": "execute_result"
    }
   ],
   "source": [
    "# Add the embeddings to the dataframe\n",
    "metadata['umap_embed'] = embeddings.tolist()\n",
    "\n",
    "# Check the output\n",
    "metadata.head(2)"
   ]
  },
  {
   "cell_type": "code",
   "execution_count": 47,
   "metadata": {},
   "outputs": [],
   "source": [
    "# Cluster the documents with HDBSCAN\n",
    "import hdbscan\n",
    "\n",
    "cluster = hdbscan.HDBSCAN(min_cluster_size=10,\n",
    "                          metric='euclidean',                      \n",
    "                          cluster_selection_method='eom').fit(embeddings)"
   ]
  },
  {
   "cell_type": "code",
   "execution_count": 51,
   "metadata": {},
   "outputs": [
    {
     "data": {
      "image/png": "[encoded data removed]",
      "text/plain": [
       "<Figure size 864x432 with 2 Axes>"
      ]
     },
     "metadata": {},
     "output_type": "display_data"
    }
   ],
   "source": [
    "# Visualize the resulting clusters\n",
    "\n",
    "# Prepare data by creating a 2-dim embedding for each 768-dim vector\n",
    "umap_data = umap.UMAP(\n",
    "    n_neighbors=15, n_components=2, \n",
    "    min_dist=0.0, metric='cosine').fit_transform(list(metadata.vectors))\n",
    "\n",
    "result = pd.DataFrame(umap_data, columns=['x', 'y'])\n",
    "result['labels'] = cluster.labels_\n",
    "\n",
    "# Visualize the clusters clusters\n",
    "fig, ax = plt.subplots(figsize=(12, 6))\n",
    "# Define the outliers and the clusters\n",
    "outliers = result.loc[result.labels == -1, :]\n",
    "clustered = result.loc[result.labels != -1, :]\n",
    "\n",
    "#Create the plot\n",
    "plt.scatter(outliers.x, outliers.y, color='#BDBDBD', s=1.0),\n",
    "plt.scatter(clustered.x, clustered.y, c=clustered.labels, s=1.8, cmap='hsv_r')\n",
    "plt.colorbar();\n",
    "plt.title('Visualization of Document Clusters in 2 Dimensions');"
   ]
  },
  {
   "cell_type": "code",
   "execution_count": 52,
   "metadata": {},
   "outputs": [
    {
     "data": {
      "text/html": [
       "<div>\n",
       "<style scoped>\n",
       "    .dataframe tbody tr th:only-of-type {\n",
       "        vertical-align: middle;\n",
       "    }\n",
       "\n",
       "    .dataframe tbody tr th {\n",
       "        vertical-align: top;\n",
       "    }\n",
       "\n",
       "    .dataframe thead th {\n",
       "        text-align: right;\n",
       "    }\n",
       "</style>\n",
       "<table border=\"1\" class=\"dataframe\">\n",
       "  <thead>\n",
       "    <tr style=\"text-align: right;\">\n",
       "      <th></th>\n",
       "      <th>doc_body</th>\n",
       "      <th>doc_description</th>\n",
       "      <th>article_id</th>\n",
       "      <th>views</th>\n",
       "      <th>doc_name</th>\n",
       "      <th>users_accessed</th>\n",
       "      <th>doc_text</th>\n",
       "      <th>vectors</th>\n",
       "      <th>umap_embed</th>\n",
       "      <th>labels</th>\n",
       "    </tr>\n",
       "  </thead>\n",
       "  <tbody>\n",
       "    <tr>\n",
       "      <th>0</th>\n",
       "      <td>Skip navigation Sign in SearchLoading...\\r\\n\\r\\nClose Yeah, keep it Undo CloseTHIS VID...</td>\n",
       "      <td>Detect bad readings in real time using Python and Streaming Analytics.</td>\n",
       "      <td>0.0</td>\n",
       "      <td>14</td>\n",
       "      <td>detect malfunctioning iot sensors with streaming analytics</td>\n",
       "      <td>[495, 495, 495, 503, 233, 552, 1347, 1051, 785, 2992, 3216, 3570, 4571, 4836]</td>\n",
       "      <td>Detect bad readings in real time using Python and Streaming Analytics. , detect malfun...</td>\n",
       "      <td>[-0.056983944, -0.0109135825, -0.0042920434, -0.010326301, 0.016904691, 0.0044431784, ...</td>\n",
       "      <td>[1.239950180053711, -0.8587175011634827, 4.635855674743652, 4.153340816497803, 3.36218...</td>\n",
       "      <td>4</td>\n",
       "    </tr>\n",
       "    <tr>\n",
       "      <th>1</th>\n",
       "      <td>No Free Hunch Navigation * kaggle.com\\r\\n\\r\\n * kaggle.com\\r\\n\\r\\nCommunicating data s...</td>\n",
       "      <td>See the forest, see the trees. Here lies the challenge in both performing and presenti...</td>\n",
       "      <td>1.0</td>\n",
       "      <td>0</td>\n",
       "      <td>Communicating data science: A guide to presenting your work</td>\n",
       "      <td>[]</td>\n",
       "      <td>See the forest, see the trees. Here lies the challenge in both performing and presenti...</td>\n",
       "      <td>[-0.044508077, 0.06600767, -0.035064492, -0.0024267777, 0.001408063, 0.0027797609, 0.0...</td>\n",
       "      <td>[0.7916058301925659, 0.8479644060134888, 4.492250442504883, 2.728168249130249, 2.64139...</td>\n",
       "      <td>4</td>\n",
       "    </tr>\n",
       "  </tbody>\n",
       "</table>\n",
       "</div>"
      ],
      "text/plain": [
       "                                                                                    doc_body                                                                            doc_description  article_id  views                                                     doc_name                                                                 users_accessed                                                                                   doc_text                                                                                    vectors                                                                                 umap_embed  labels\n",
       "0  Skip navigation Sign in SearchLoading...\\r\\n\\r\\nClose Yeah, keep it Undo CloseTHIS VID...                     Detect bad readings in real time using Python and Streaming Analytics.         0.0     14   detect malfunctioning iot sensors with streaming analytics  [495, 495, 495, 503, 233, 552, 1347, 1051, 785, 2992, 3216, 3570, 4571, 4836]  Detect bad readings in real time using Python and Streaming Analytics. , detect malfun...  [-0.056983944, -0.0109135825, -0.0042920434, -0.010326301, 0.016904691, 0.0044431784, ...  [1.239950180053711, -0.8587175011634827, 4.635855674743652, 4.153340816497803, 3.36218...       4\n",
       "1  No Free Hunch Navigation * kaggle.com\\r\\n\\r\\n * kaggle.com\\r\\n\\r\\nCommunicating data s...  See the forest, see the trees. Here lies the challenge in both performing and presenti...         1.0      0  Communicating data science: A guide to presenting your work                                                                             []  See the forest, see the trees. Here lies the challenge in both performing and presenti...  [-0.044508077, 0.06600767, -0.035064492, -0.0024267777, 0.001408063, 0.0027797609, 0.0...  [0.7916058301925659, 0.8479644060134888, 4.492250442504883, 2.728168249130249, 2.64139...       4"
      ]
     },
     "execution_count": 52,
     "metadata": {},
     "output_type": "execute_result"
    }
   ],
   "source": [
    "# Add the topic labels to the dataframe\n",
    "metadata['labels'] = cluster.labels_.tolist()\n",
    "\n",
    "# Check the output\n",
    "metadata.head(2)"
   ]
  },
  {
   "cell_type": "code",
   "execution_count": 53,
   "metadata": {},
   "outputs": [
    {
     "data": {
      "image/png": "[encoded data removed]",
      "text/plain": [
       "<Figure size 432x288 with 1 Axes>"
      ]
     },
     "metadata": {},
     "output_type": "display_data"
    }
   ],
   "source": [
    "# Visualize the distribution articles by topics\n",
    "\n",
    "# adjust figure size and font size\n",
    "sns.set(rc = {'figure.figsize':(6,4)})\n",
    "sns.set(font_scale=1)\n",
    "\n",
    "# pad margins so that markers don't get clipped by the axes\n",
    "plt.margins(x=0.2, y=0.2, tight=True);\n",
    "\n",
    "# plot the page distribution\n",
    "ax = sns.countplot(x='labels', data=metadata, color=colors[4])\n",
    "ax.bar_label(ax.containers[0]);\n",
    "\n",
    "# Add labels and title\n",
    "plt.title('Distributions of topics obtained with HDBSAN')\n",
    "plt.xlabel('Topic Label')\n",
    "plt.ylabel('Count')\n",
    "plt.show()"
   ]
  },
  {
   "cell_type": "markdown",
   "metadata": {},
   "source": [
    "### <font color='darkblue'>Topic extraction</font>"
   ]
  },
  {
   "cell_type": "code",
   "execution_count": 54,
   "metadata": {},
   "outputs": [
    {
     "data": {
      "text/html": [
       "<div>\n",
       "<style scoped>\n",
       "    .dataframe tbody tr th:only-of-type {\n",
       "        vertical-align: middle;\n",
       "    }\n",
       "\n",
       "    .dataframe tbody tr th {\n",
       "        vertical-align: top;\n",
       "    }\n",
       "\n",
       "    .dataframe thead th {\n",
       "        text-align: right;\n",
       "    }\n",
       "</style>\n",
       "<table border=\"1\" class=\"dataframe\">\n",
       "  <thead>\n",
       "    <tr style=\"text-align: right;\">\n",
       "      <th></th>\n",
       "      <th>labels</th>\n",
       "      <th>doc_text</th>\n",
       "    </tr>\n",
       "  </thead>\n",
       "  <tbody>\n",
       "    <tr>\n",
       "      <th>0</th>\n",
       "      <td>0</td>\n",
       "      <td>Here’s this week’s news in Data Science and Big Data.  , This Week in Data Science (Se...</td>\n",
       "    </tr>\n",
       "    <tr>\n",
       "      <th>1</th>\n",
       "      <td>1</td>\n",
       "      <td>Here’s this week’s news in Data Science and Big Data. , this week in data science (apr...</td>\n",
       "    </tr>\n",
       "    <tr>\n",
       "      <th>2</th>\n",
       "      <td>2</td>\n",
       "      <td>none , adolescent fertility rate (births per 1,000 women ages 15-19), worldwide none ,...</td>\n",
       "    </tr>\n",
       "    <tr>\n",
       "      <th>3</th>\n",
       "      <td>3</td>\n",
       "      <td>Data products have always been an instrumental part of Airbnb’s service. However, we h...</td>\n",
       "    </tr>\n",
       "    <tr>\n",
       "      <th>4</th>\n",
       "      <td>4</td>\n",
       "      <td>Detect bad readings in real time using Python and Streaming Analytics. , detect malfun...</td>\n",
       "    </tr>\n",
       "  </tbody>\n",
       "</table>\n",
       "</div>"
      ],
      "text/plain": [
       "   labels                                                                                   doc_text\n",
       "0       0  Here’s this week’s news in Data Science and Big Data.  , This Week in Data Science (Se...\n",
       "1       1  Here’s this week’s news in Data Science and Big Data. , this week in data science (apr...\n",
       "2       2  none , adolescent fertility rate (births per 1,000 women ages 15-19), worldwide none ,...\n",
       "3       3  Data products have always been an instrumental part of Airbnb’s service. However, we h...\n",
       "4       4  Detect bad readings in real time using Python and Streaming Analytics. , detect malfun..."
      ]
     },
     "execution_count": 54,
     "metadata": {},
     "output_type": "execute_result"
    }
   ],
   "source": [
    "# Create a single combined document for each cluster of documents\n",
    "docs_df = metadata[['doc_text', 'labels']].copy()\n",
    "#docs_df['doc_id'] = range(len(docs_df))\n",
    "docs_per_topic = docs_df.groupby(['labels'], as_index=False).agg({'doc_text': ' '.join})\n",
    "docs_per_topic"
   ]
  },
  {
   "cell_type": "markdown",
   "metadata": {},
   "source": [
    "<div class=\"alert alert-block alert-info\">\n",
    "\n",
    "<b>NOTES</b>:\n",
    "    <ul>We use the class based TF-IDF vectorizer to output a np.array, instead of a sparse matrix,\n",
    "        the TfidfVectorizer would output.\n",
    "    </ul>\n",
    "</div>"
   ]
  },
  {
   "cell_type": "code",
   "execution_count": 91,
   "metadata": {},
   "outputs": [],
   "source": [
    "# Apply the class-based TF-IDF vectorizer\n",
    "\n",
    "def ctfidf(documents, m, ngram_range=(1, 1)):\n",
    "    '''\n",
    "    Compute tfidf vector for each class document.\n",
    "    INPUT:\n",
    "        documents (list) - corpus of documents\n",
    "        m (int) - number of documents, i.e. number of topics\n",
    "        ngram_range (tuple) - specify n-grams values\n",
    "    OUTPUT: \n",
    "        tf_idf (np.array) - contains tf_idf scores of each word\n",
    "        count (CountVectorizer) - instance of sklearn count vectorizer\n",
    "    '''\n",
    "    \n",
    "    # Create a list of tokens, remove stopwords\n",
    "    #count = CountVectorizer(\n",
    "        #ngram_range=ngram_range,\n",
    "        #stop_words=\"english\").fit(documents)\n",
    "    \n",
    "    count = CountVectorizer(\n",
    "        tokenizer=tokenize,\n",
    "        ngram_range=ngram_range).fit(documents)\n",
    "    \n",
    "    # Count frequency of each word for each class\n",
    "    t = count.transform(documents).toarray()\n",
    "    \n",
    "    # The total number of words in the corpus\n",
    "    w = t.sum(axis=1)\n",
    "    \n",
    "    # Divide count frequency by total word count \n",
    "    tf = np.divide(t.T, w) # term frequency\n",
    "    \n",
    "    # The total number of words in the document\n",
    "    sum_t = t.sum(axis=0)\n",
    "    \n",
    "    # Compute inverse-document-frequency\n",
    "    idf = np.log(np.divide(m, sum_t)).reshape(-1, 1)\n",
    "    \n",
    "    # Compute tf-idf score for each word\n",
    "    tf_idf = np.multiply(tf, idf)\n",
    "\n",
    "    return tf_idf, count"
   ]
  },
  {
   "cell_type": "code",
   "execution_count": 92,
   "metadata": {},
   "outputs": [],
   "source": [
    "# Apply the class tfidf to the text corpus\n",
    "tf_idf, count = ctfidf(docs_per_topic.doc_text.values, m=len(docs_df))"
   ]
  },
  {
   "cell_type": "code",
   "execution_count": 60,
   "metadata": {},
   "outputs": [
    {
     "data": {
      "text/plain": [
       "sklearn.feature_extraction.text.CountVectorizer"
      ]
     },
     "execution_count": 60,
     "metadata": {},
     "output_type": "execute_result"
    }
   ],
   "source": [
    "type(count)"
   ]
  },
  {
   "cell_type": "code",
   "execution_count": 61,
   "metadata": {},
   "outputs": [],
   "source": [
    "# Create an instance of the TF-IDF vectorizer\n",
    "tfidf = TfidfVectorizer(tokenizer=tokenize)\n",
    "\n",
    "# Construct the TF-IDF matrix \n",
    "tfidf_matrix = tfidf.fit_transform(docs_per_topic['doc_text'])"
   ]
  },
  {
   "cell_type": "code",
   "execution_count": 69,
   "metadata": {},
   "outputs": [
    {
     "data": {
      "text/plain": [
       "<5x4211 sparse matrix of type '<class 'numpy.float64'>'\n",
       "\twith 4466 stored elements in Compressed Sparse Row format>"
      ]
     },
     "execution_count": 69,
     "metadata": {},
     "output_type": "execute_result"
    }
   ],
   "source": [
    "tfidf_matrix"
   ]
  },
  {
   "cell_type": "code",
   "execution_count": 62,
   "metadata": {},
   "outputs": [],
   "source": [
    "words=tfidf.get_feature_names()"
   ]
  },
  {
   "cell_type": "code",
   "execution_count": 66,
   "metadata": {},
   "outputs": [],
   "source": [
    "labels=list(docs_per_topic.labels)"
   ]
  },
  {
   "cell_type": "code",
   "execution_count": 70,
   "metadata": {},
   "outputs": [],
   "source": [
    "def extract_top_n_words_per_topic(tfidf_matrix, tfidf, docs_per_topic, n=20):\n",
    "    words = count.get_feature_names()\n",
    "    labels = list(docs_per_topic.labels)\n",
    "    tf_idf_transposed = tfidf_matrix.T\n",
    "    indices = tf_idf_transposed.argsort()[:, -n:]\n",
    "    top_n_words = {label: [(words[j], tf_idf_transposed[i][j]) for j in indices[i]][::-1] for i,\n",
    "                   label in enumerate(labels)}\n",
    "    return top_n_words"
   ]
  },
  {
   "cell_type": "code",
   "execution_count": 71,
   "metadata": {},
   "outputs": [
    {
     "ename": "AttributeError",
     "evalue": "argsort not found",
     "output_type": "error",
     "traceback": [
      "\u001b[0;31m---------------------------------------------------------------------------\u001b[0m",
      "\u001b[0;31mAttributeError\u001b[0m                            Traceback (most recent call last)",
      "\u001b[0;32m/tmp/ipykernel_6724/3282209917.py\u001b[0m in \u001b[0;36m<module>\u001b[0;34m\u001b[0m\n\u001b[0;32m----> 1\u001b[0;31m \u001b[0mtop_n_words\u001b[0m \u001b[0;34m=\u001b[0m \u001b[0mextract_top_n_words_per_topic\u001b[0m\u001b[0;34m(\u001b[0m\u001b[0mtfidf_matrix\u001b[0m\u001b[0;34m,\u001b[0m \u001b[0mtfidf\u001b[0m\u001b[0;34m,\u001b[0m \u001b[0mdocs_per_topic\u001b[0m\u001b[0;34m,\u001b[0m \u001b[0mn\u001b[0m\u001b[0;34m=\u001b[0m\u001b[0;36m20\u001b[0m\u001b[0;34m)\u001b[0m\u001b[0;34m\u001b[0m\u001b[0;34m\u001b[0m\u001b[0m\n\u001b[0m",
      "\u001b[0;32m/tmp/ipykernel_6724/2492837089.py\u001b[0m in \u001b[0;36mextract_top_n_words_per_topic\u001b[0;34m(tfidf_matrix, tfidf, docs_per_topic, n)\u001b[0m\n\u001b[1;32m      3\u001b[0m     \u001b[0mlabels\u001b[0m \u001b[0;34m=\u001b[0m \u001b[0mlist\u001b[0m\u001b[0;34m(\u001b[0m\u001b[0mdocs_per_topic\u001b[0m\u001b[0;34m.\u001b[0m\u001b[0mlabels\u001b[0m\u001b[0;34m)\u001b[0m\u001b[0;34m\u001b[0m\u001b[0;34m\u001b[0m\u001b[0m\n\u001b[1;32m      4\u001b[0m     \u001b[0mtf_idf_transposed\u001b[0m \u001b[0;34m=\u001b[0m \u001b[0mtfidf_matrix\u001b[0m\u001b[0;34m.\u001b[0m\u001b[0mT\u001b[0m\u001b[0;34m\u001b[0m\u001b[0;34m\u001b[0m\u001b[0m\n\u001b[0;32m----> 5\u001b[0;31m     \u001b[0mindices\u001b[0m \u001b[0;34m=\u001b[0m \u001b[0mtf_idf_transposed\u001b[0m\u001b[0;34m.\u001b[0m\u001b[0margsort\u001b[0m\u001b[0;34m(\u001b[0m\u001b[0;34m)\u001b[0m\u001b[0;34m[\u001b[0m\u001b[0;34m:\u001b[0m\u001b[0;34m,\u001b[0m \u001b[0;34m-\u001b[0m\u001b[0mn\u001b[0m\u001b[0;34m:\u001b[0m\u001b[0;34m]\u001b[0m\u001b[0;34m\u001b[0m\u001b[0;34m\u001b[0m\u001b[0m\n\u001b[0m\u001b[1;32m      6\u001b[0m     top_n_words = {label: [(words[j], tf_idf_transposed[i][j]) for j in indices[i]][::-1] for i,\n\u001b[1;32m      7\u001b[0m                    label in enumerate(labels)}\n",
      "\u001b[0;32m~/anaconda3/envs/nlpenv/lib/python3.9/site-packages/scipy/sparse/base.py\u001b[0m in \u001b[0;36m__getattr__\u001b[0;34m(self, attr)\u001b[0m\n\u001b[1;32m    685\u001b[0m             \u001b[0;32mreturn\u001b[0m \u001b[0mself\u001b[0m\u001b[0;34m.\u001b[0m\u001b[0mgetnnz\u001b[0m\u001b[0;34m(\u001b[0m\u001b[0;34m)\u001b[0m\u001b[0;34m\u001b[0m\u001b[0;34m\u001b[0m\u001b[0m\n\u001b[1;32m    686\u001b[0m         \u001b[0;32melse\u001b[0m\u001b[0;34m:\u001b[0m\u001b[0;34m\u001b[0m\u001b[0;34m\u001b[0m\u001b[0m\n\u001b[0;32m--> 687\u001b[0;31m             \u001b[0;32mraise\u001b[0m \u001b[0mAttributeError\u001b[0m\u001b[0;34m(\u001b[0m\u001b[0mattr\u001b[0m \u001b[0;34m+\u001b[0m \u001b[0;34m\" not found\"\u001b[0m\u001b[0;34m)\u001b[0m\u001b[0;34m\u001b[0m\u001b[0;34m\u001b[0m\u001b[0m\n\u001b[0m\u001b[1;32m    688\u001b[0m \u001b[0;34m\u001b[0m\u001b[0m\n\u001b[1;32m    689\u001b[0m     \u001b[0;32mdef\u001b[0m \u001b[0mtranspose\u001b[0m\u001b[0;34m(\u001b[0m\u001b[0mself\u001b[0m\u001b[0;34m,\u001b[0m \u001b[0maxes\u001b[0m\u001b[0;34m=\u001b[0m\u001b[0;32mNone\u001b[0m\u001b[0;34m,\u001b[0m \u001b[0mcopy\u001b[0m\u001b[0;34m=\u001b[0m\u001b[0;32mFalse\u001b[0m\u001b[0;34m)\u001b[0m\u001b[0;34m:\u001b[0m\u001b[0;34m\u001b[0m\u001b[0;34m\u001b[0m\u001b[0m\n",
      "\u001b[0;31mAttributeError\u001b[0m: argsort not found"
     ]
    }
   ],
   "source": [
    "top_n_words = extract_top_n_words_per_topic(tfidf_matrix, tfidf, docs_per_topic, n=20)"
   ]
  },
  {
   "cell_type": "code",
   "execution_count": 93,
   "metadata": {},
   "outputs": [],
   "source": [
    "def extract_top_n_words_per_topic(tf_idf, count, docs_per_topic, n=20):\n",
    "    words = count.get_feature_names()\n",
    "    labels = list(docs_per_topic.labels)\n",
    "    tf_idf_transposed = tf_idf.T\n",
    "    indices = tf_idf_transposed.argsort()[:, -n:]\n",
    "    top_n_words = {label: [(words[j], tf_idf_transposed[i][j]) for j in indices[i]][::-1] for i,\n",
    "                   label in enumerate(labels)}\n",
    "    return top_n_words"
   ]
  },
  {
   "cell_type": "code",
   "execution_count": 81,
   "metadata": {},
   "outputs": [
    {
     "data": {
      "text/plain": [
       "21055"
      ]
     },
     "execution_count": 81,
     "metadata": {},
     "output_type": "execute_result"
    }
   ],
   "source": [
    "tf_idf.size"
   ]
  },
  {
   "cell_type": "code",
   "execution_count": 97,
   "metadata": {},
   "outputs": [
    {
     "ename": "NameError",
     "evalue": "name 'nltk' is not defined",
     "output_type": "error",
     "traceback": [
      "\u001b[0;31m---------------------------------------------------------------------------\u001b[0m",
      "\u001b[0;31mNameError\u001b[0m                                 Traceback (most recent call last)",
      "\u001b[0;32m/tmp/ipykernel_6724/2591161906.py\u001b[0m in \u001b[0;36m<module>\u001b[0;34m\u001b[0m\n\u001b[0;32m----> 1\u001b[0;31m \u001b[0mstopwords\u001b[0m \u001b[0;34m=\u001b[0m \u001b[0mnltk\u001b[0m\u001b[0;34m.\u001b[0m\u001b[0mcorpus\u001b[0m\u001b[0;34m.\u001b[0m\u001b[0mstopwords\u001b[0m\u001b[0;34m.\u001b[0m\u001b[0mwords\u001b[0m\u001b[0;34m(\u001b[0m\u001b[0;34m'english'\u001b[0m\u001b[0;34m)\u001b[0m\u001b[0;34m\u001b[0m\u001b[0;34m\u001b[0m\u001b[0m\n\u001b[0m\u001b[1;32m      2\u001b[0m \u001b[0mnewStopWords\u001b[0m \u001b[0;34m=\u001b[0m \u001b[0;34m[\u001b[0m\u001b[0;34m'stopWord1'\u001b[0m\u001b[0;34m,\u001b[0m\u001b[0;34m'stopWord2'\u001b[0m\u001b[0;34m]\u001b[0m\u001b[0;34m\u001b[0m\u001b[0;34m\u001b[0m\u001b[0m\n\u001b[1;32m      3\u001b[0m \u001b[0mstopwords\u001b[0m\u001b[0;34m.\u001b[0m\u001b[0mextend\u001b[0m\u001b[0;34m(\u001b[0m\u001b[0mnewStopWords\u001b[0m\u001b[0;34m)\u001b[0m\u001b[0;34m\u001b[0m\u001b[0;34m\u001b[0m\u001b[0m\n\u001b[1;32m      4\u001b[0m \u001b[0;34m\u001b[0m\u001b[0m\n\u001b[1;32m      5\u001b[0m \u001b[0mstopwords\u001b[0m \u001b[0;34m=\u001b[0m \u001b[0mnltk\u001b[0m\u001b[0;34m.\u001b[0m\u001b[0mcorpus\u001b[0m\u001b[0;34m.\u001b[0m\u001b[0mstopwords\u001b[0m\u001b[0;34m.\u001b[0m\u001b[0mwords\u001b[0m\u001b[0;34m(\u001b[0m\u001b[0;34m'english'\u001b[0m\u001b[0;34m)\u001b[0m\u001b[0;34m\u001b[0m\u001b[0;34m\u001b[0m\u001b[0m\n",
      "\u001b[0;31mNameError\u001b[0m: name 'nltk' is not defined"
     ]
    }
   ],
   "source": [
    "stopwords = nltk.corpus.stopwords.words('english')\n",
    "newStopWords = ['stopWord1','stopWord2']\n",
    "stopwords.extend(newStopWords)\n",
    "\n",
    "stopwords = nltk.corpus.stopwords.words('english')\n",
    "stopwords.append('newWord')"
   ]
  },
  {
   "cell_type": "code",
   "execution_count": 73,
   "metadata": {},
   "outputs": [],
   "source": [
    "def extract_topic_sizes(df):\n",
    "    topic_sizes = (df.groupby(['labels'])\n",
    "                     .doc_text\n",
    "                     .count()\n",
    "                     .reset_index()\n",
    "                     .rename({\"topic\": \"topic\", \"doc_text\": \"size\"}, axis='columns')\n",
    "                     .sort_values(\"size\", ascending=False))\n",
    "    return topic_sizes"
   ]
  },
  {
   "cell_type": "code",
   "execution_count": 94,
   "metadata": {},
   "outputs": [],
   "source": [
    "top_n_words = extract_top_n_words_per_topic(tf_idf, count, docs_per_topic, n=20)\n",
    "#topic_sizes = extract_topic_sizes(docs_df); topic_sizes.head()"
   ]
  },
  {
   "cell_type": "code",
   "execution_count": 95,
   "metadata": {},
   "outputs": [
    {
     "data": {
      "text/plain": [
       "[('ibm', 0.01940209675929379),\n",
       " ('using', 0.017402415003821368),\n",
       " ('cloudant', 0.017196753962416364),\n",
       " ('database', 0.016664828093587956),\n",
       " ('compose', 0.016565437778961464),\n",
       " ('learning', 0.016515367751941432),\n",
       " ('use', 0.015740854919239135),\n",
       " ('spark', 0.014638668952132701),\n",
       " ('machine', 0.01405151488705205),\n",
       " ('watson', 0.01334761317088438),\n",
       " ('science', 0.013289244358899532),\n",
       " ('python', 0.011783681445485418),\n",
       " ('cloud', 0.011722915082391303),\n",
       " ('r', 0.011620082493949274)]"
      ]
     },
     "execution_count": 95,
     "metadata": {},
     "output_type": "execute_result"
    }
   ],
   "source": [
    "top_n_words[4][:14]"
   ]
  },
  {
   "cell_type": "code",
   "execution_count": null,
   "metadata": {},
   "outputs": [],
   "source": []
  },
  {
   "cell_type": "code",
   "execution_count": 115,
   "metadata": {},
   "outputs": [
    {
     "data": {
      "text/plain": [
       "[('ibm', 0.020916804182277444),\n",
       " ('using', 0.018761008743000813),\n",
       " ('cloudant', 0.018539291895365198),\n",
       " ('compose', 0.017858689321826157),\n",
       " ('learning', 0.017804710364625168),\n",
       " ('use', 0.01696973188475882),\n",
       " ('spark', 0.015781499069902036),\n",
       " ('machine', 0.014995175433849655),\n",
       " ('database', 0.014499971111405233),\n",
       " ('watson', 0.014389651513434574)]"
      ]
     },
     "execution_count": 115,
     "metadata": {},
     "output_type": "execute_result"
    }
   ],
   "source": [
    "top_n_words[4][:10]"
   ]
  },
  {
   "cell_type": "code",
   "execution_count": 96,
   "metadata": {},
   "outputs": [
    {
     "data": {
      "text/plain": [
       "[('country', 0.26655789674114894),\n",
       " ('none', 0.2479787516695963),\n",
       " ('statistic', 0.15556625323895193),\n",
       " ('population', 0.08051437703276165),\n",
       " ('rate', 0.07313047390234732),\n",
       " ('worldwide', 0.07058751623777522),\n",
       " ('demographic', 0.07058751623777522),\n",
       " ('measure', 0.06417046930706838),\n",
       " ('united', 0.06193413617904742),\n",
       " ('total', 0.06017114159879711)]"
      ]
     },
     "execution_count": 96,
     "metadata": {},
     "output_type": "execute_result"
    }
   ],
   "source": [
    "top_n_words[2][:10]"
   ]
  },
  {
   "cell_type": "code",
   "execution_count": 83,
   "metadata": {},
   "outputs": [
    {
     "data": {
      "text/plain": [
       "[('country', 0.3258899326769857),\n",
       " ('statistics', 0.19019311157037166),\n",
       " ('population', 0.09243579732075376),\n",
       " ('worldwide', 0.08629930381279557),\n",
       " ('rate', 0.08329178346697753),\n",
       " ('measures', 0.08001381730020186),\n",
       " ('demographic', 0.08001381730020186),\n",
       " ('states', 0.07571980315179776),\n",
       " ('united', 0.07571980315179776),\n",
       " ('total', 0.07356439079263738)]"
      ]
     },
     "execution_count": 83,
     "metadata": {},
     "output_type": "execute_result"
    }
   ],
   "source": [
    "top_n_words[2][:10]"
   ]
  },
  {
   "cell_type": "code",
   "execution_count": 84,
   "metadata": {},
   "outputs": [
    {
     "data": {
      "text/plain": [
       "[('airbnb', 0.5102910888887304),\n",
       " ('analytics', 0.35279374254181356),\n",
       " ('reviews', 0.2534481844069044),\n",
       " ('listings', 0.22478676536015968),\n",
       " ('calendar', 0.19985093456929912),\n",
       " ('antwerp', 0.05595310813413483),\n",
       " ('portland', 0.05595310813413483),\n",
       " ('venice', 0.04404446054001159),\n",
       " ('toronto', 0.04404446054001159),\n",
       " ('athens', 0.04404446054001159)]"
      ]
     },
     "execution_count": 84,
     "metadata": {},
     "output_type": "execute_result"
    }
   ],
   "source": [
    "top_n_words[3][:10]"
   ]
  },
  {
   "cell_type": "code",
   "execution_count": 116,
   "metadata": {},
   "outputs": [
    {
     "data": {
      "text/plain": [
       "[('week', 0.4781825394659206),\n",
       " ('2017', 0.33134758554363625),\n",
       " ('science', 0.28676225259555815),\n",
       " ('news', 0.2683012783134132),\n",
       " ('big', 0.2502574474108359),\n",
       " ('april', 0.11276750338590462),\n",
       " ('february', 0.10908423961228939),\n",
       " ('january', 0.10597008446426395),\n",
       " ('march', 0.0656392136310751),\n",
       " ('28', 0.05863772695875241)]"
      ]
     },
     "execution_count": 116,
     "metadata": {},
     "output_type": "execute_result"
    }
   ],
   "source": [
    "top_n_words[0][:10]"
   ]
  },
  {
   "cell_type": "code",
   "execution_count": 86,
   "metadata": {},
   "outputs": [
    {
     "data": {
      "text/plain": [
       "[('week', 0.40951618864295974),\n",
       " ('news', 0.2734305674576402),\n",
       " ('science', 0.2554069336266321),\n",
       " ('big', 0.24003932326049723),\n",
       " ('2016', 0.22195600798688817),\n",
       " ('august', 0.1641762181647729),\n",
       " ('september', 0.1313409745318183),\n",
       " ('30', 0.07645037822913452),\n",
       " ('26', 0.04230252547080223),\n",
       " ('05', 0.04230252547080223)]"
      ]
     },
     "execution_count": 86,
     "metadata": {},
     "output_type": "execute_result"
    }
   ],
   "source": [
    "top_n_words[1][:10]"
   ]
  },
  {
   "cell_type": "code",
   "execution_count": 89,
   "metadata": {},
   "outputs": [],
   "source": []
  },
  {
   "cell_type": "code",
   "execution_count": null,
   "metadata": {},
   "outputs": [],
   "source": [
    "\n",
    "\n",
    "# Calculate Within Clusters SS for a range of k values\n",
    "# Adapted from: https://medium.com/analytics-vidhya/how-to-determine-the-optimal-k-for-k-means\n",
    "\n",
    "from sklearn.cluster import KMeans\n",
    "\n",
    "# Function returns WSS score for k values from 1 to kmax\n",
    "\n",
    "def calculate_WSS(points, kmax):\n",
    "    \n",
    "    sse = []\n",
    "    \n",
    "    for k in range(4, kmax+1):\n",
    "        kmeans = KMeans(n_clusters = k).fit(points)\n",
    "        centroids = kmeans.cluster_centers_\n",
    "        pred_clusters = kmeans.predict(points)\n",
    "        curr_sse = 0\n",
    "        \n",
    "        # calculate square of Euclidean distance of each point from its cluster center and add to current WSS\n",
    "        for i in range(len(points)):\n",
    "            curr_center = centroids[pred_clusters[i]]\n",
    "            curr_sse += (points[i, 0] - curr_center[0]) ** 2 + (points[i, 1] - curr_center[1]) ** 2\n",
    "        sse.append(curr_sse)\n",
    "    return sse\n",
    "\n",
    "# Create a list of vectors for Kmeans model\n",
    "X = np.array(metadata['vectors'].tolist())\n",
    "\n",
    "TOKENIZERS_PARALLELISM=False\n",
    "wsse = calculate_WSS(X, 10)\n",
    "\n",
    "wss_results = pd.DataFrame({'k':list(range(4,11)), 'wss' : wsse})\n",
    "\n",
    "ax1 = wss_results.plot.scatter(x='k',\n",
    "                      y='wss',\n",
    "                      c='DarkBlue')\n",
    "\n",
    "plt.plot(wss_results.k, wss_results.wss)\n",
    "plt.xlabel('Number of Clusters')\n",
    "plt.ylabel('Score')\n",
    "plt.title('Elbow Method')\n",
    "plt.show(\n"
   ]
  },
  {
   "cell_type": "code",
   "execution_count": null,
   "metadata": {},
   "outputs": [],
   "source": [
    "# Install packages to generate the BERT embeddings\n",
    "from sentence_transformers import SentenceTransformer\n",
    "\n",
    "# Transform the documents into 768-dim real vectors\n",
    "model = SentenceTransformer('all-mpnet-base-v2')\n",
    "metadata['vectors'] = metadata['doc_text'].apply(lambda x: model.encode(x))\n",
    "\n",
    "\n",
    "# Calculate Within Clusters SS for a range of k values\n",
    "# Adapted from: https://medium.com/analytics-vidhya/how-to-determine-the-optimal-k-for-k-means\n",
    "\n",
    "from sklearn.cluster import KMeans\n",
    "\n",
    "# Function returns WSS score for k values from 1 to kmax\n",
    "\n",
    "def calculate_WSS(points, kmax):\n",
    "    \n",
    "    sse = []\n",
    "    \n",
    "    for k in range(4, kmax+1):\n",
    "        kmeans = KMeans(n_clusters = k).fit(points)\n",
    "        centroids = kmeans.cluster_centers_\n",
    "        pred_clusters = kmeans.predict(points)\n",
    "        curr_sse = 0\n",
    "        \n",
    "        # calculate square of Euclidean distance of each point from its cluster center and add to current WSS\n",
    "        for i in range(len(points)):\n",
    "            curr_center = centroids[pred_clusters[i]]\n",
    "            curr_sse += (points[i, 0] - curr_center[0]) ** 2 + (points[i, 1] - curr_center[1]) ** 2\n",
    "        sse.append(curr_sse)\n",
    "    return sse\n",
    "\n",
    "# Create a list of vectors for Kmeans model\n",
    "X = np.array(metadata['vectors'].tolist())\n",
    "\n",
    "TOKENIZERS_PARALLELISM=False\n",
    "wsse = calculate_WSS(X, 10)\n",
    "\n",
    "wss_results = pd.DataFrame({'k':list(range(4,11)), 'wss' : wsse})\n",
    "\n",
    "ax1 = wss_results.plot.scatter(x='k',\n",
    "                      y='wss',\n",
    "                      c='DarkBlue')\n",
    "\n",
    "plt.plot(wss_results.k, wss_results.wss)\n",
    "plt.xlabel('Number of Clusters')\n",
    "plt.ylabel('Score')\n",
    "plt.title('Elbow Method')\n",
    "plt.show(\n"
   ]
  },
  {
   "cell_type": "code",
   "execution_count": null,
   "metadata": {},
   "outputs": [],
   "source": []
  },
  {
   "cell_type": "code",
   "execution_count": null,
   "metadata": {},
   "outputs": [],
   "source": [
    "## Import libraries\n",
    "from nltk.cluster import KMeansClusterer\n",
    "import nltk\n",
    "\n",
    "def clustering_question(metadata,NUM_CLUSTERS):\n",
    "\n",
    "    sentences = metadata['doc_name']\n",
    "\n",
    "    X = np.array(metadata['vectors'].tolist())\n",
    "\n",
    "    kclusterer = KMeansClusterer(\n",
    "        NUM_CLUSTERS, distance=nltk.cluster.util.cosine_distance,\n",
    "        repeats=25,avoid_empty_clusters=True)\n",
    "\n",
    "    assigned_clusters = kclusterer.cluster(X, assign_clusters=True)\n",
    "\n",
    "    metadata['cluster'] = pd.Series(assigned_clusters, index=metadata.index)\n",
    "    metadata['centroid'] = metadata['cluster'].apply(lambda x: kclusterer.means()[x])\n",
    "\n",
    "    return metadata, assigned_clusters\n",
    "\n",
    "from sklearn.metrics import silhouette_score\n",
    "\n",
    "sil_avg = []\n",
    "range_n_clusters = [2, 3, 4, 5, 6, 7, 8]\n",
    "\n",
    "for k in range_n_clusters:\n",
    " kmeans = KMeans(n_clusters = k).fit(X)\n",
    " labels = kmeans.labels_\n",
    " sil_avg.append(silhouette_score(X, labels, metric = 'euclidean'))\n",
    "\n",
    "\n",
    "plt.plot(range_n_clusters,sil_avg,'bx-')\n",
    "plt.xlabel('Values of K')\n",
    "plt.ylabel('Silhouette score')\n",
    "plt.title('Silhouette analysis For Optimal k')\n",
    "plt.show()\n",
    "\n",
    "#Using the above Silhouette analysis, we can choose K’s optimal value as 3, 6, 8 \n",
    "#because the average silhouette score is higher and indicates that the \n",
    "#data points are optimally positioned.\n",
    "\n",
    "# Reduce the dimensionality of the embedding to 10 while keeping the size of the local neighborhood to 15\n",
    "\n",
    "umap_embeddings = umap.UMAP(n_neighbors=15,\n",
    "                           n_components=5,\n",
    "                           metric='cosine').fit_transform(embeddings)\n",
    "\n",
    "standard_embedding = umap.UMAP(random_state=42).fit_transform(list(metadata.vectors))\n",
    "plt.scatter(standard_embedding[:, 0], standard_embedding[:, 1], c=mnist.target.astype(int), s=0.1, cmap='Spectral');\n",
    "\n"
   ]
  }
 ],
 "metadata": {
  "kernelspec": {
   "display_name": "Python 3 (ipykernel)",
   "language": "python",
   "name": "python3"
  },
  "language_info": {
   "codemirror_mode": {
    "name": "ipython",
    "version": 3
   },
   "file_extension": ".py",
   "mimetype": "text/x-python",
   "name": "python",
   "nbconvert_exporter": "python",
   "pygments_lexer": "ipython3",
   "version": "3.9.7"
  },
  "toc": {
   "base_numbering": 1,
   "nav_menu": {},
   "number_sections": false,
   "sideBar": true,
   "skip_h1_title": false,
   "title_cell": "Table of Contents",
   "title_sidebar": "Contents",
   "toc_cell": false,
   "toc_position": {},
   "toc_section_display": true,
   "toc_window_display": false
  }
 },
 "nbformat": 4,
 "nbformat_minor": 2
}
