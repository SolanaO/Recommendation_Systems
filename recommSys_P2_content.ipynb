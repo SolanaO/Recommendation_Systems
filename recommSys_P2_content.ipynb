{
 "cells": [
  {
   "cell_type": "markdown",
   "metadata": {},
   "source": [
    "# <font color='darkblue'> Recommendations with IBM Watson. Part II</font>\n",
    "\n",
    "## <font color='darkblue'> Rank and Content Based Recommendations</font>\n"
   ]
  },
  {
   "cell_type": "markdown",
   "metadata": {},
   "source": [
    "In this notebook, we build a rank based recommender to address the cold start problem. Next we investigate several approaches to content based recommender engines. The dataset is real data from the IBM Watson Studio platform. "
   ]
  },
  {
   "cell_type": "markdown",
   "metadata": {},
   "source": [
    "## <font color='darkblue'>Environment SetUp</font>"
   ]
  },
  {
   "cell_type": "code",
   "execution_count": 1,
   "metadata": {},
   "outputs": [],
   "source": [
    "# General libraries and packages\n",
    "\n",
    "import pandas as pd\n",
    "import numpy as np\n",
    "import re\n",
    "\n",
    "from ast import literal_eval\n",
    "\n",
    "# Packages and libraries for content based recs\n",
    "import re\n",
    "\n",
    "# NLP packages\n",
    "from nltk.corpus import stopwords\n",
    "from nltk.tokenize import word_tokenize\n",
    "from nltk.stem.wordnet import WordNetLemmatizer\n",
    "from nltk.cluster import KMeansClusterer\n",
    "import nltk\n",
    "\n",
    "\n",
    "# Data processing packages\n",
    "from sklearn.feature_extraction.text import TfidfVectorizer, CountVectorizer\n",
    "from sklearn.cluster import KMeans\n",
    "\n",
    "# Import linear kernel to compute the dot product\n",
    "from sklearn.metrics.pairwise import linear_kernel"
   ]
  },
  {
   "cell_type": "code",
   "execution_count": 2,
   "metadata": {},
   "outputs": [],
   "source": [
    "# Import visualization packages and libraries\n",
    "\n",
    "import matplotlib.pyplot as plt\n",
    "%matplotlib inline\n",
    "\n",
    "# Choose style and color palette\n",
    "import seaborn as sns\n",
    "sns.set_style(\"darkgrid\")\n",
    "\n",
    "colors = sns.color_palette('PuBuGn')"
   ]
  },
  {
   "cell_type": "code",
   "execution_count": 3,
   "metadata": {},
   "outputs": [],
   "source": [
    "# Use 2 decimal places in output display\n",
    "pd.set_option(\"display.precision\", 2)\n",
    "\n",
    "# Don't wrap dataframe across additional lines\n",
    "pd.set_option(\"display.expand_frame_repr\", False)\n",
    "\n",
    "# Set the maximum widths of columns\n",
    "pd.set_option(\"display.max_colwidth\", 90)\n",
    "\n",
    "# Set max rows displayed in output to 20\n",
    "pd.set_option(\"display.max_rows\", 20)"
   ]
  },
  {
   "cell_type": "markdown",
   "metadata": {},
   "source": [
    "## <font color='darkblue'>Upload Preprocessed Data</font>"
   ]
  },
  {
   "cell_type": "markdown",
   "metadata": {},
   "source": [
    "<div class=\"alert alert-block alert-info\">\n",
    "\n",
    "<b>NOTES</b>:\n",
    "    <ul>\n",
    "        <li>There are 2 files to upload.</li>\n",
    "        <li>One is centered on the user information, the other on the article information.</li>\n",
    "    </ul>\n",
    "\n",
    "</div>"
   ]
  },
  {
   "cell_type": "code",
   "execution_count": 4,
   "metadata": {},
   "outputs": [],
   "source": [
    "# Read in the user-item interaction files\n",
    "articles_per_user = pd.read_csv('data/articles_per_user.csv', \n",
    "                                index_col=[0], \n",
    "                                converters={'viewed_articles': literal_eval}) \n",
    "\n",
    "# Read the articles information files\n",
    "users_per_article = pd.read_csv('data/users_per_article.csv', \n",
    "                                index_col=[0],\n",
    "                               converters={'users_accessed': literal_eval}) "
   ]
  },
  {
   "cell_type": "code",
   "execution_count": 5,
   "metadata": {},
   "outputs": [
    {
     "data": {
      "text/html": [
       "<div>\n",
       "<style scoped>\n",
       "    .dataframe tbody tr th:only-of-type {\n",
       "        vertical-align: middle;\n",
       "    }\n",
       "\n",
       "    .dataframe tbody tr th {\n",
       "        vertical-align: top;\n",
       "    }\n",
       "\n",
       "    .dataframe thead th {\n",
       "        text-align: right;\n",
       "    }\n",
       "</style>\n",
       "<table border=\"1\" class=\"dataframe\">\n",
       "  <thead>\n",
       "    <tr style=\"text-align: right;\">\n",
       "      <th></th>\n",
       "      <th>user_id</th>\n",
       "      <th>viewed_articles</th>\n",
       "      <th>articles_count</th>\n",
       "      <th>unique_articles_count</th>\n",
       "    </tr>\n",
       "  </thead>\n",
       "  <tbody>\n",
       "    <tr>\n",
       "      <th>0</th>\n",
       "      <td>1</td>\n",
       "      <td>[1430, 1430, 732, 1429, 43, 109, 1232, 310, 1293, 1406, 1406, 329, 585, 310, 1305, 105...</td>\n",
       "      <td>47</td>\n",
       "      <td>36</td>\n",
       "    </tr>\n",
       "    <tr>\n",
       "      <th>1</th>\n",
       "      <td>2</td>\n",
       "      <td>[1314, 1305, 1024, 1176, 1422, 1427]</td>\n",
       "      <td>6</td>\n",
       "      <td>6</td>\n",
       "    </tr>\n",
       "  </tbody>\n",
       "</table>\n",
       "</div>"
      ],
      "text/plain": [
       "   user_id                                                                            viewed_articles  articles_count  unique_articles_count\n",
       "0        1  [1430, 1430, 732, 1429, 43, 109, 1232, 310, 1293, 1406, 1406, 329, 585, 310, 1305, 105...              47                     36\n",
       "1        2                                                       [1314, 1305, 1024, 1176, 1422, 1427]               6                      6"
      ]
     },
     "execution_count": 5,
     "metadata": {},
     "output_type": "execute_result"
    }
   ],
   "source": [
    "# Check the user_item dataframes\n",
    "articles_per_user.head(2)"
   ]
  },
  {
   "cell_type": "code",
   "execution_count": 6,
   "metadata": {},
   "outputs": [
    {
     "data": {
      "text/plain": [
       "user_id                   int64\n",
       "viewed_articles          object\n",
       "articles_count            int64\n",
       "unique_articles_count     int64\n",
       "dtype: object"
      ]
     },
     "execution_count": 6,
     "metadata": {},
     "output_type": "execute_result"
    }
   ],
   "source": [
    "articles_per_user.dtypes"
   ]
  },
  {
   "cell_type": "code",
   "execution_count": 7,
   "metadata": {},
   "outputs": [
    {
     "data": {
      "text/html": [
       "<div>\n",
       "<style scoped>\n",
       "    .dataframe tbody tr th:only-of-type {\n",
       "        vertical-align: middle;\n",
       "    }\n",
       "\n",
       "    .dataframe tbody tr th {\n",
       "        vertical-align: top;\n",
       "    }\n",
       "\n",
       "    .dataframe thead th {\n",
       "        text-align: right;\n",
       "    }\n",
       "</style>\n",
       "<table border=\"1\" class=\"dataframe\">\n",
       "  <thead>\n",
       "    <tr style=\"text-align: right;\">\n",
       "      <th></th>\n",
       "      <th>doc_body</th>\n",
       "      <th>doc_description</th>\n",
       "      <th>article_id</th>\n",
       "      <th>views</th>\n",
       "      <th>doc_name</th>\n",
       "      <th>users_accessed</th>\n",
       "    </tr>\n",
       "  </thead>\n",
       "  <tbody>\n",
       "    <tr>\n",
       "      <th>0</th>\n",
       "      <td>Skip navigation Sign in SearchLoading...\\r\\n\\r\\nClose Yeah, keep it Undo CloseTHIS VID...</td>\n",
       "      <td>Detect bad readings in real time using Python and Streaming Analytics.</td>\n",
       "      <td>0</td>\n",
       "      <td>14</td>\n",
       "      <td>detect malfunctioning iot sensors with streaming analytics</td>\n",
       "      <td>[495, 495, 495, 503, 233, 552, 1347, 1051, 785, 2992, 3216, 3570, 4571, 4836]</td>\n",
       "    </tr>\n",
       "    <tr>\n",
       "      <th>1</th>\n",
       "      <td>No Free Hunch Navigation * kaggle.com\\r\\n\\r\\n * kaggle.com\\r\\n\\r\\nCommunicating data s...</td>\n",
       "      <td>See the forest, see the trees. Here lies the challenge in both performing and presenti...</td>\n",
       "      <td>1</td>\n",
       "      <td>0</td>\n",
       "      <td>Communicating data science: A guide to presenting your work</td>\n",
       "      <td>[]</td>\n",
       "    </tr>\n",
       "  </tbody>\n",
       "</table>\n",
       "</div>"
      ],
      "text/plain": [
       "                                                                                    doc_body                                                                            doc_description  article_id  views                                                     doc_name                                                                 users_accessed\n",
       "0  Skip navigation Sign in SearchLoading...\\r\\n\\r\\nClose Yeah, keep it Undo CloseTHIS VID...                     Detect bad readings in real time using Python and Streaming Analytics.           0     14   detect malfunctioning iot sensors with streaming analytics  [495, 495, 495, 503, 233, 552, 1347, 1051, 785, 2992, 3216, 3570, 4571, 4836]\n",
       "1  No Free Hunch Navigation * kaggle.com\\r\\n\\r\\n * kaggle.com\\r\\n\\r\\nCommunicating data s...  See the forest, see the trees. Here lies the challenge in both performing and presenti...           1      0  Communicating data science: A guide to presenting your work                                                                             []"
      ]
     },
     "execution_count": 7,
     "metadata": {},
     "output_type": "execute_result"
    }
   ],
   "source": [
    "# Check the articles information dataframe\n",
    "users_per_article.head(2)"
   ]
  },
  {
   "cell_type": "markdown",
   "metadata": {},
   "source": [
    "## <a class=\"anchor\" id=\"Rank\">Rank-Based Recommendations</a>"
   ]
  },
  {
   "cell_type": "markdown",
   "metadata": {},
   "source": [
    "<div class=\"alert alert-block alert-info\">\n",
    "\n",
    "<b>NOTES</b>:\n",
    "    <ul>\n",
    "<li>The dataset does not contain ratings for whether a user liked an article or not.  We only know that a user has interacted with an article.  In these cases, the popularity of an article can be based on how often an article was interacted with.</li>\n",
    "    </ul>\n",
    "\n",
    "</div>"
   ]
  },
  {
   "cell_type": "markdown",
   "metadata": {},
   "source": [
    "### <font color='darkblue'>Get the top n most popular articles</font>"
   ]
  },
  {
   "cell_type": "code",
   "execution_count": 8,
   "metadata": {},
   "outputs": [],
   "source": [
    "# Function to retrieve the ids and title of the most viewed n articles\n",
    "def get_top_articles(n):\n",
    "    \n",
    "    '''\n",
    "    Finds the n most popular articles.\n",
    "    \n",
    "    INPUT:\n",
    "        n (int) - specifies how many items should be returned\n",
    "    OUTPUT:\n",
    "        article_ids (list) - the ids of the n most popular articles\n",
    "        titles (list) - the titles of the n most popular articles\n",
    "    '''\n",
    "    \n",
    "    df_top_n = users_per_article.nlargest(n, 'views')\n",
    "    titles = list(df_top_n.doc_name)\n",
    "    article_ids = list(df_top_n.article_id)\n",
    "    return article_ids, titles"
   ]
  },
  {
   "cell_type": "code",
   "execution_count": 9,
   "metadata": {},
   "outputs": [
    {
     "data": {
      "text/plain": [
       "[1429, 1330, 1431, 1427, 1364, 1314, 1293, 1170, 1162, 1304]"
      ]
     },
     "execution_count": 9,
     "metadata": {},
     "output_type": "execute_result"
    }
   ],
   "source": [
    "# The ids of the 10 most popular articles\n",
    "most_popular_ids = get_top_articles(10)[0]\n",
    "most_popular_ids"
   ]
  },
  {
   "cell_type": "code",
   "execution_count": 10,
   "metadata": {},
   "outputs": [
    {
     "data": {
      "text/plain": [
       "['use deep learning for image classification',\n",
       " 'insights from new york car accident reports',\n",
       " 'visualize car data with brunel',\n",
       " 'use xgboost, scikit-learn & ibm watson machine learning apis',\n",
       " 'predicting churn with the spss random tree algorithm',\n",
       " 'healthcare python streaming application demo',\n",
       " 'finding optimal locations of new store using decision optimization',\n",
       " 'apache spark lab, part 1: basic concepts',\n",
       " 'analyze energy consumption in buildings',\n",
       " 'gosales transactions for logistic regression model']"
      ]
     },
     "execution_count": 10,
     "metadata": {},
     "output_type": "execute_result"
    }
   ],
   "source": [
    "# The titles of the 10 most popular articles\n",
    "most_popular_titles = get_top_articles(10)[1]\n",
    "most_popular_titles"
   ]
  },
  {
   "cell_type": "markdown",
   "metadata": {},
   "source": [
    "## <a class=\"anchor\" id=\"Content-Recs\">Content Based Recommendations</a>"
   ]
  },
  {
   "cell_type": "markdown",
   "metadata": {},
   "source": [
    "## <font color='darkblue'>Baseline Model</font>"
   ]
  },
  {
   "cell_type": "markdown",
   "metadata": {},
   "source": [
    "<div class=\"alert alert-block alert-info\">\n",
    "\n",
    "<b>NOTES</b>:\n",
    "    <ul>\n",
    "<li>In this section we work with users_per_article dataframe that contains content information.</li>\n",
    "<li>The text is preprocessed using a tokenizer function, then vectorized with TfidfVectorizer from sklearn.</li>\n",
    "<li>The cosine similarity scores are computed with linear_kernel in sklearn.</li>\n",
    "</ul>\n",
    "\n",
    "</div>"
   ]
  },
  {
   "cell_type": "code",
   "execution_count": 11,
   "metadata": {},
   "outputs": [],
   "source": [
    "# Make a copy of the dataframe\n",
    "content = users_per_article.copy()"
   ]
  },
  {
   "cell_type": "code",
   "execution_count": 12,
   "metadata": {},
   "outputs": [
    {
     "data": {
      "text/html": [
       "<div>\n",
       "<style scoped>\n",
       "    .dataframe tbody tr th:only-of-type {\n",
       "        vertical-align: middle;\n",
       "    }\n",
       "\n",
       "    .dataframe tbody tr th {\n",
       "        vertical-align: top;\n",
       "    }\n",
       "\n",
       "    .dataframe thead th {\n",
       "        text-align: right;\n",
       "    }\n",
       "</style>\n",
       "<table border=\"1\" class=\"dataframe\">\n",
       "  <thead>\n",
       "    <tr style=\"text-align: right;\">\n",
       "      <th></th>\n",
       "      <th>article_id</th>\n",
       "      <th>doc_name</th>\n",
       "    </tr>\n",
       "  </thead>\n",
       "  <tbody>\n",
       "    <tr>\n",
       "      <th>0</th>\n",
       "      <td>0</td>\n",
       "      <td>detect malfunctioning iot sensors with streaming analytics</td>\n",
       "    </tr>\n",
       "    <tr>\n",
       "      <th>1</th>\n",
       "      <td>1</td>\n",
       "      <td>Communicating data science: A guide to presenting your work</td>\n",
       "    </tr>\n",
       "  </tbody>\n",
       "</table>\n",
       "</div>"
      ],
      "text/plain": [
       "   article_id                                                     doc_name\n",
       "0           0   detect malfunctioning iot sensors with streaming analytics\n",
       "1           1  Communicating data science: A guide to presenting your work"
      ]
     },
     "execution_count": 12,
     "metadata": {},
     "output_type": "execute_result"
    }
   ],
   "source": [
    "# Dataframe that retains article_id and doc_name \n",
    "df_titles = content[['article_id', 'doc_name']]\n",
    "\n",
    "# check the output\n",
    "df_titles.head(2)"
   ]
  },
  {
   "cell_type": "markdown",
   "metadata": {},
   "source": [
    "### <font color='darkblue'>Preprocess text and create TF-IDF matrix</font>"
   ]
  },
  {
   "cell_type": "code",
   "execution_count": 13,
   "metadata": {},
   "outputs": [],
   "source": [
    "def tokenize(text):\n",
    "    \n",
    "    \"\"\"\n",
    "    Contains the pre-processing steps for a document:\n",
    "        - tokenize\n",
    "        - lemmatize\n",
    "        - lowercasing\n",
    "        - removes stopwords in English language\n",
    "        \n",
    "    INPUT (string) - raw message\n",
    "    OUTPUT (list)  - clean tokens\n",
    "    \"\"\"\n",
    "    \n",
    "    # remove punctuation and unusual characters \n",
    "    #text = re.sub(r\"[^a-zA-Z0-9]\", \" \", text).strip()\n",
    "    # remove punctuation, unusual characters and numbers\n",
    "    text = re.sub(r\"[^a-zA-Z]\", \" \", text).strip()\n",
    "    \n",
    "    \n",
    "    # split into words\n",
    "    words = word_tokenize(text)\n",
    "    \n",
    "    # lemmatize - reduce words to their root form\n",
    "    words = [WordNetLemmatizer().lemmatize(w) for w in words]\n",
    "    \n",
    "    # case normalize and remove leading & trailing empty spaces\n",
    "    words = [w.lower().strip() for w in words]\n",
    "    \n",
    "    # adjust the list of stopwords\n",
    "    nltk_stopwords = stopwords.words('english')\n",
    "    #nltk_stopwords.append('none')\n",
    "    \n",
    "    # remove stopwords, keep not, can\n",
    "    clean_words = [w for w in words if w not in nltk_stopwords or w in ['not', 'can']]\n",
    "    \n",
    "    return clean_words"
   ]
  },
  {
   "cell_type": "markdown",
   "metadata": {},
   "source": [
    "Comments: \n",
    "\n",
    "```\n",
    "# Use these lines if more than one stopword is added\n",
    "nltk_stopwords = stopwords.words('english')\n",
    "new_stopwords = ['word1','word2']\n",
    "stopwords.extend(new_stopwords)\n",
    "\n",
    "# Use these lines if one stopword is added\n",
    "stopwords = nltk.corpus.stopwords.words('english')\n",
    "stopwords.append('new_word')\n",
    "```"
   ]
  },
  {
   "cell_type": "code",
   "execution_count": 14,
   "metadata": {},
   "outputs": [],
   "source": [
    "# Create an instance of the TF-IDF vectorizer\n",
    "tfidf = TfidfVectorizer(tokenizer=tokenize)\n",
    "\n",
    "# Construct the TF-IDF matrix \n",
    "tfidf_matrix = tfidf.fit_transform(df_titles['doc_name'])"
   ]
  },
  {
   "cell_type": "code",
   "execution_count": 15,
   "metadata": {},
   "outputs": [
    {
     "data": {
      "text/plain": [
       "(1328, 1861)"
      ]
     },
     "execution_count": 15,
     "metadata": {},
     "output_type": "execute_result"
    }
   ],
   "source": [
    "# Output the shape of the TF-IDF matrix\n",
    "tfidf_matrix.shape"
   ]
  },
  {
   "cell_type": "markdown",
   "metadata": {},
   "source": [
    "### <font color='darkblue'>Compute the cosine similarity scores</font>"
   ]
  },
  {
   "cell_type": "code",
   "execution_count": 16,
   "metadata": {},
   "outputs": [
    {
     "data": {
      "text/plain": [
       "(1328, 1328)"
      ]
     },
     "execution_count": 16,
     "metadata": {},
     "output_type": "execute_result"
    }
   ],
   "source": [
    "# Compute the cosine similarity matrix \n",
    "cosine_sim = linear_kernel(tfidf_matrix, tfidf_matrix)\n",
    "# Check the output\n",
    "cosine_sim.shape"
   ]
  },
  {
   "cell_type": "markdown",
   "metadata": {},
   "source": [
    "### <font color='darkblue'>Build the recommender function</font>"
   ]
  },
  {
   "cell_type": "code",
   "execution_count": 17,
   "metadata": {},
   "outputs": [],
   "source": [
    "def get_article_info(article_id, df_titles):\n",
    "    '''\n",
    "    Returns the title that corresponds to an article id.\n",
    "    \n",
    "    INPUT:\n",
    "    article_id (int) - unique article identifier\n",
    "    df_titles (pd.DataFrame) - contains article_id, title\n",
    "    \n",
    "    OUTPUT:\n",
    "    article_title (str) - the article name associated with the provided article id\n",
    "    '''\n",
    "    \n",
    "    article_title = df_titles[df_titles['article_id']==article_id]['doc_name'].unique()[0]\n",
    "    return article_id, article_title"
   ]
  },
  {
   "cell_type": "code",
   "execution_count": 18,
   "metadata": {},
   "outputs": [
    {
     "name": "stdout",
     "output_type": "stream",
     "text": [
      "The title of the article with id = 542 is: getting started with python.\n"
     ]
    }
   ],
   "source": [
    "# Print a sample output\n",
    "print(f'The title of the article with id = 542 is: {get_article_info(542, df_titles)[1]}.')"
   ]
  },
  {
   "cell_type": "code",
   "execution_count": 19,
   "metadata": {},
   "outputs": [],
   "source": [
    "# Function that takes in the article id as input and gives n recommendations\n",
    "def content_recommender_tfidf(article_id, n, cosine_sim, df_titles):\n",
    "    '''\n",
    "    INPUT:\n",
    "    article_id (int) - unique article identifier\n",
    "    n (int) - how many recommendations should be returned\n",
    "    cosine_sim (np.ndarray) - matrix of cosine similarities\n",
    "    df (pd.DdataFrame) - contains title and article id\n",
    "    \n",
    "    OUTPUT:\n",
    "    recommended_articles (list) - recommended articles (ids and titles), \n",
    "                                  sorted by cosine similarity\n",
    "    '''\n",
    "    # Get the information for the given article id\n",
    "    given_article = get_article_info(article_id, df_titles)\n",
    "    \n",
    "    # Obtain the matrix index that matches the article id\n",
    "    matrix_index = df_titles[df_titles['article_id']==article_id].index.values[0]\n",
    "    \n",
    "    # Sort the scores based on the cosine similarity scores with given article index, ignore the first entry\n",
    "    sim_scores = pd.Series(cosine_sim[matrix_index]).sort_values(ascending=False).iloc[1:]\n",
    "    \n",
    "    # Get the indices corresponding to the scores of the n most similar articles\n",
    "    sim_scores_n = list(sim_scores[:n].index.values)\n",
    "    \n",
    "    # Return the top n most similar article_ids as a pandas dataframe\n",
    "    recommended_articles = df_titles.iloc[sim_scores_n]\n",
    "    \n",
    "    return given_article, recommended_articles"
   ]
  },
  {
   "cell_type": "markdown",
   "metadata": {},
   "source": [
    "### <font color='darkblue'>Make content recommendations with the baseline model</font>"
   ]
  },
  {
   "cell_type": "code",
   "execution_count": 20,
   "metadata": {},
   "outputs": [],
   "source": [
    "def make_content_recs_tfidf(user_id, \n",
    "                      cosine_sim, \n",
    "                      m, \n",
    "                      df=articles_per_user, \n",
    "                      df_content=users_per_article):\n",
    "    '''\n",
    "    INPUT:\n",
    "        user_id (int) - unique numeric user identifier\n",
    "        m (int) - the number of recommendations we want for the user\n",
    "        df (pd.DataFrame) - contains users and articles interactions\n",
    "        df_content (pd.DataFrame) - contains titles and article_ids\n",
    "    \n",
    "    OUTPUT:\n",
    "        recs_ids (list) - list of recommendations for the user by article id\n",
    "        rec_names (list) - list of recommendations for the user by article title\n",
    "    \n",
    "    Description:\n",
    "        Loops through the articles based on closeness to the articles seen by the user.\n",
    "        For each article seen by the user - finds n most similar articles based on \n",
    "        content recommendations. Does this until m recommendations are found.\n",
    "    \n",
    "    Notes:\n",
    "        The articles that have the most total article interactions are chosen first.\n",
    "   \n",
    "    '''\n",
    "    # List of recommended articles by id, and by title\n",
    "    recommendations = []\n",
    "    \n",
    "    # Ids of articles seen by user  \n",
    "    articles_ids_seen = articles_per_user.loc[user_id].viewed_articles\n",
    "    \n",
    "    for art_id in articles_ids_seen:\n",
    "        \n",
    "        # choose n such that we get similar articles to all articles viewed\n",
    "        if len(articles_ids_seen) >= 5:\n",
    "            n = 2\n",
    "        elif len(articles_ids_seen) == 4:\n",
    "            n = 3\n",
    "        else:\n",
    "            n = 10\n",
    "        \n",
    "         # get the n most similar articles ids and titles\n",
    "        similar_articles_ids = content_recommender_tfidf(\n",
    "            art_id, n, cosine_sim, df_titles)[1]['article_id'].tolist()\n",
    "        similar_articles = content_recommender_tfidf(\n",
    "            art_id, n, cosine_sim, df_titles)[1]['doc_name'].tolist()\n",
    "\n",
    "        # remove the ids of the articles in articles_ids_seen and available\n",
    "        articles_ids_to_recommend = np.setdiff1d(\n",
    "            similar_articles_ids, articles_ids_seen)\n",
    "        \n",
    "        # remove the articles already added to the recs list\n",
    "        articles_ids_to_add = np.setdiff1d(\n",
    "            articles_ids_to_recommend, recommendations)\n",
    "        \n",
    "        # add the sorted article ids\n",
    "        recommendations.extend(articles_ids_to_add)\n",
    "        \n",
    "        # break when we have enough articles to recommend\n",
    "        if len(recommendations) >= m:\n",
    "            break\n",
    "    \n",
    "    # retain the first m recommendations\n",
    "    recs = recommendations[:m]\n",
    "    \n",
    "    # get the articles titles\n",
    "    complete_recs = [get_article_info(article_id, df_titles) for article_id in recs]\n",
    "    \n",
    "    return complete_recs\n"
   ]
  },
  {
   "cell_type": "markdown",
   "metadata": {},
   "source": [
    "## <font color='darkblue'>Sentence Transformers</font>"
   ]
  },
  {
   "cell_type": "code",
   "execution_count": 21,
   "metadata": {},
   "outputs": [],
   "source": [
    "# Install packages to generate the BERT embeddings\n",
    "from sentence_transformers import SentenceTransformer, util\n",
    "import torch\n",
    "\n",
    "# Create the model\n",
    "model = SentenceTransformer('paraphrase-MiniLM-L6-v2')\n",
    "\n",
    "# Create embeddings for the collection of titles\n",
    "corpus_embeddings = model.encode(df_titles.doc_name.values, \n",
    "                                 convert_to_tensor=True)"
   ]
  },
  {
   "cell_type": "code",
   "execution_count": 22,
   "metadata": {},
   "outputs": [],
   "source": [
    "# Function that takes in the article id as input and gives n recommendations\n",
    "def content_recommender_transformer(article_id, k, df_titles):\n",
    "    \n",
    "    '''\n",
    "    Function that takes in an article_id and an integer n, to return \n",
    "    n articles ids and titles, recommended based on the cosine similarity scores.\n",
    "    \n",
    "    INPUT:\n",
    "    article_id (int) - unique article identifier\n",
    "    k (int) - how many recommendations should be returned\n",
    "    cosine_sim (np.ndarray) - matrix of cosine similarities\n",
    "    df_titles (pd.DdataFrame) - contains title and article id\n",
    "    \n",
    "    OUTPUT:\n",
    "    recommended_articles (list) - recommended articles (ids and titles), \n",
    "                                  sorted by cosine similarity\n",
    "    '''\n",
    "    # Get the information for the given article id\n",
    "    select_title = get_article_info(article_id, df_titles)[1]\n",
    "    \n",
    "    # Create an embedding for select article title\n",
    "    select_article_embedding = model.encode(select_title, convert_to_tensor=True)\n",
    "    \n",
    "    # Compute cosine similarity scores between the select article and the corpus\n",
    "    cos_scores = util.pytorch_cos_sim(select_article_embedding, corpus_embeddings)[0]\n",
    "    \n",
    "    # Select the highest n scores\n",
    "    top_results = torch.topk(cos_scores, k)\n",
    "    \n",
    "    # Get a list of recommended article ids\n",
    "    top_ids = top_results[1].tolist()[1:]\n",
    "    \n",
    "    # Return the top k most similar article_ids and titles as a pandas dataframe\n",
    "    recommended_articles = df_titles.iloc[top_ids]\n",
    "    \n",
    "    return select_title, recommended_articles"
   ]
  },
  {
   "cell_type": "markdown",
   "metadata": {},
   "source": [
    "### <font color='darkblue'>Make content recommendations with transformers</font>"
   ]
  },
  {
   "cell_type": "code",
   "execution_count": 23,
   "metadata": {},
   "outputs": [],
   "source": [
    "def make_content_recs_transformers(user_id, m, \n",
    "                      df=articles_per_user, \n",
    "                      df_content=users_per_article):\n",
    "    '''\n",
    "    INPUT:\n",
    "        user_id (int) - unique numeric user identifier\n",
    "        m (int) - the number of recommendations we want for the user\n",
    "        df (pd.DataFrame) - contains users and articles interactions\n",
    "        df_content (pd.DataFrame) - contains titles and article_ids\n",
    "    \n",
    "    OUTPUT:\n",
    "        recs_ids (list) - list of recommendations for the user by article id\n",
    "        rec_names (list) - list of recommendations for the user by article title\n",
    "    \n",
    "    Description:\n",
    "        Loops through the articles based on closeness to the articles seen by the user.\n",
    "        For each article seen by the user - finds n most similar articles based on \n",
    "        content recommendations. Does this until m recommendations are found.\n",
    "    \n",
    "    Notes:\n",
    "        The articles that have the most total article interactions are chosen first.\n",
    "   \n",
    "    '''\n",
    "    # List of recommended articles by id, and by title\n",
    "    recommendations = []\n",
    "    \n",
    "    # Ids of articles seen by user  \n",
    "    articles_ids_seen = articles_per_user.loc[user_id].viewed_articles\n",
    "    \n",
    "    for art_id in articles_ids_seen:\n",
    "        \n",
    "        # choose n such that we get similar articles to all articles viewed\n",
    "        if len(articles_ids_seen) >= 5:\n",
    "            n = 2\n",
    "        elif len(articles_ids_seen) == 4:\n",
    "            n = 3\n",
    "        else:\n",
    "            n = 10\n",
    "        \n",
    "        # get the n most similar articles ids and titles\n",
    "        similar_articles_ids = content_recommender_transformer(\n",
    "            art_id, n, df_titles)[1]['article_id'].tolist()\n",
    "        similar_articles = content_recommender_transformer(\n",
    "            art_id, n, df_titles)[1]['doc_name'].tolist()\n",
    "\n",
    "        # remove the ids of the articles in articles_ids_seen and available\n",
    "        articles_ids_to_recommend = np.setdiff1d(\n",
    "            similar_articles_ids, articles_ids_seen)\n",
    "        \n",
    "        # remove the articles already added to the recs list\n",
    "        articles_ids_to_add = np.setdiff1d(\n",
    "            articles_ids_to_recommend, recommendations)\n",
    "        \n",
    "        # add the sorted article ids\n",
    "        recommendations.extend(articles_ids_to_add)\n",
    "        \n",
    "        # break when we have enough articles to recommend\n",
    "        if len(recommendations) >= m:\n",
    "            break\n",
    "    \n",
    "    # retain the first m recommendations\n",
    "    recs = recommendations[:m]\n",
    "    \n",
    "    # get the articles titles\n",
    "    complete_recs = [get_article_info(article_id, df_titles) for article_id in recs]\n",
    "    \n",
    "    return complete_recs\n"
   ]
  },
  {
   "cell_type": "markdown",
   "metadata": {},
   "source": [
    "### <font color='darkblue'>Examples: finding similar articles</font>"
   ]
  },
  {
   "cell_type": "code",
   "execution_count": 24,
   "metadata": {},
   "outputs": [
    {
     "name": "stdout",
     "output_type": "stream",
     "text": [
      "The article with id = 20 for which we give recommendations is:\n",
      "working interactively with rstudio and notebooks in dsx\n",
      "\n",
      "The baseline model recommended articles are:\n"
     ]
    },
    {
     "data": {
      "text/html": [
       "<div>\n",
       "<style scoped>\n",
       "    .dataframe tbody tr th:only-of-type {\n",
       "        vertical-align: middle;\n",
       "    }\n",
       "\n",
       "    .dataframe tbody tr th {\n",
       "        vertical-align: top;\n",
       "    }\n",
       "\n",
       "    .dataframe thead th {\n",
       "        text-align: right;\n",
       "    }\n",
       "</style>\n",
       "<table border=\"1\" class=\"dataframe\">\n",
       "  <thead>\n",
       "    <tr style=\"text-align: right;\">\n",
       "      <th></th>\n",
       "      <th>article_id</th>\n",
       "      <th>doc_name</th>\n",
       "    </tr>\n",
       "  </thead>\n",
       "  <tbody>\n",
       "    <tr>\n",
       "      <th>373</th>\n",
       "      <td>373</td>\n",
       "      <td>working with notebooks in dsx</td>\n",
       "    </tr>\n",
       "    <tr>\n",
       "      <th>763</th>\n",
       "      <td>763</td>\n",
       "      <td>load data into rstudio for analysis in dsx</td>\n",
       "    </tr>\n",
       "    <tr>\n",
       "      <th>240</th>\n",
       "      <td>240</td>\n",
       "      <td>spark 1.4 for rstudio</td>\n",
       "    </tr>\n",
       "    <tr>\n",
       "      <th>182</th>\n",
       "      <td>182</td>\n",
       "      <td>Overview of RStudio IDE in DSX</td>\n",
       "    </tr>\n",
       "    <tr>\n",
       "      <th>355</th>\n",
       "      <td>355</td>\n",
       "      <td>run shiny applications in rstudio in dsx</td>\n",
       "    </tr>\n",
       "    <tr>\n",
       "      <th>626</th>\n",
       "      <td>626</td>\n",
       "      <td>analyze db2 warehouse on cloud data in rstudio in dsx</td>\n",
       "    </tr>\n",
       "    <tr>\n",
       "      <th>665</th>\n",
       "      <td>665</td>\n",
       "      <td>get social with your notebooks in dsx</td>\n",
       "    </tr>\n",
       "    <tr>\n",
       "      <th>958</th>\n",
       "      <td>958</td>\n",
       "      <td>using dsx notebooks to analyze github data</td>\n",
       "    </tr>\n",
       "    <tr>\n",
       "      <th>474</th>\n",
       "      <td>474</td>\n",
       "      <td>publish notebooks to github in dsx</td>\n",
       "    </tr>\n",
       "    <tr>\n",
       "      <th>930</th>\n",
       "      <td>930</td>\n",
       "      <td>how to use version control (github) in rstudio within dsx?</td>\n",
       "    </tr>\n",
       "  </tbody>\n",
       "</table>\n",
       "</div>"
      ],
      "text/plain": [
       "     article_id                                                    doc_name\n",
       "373         373                               working with notebooks in dsx\n",
       "763         763                  load data into rstudio for analysis in dsx\n",
       "240         240                                       spark 1.4 for rstudio\n",
       "182         182                              Overview of RStudio IDE in DSX\n",
       "355         355                    run shiny applications in rstudio in dsx\n",
       "626         626       analyze db2 warehouse on cloud data in rstudio in dsx\n",
       "665         665                       get social with your notebooks in dsx\n",
       "958         958                  using dsx notebooks to analyze github data\n",
       "474         474                          publish notebooks to github in dsx\n",
       "930         930  how to use version control (github) in rstudio within dsx?"
      ]
     },
     "execution_count": 24,
     "metadata": {},
     "output_type": "execute_result"
    }
   ],
   "source": [
    "# Choose the id for the test article\n",
    "article_id = 20\n",
    "\n",
    "# Create the list of recommendations using the baseline model\n",
    "recommendations_tfidf_list_20 = content_recommender_tfidf(article_id, 10, cosine_sim, df_titles)\n",
    "\n",
    "# Print the information for the test article\n",
    "print(f'The article with id = {article_id} for which we give recommendations is:\\n{recommendations_tfidf_list_20[0][1]}')\n",
    "\n",
    "# Print the recommended articles information\n",
    "print(f'\\nThe baseline model recommended articles are:')\n",
    "recommendations_tfidf_list_20[1]"
   ]
  },
  {
   "cell_type": "code",
   "execution_count": 25,
   "metadata": {},
   "outputs": [
    {
     "name": "stdout",
     "output_type": "stream",
     "text": [
      "\n",
      "The transformer model recommended articles are:\n"
     ]
    },
    {
     "data": {
      "text/html": [
       "<div>\n",
       "<style scoped>\n",
       "    .dataframe tbody tr th:only-of-type {\n",
       "        vertical-align: middle;\n",
       "    }\n",
       "\n",
       "    .dataframe tbody tr th {\n",
       "        vertical-align: top;\n",
       "    }\n",
       "\n",
       "    .dataframe thead th {\n",
       "        text-align: right;\n",
       "    }\n",
       "</style>\n",
       "<table border=\"1\" class=\"dataframe\">\n",
       "  <thead>\n",
       "    <tr style=\"text-align: right;\">\n",
       "      <th></th>\n",
       "      <th>article_id</th>\n",
       "      <th>doc_name</th>\n",
       "    </tr>\n",
       "  </thead>\n",
       "  <tbody>\n",
       "    <tr>\n",
       "      <th>373</th>\n",
       "      <td>373</td>\n",
       "      <td>working with notebooks in dsx</td>\n",
       "    </tr>\n",
       "    <tr>\n",
       "      <th>182</th>\n",
       "      <td>182</td>\n",
       "      <td>Overview of RStudio IDE in DSX</td>\n",
       "    </tr>\n",
       "    <tr>\n",
       "      <th>763</th>\n",
       "      <td>763</td>\n",
       "      <td>load data into rstudio for analysis in dsx</td>\n",
       "    </tr>\n",
       "    <tr>\n",
       "      <th>665</th>\n",
       "      <td>665</td>\n",
       "      <td>get social with your notebooks in dsx</td>\n",
       "    </tr>\n",
       "    <tr>\n",
       "      <th>821</th>\n",
       "      <td>821</td>\n",
       "      <td>using rstudio in ibm data science experience</td>\n",
       "    </tr>\n",
       "    <tr>\n",
       "      <th>474</th>\n",
       "      <td>474</td>\n",
       "      <td>publish notebooks to github in dsx</td>\n",
       "    </tr>\n",
       "    <tr>\n",
       "      <th>806</th>\n",
       "      <td>806</td>\n",
       "      <td>Collaborate on projects in DSX</td>\n",
       "    </tr>\n",
       "    <tr>\n",
       "      <th>355</th>\n",
       "      <td>355</td>\n",
       "      <td>run shiny applications in rstudio in dsx</td>\n",
       "    </tr>\n",
       "    <tr>\n",
       "      <th>395</th>\n",
       "      <td>395</td>\n",
       "      <td>run dsx notebooks on amazon emr</td>\n",
       "    </tr>\n",
       "    <tr>\n",
       "      <th>277</th>\n",
       "      <td>277</td>\n",
       "      <td>work with data connections in dsx</td>\n",
       "    </tr>\n",
       "  </tbody>\n",
       "</table>\n",
       "</div>"
      ],
      "text/plain": [
       "     article_id                                      doc_name\n",
       "373         373                 working with notebooks in dsx\n",
       "182         182                Overview of RStudio IDE in DSX\n",
       "763         763    load data into rstudio for analysis in dsx\n",
       "665         665         get social with your notebooks in dsx\n",
       "821         821  using rstudio in ibm data science experience\n",
       "474         474            publish notebooks to github in dsx\n",
       "806         806                Collaborate on projects in DSX\n",
       "355         355      run shiny applications in rstudio in dsx\n",
       "395         395               run dsx notebooks on amazon emr\n",
       "277         277             work with data connections in dsx"
      ]
     },
     "execution_count": 25,
     "metadata": {},
     "output_type": "execute_result"
    }
   ],
   "source": [
    "# Print the recommended articles using transformers\n",
    "print(f'\\nThe transformer model recommended articles are:')\n",
    "recommendations_transf_list_20 = content_recommender_transformer(20, 11, df_titles)\n",
    "recommendations_transf_list_20[1]"
   ]
  },
  {
   "cell_type": "code",
   "execution_count": 26,
   "metadata": {},
   "outputs": [
    {
     "name": "stdout",
     "output_type": "stream",
     "text": [
      "The article with id = 20 for which we give recommendations is:\n",
      "working interactively with rstudio and notebooks in dsx\n",
      "\n",
      "Articles recommended by transformer but not by baseline model:\n",
      "(277, 'work with data connections in dsx')\n",
      "(395, 'run dsx notebooks on amazon emr')\n",
      "(821, 'using rstudio in ibm data science experience')\n",
      "(806, 'Collaborate on projects in DSX')\n",
      "\n",
      "Articles recommended by baseline but not by transformer model:\n",
      "(240, 'spark 1.4 for rstudio')\n",
      "(930, 'how to use version control (github) in rstudio within dsx?')\n",
      "(958, 'using dsx notebooks to analyze github data')\n",
      "(626, 'analyze db2 warehouse on cloud data in rstudio in dsx')\n"
     ]
    }
   ],
   "source": [
    "list_transf_20 = recommendations_transf_list_20[1].article_id.values\n",
    "list_tfidf_20 = recommendations_tfidf_list_20[1].article_id.values\n",
    "\n",
    "transf_not_tfidf = list(set(list_transf_20) - set(list_tfidf_20))\n",
    "tfidf_not_transf = list(set(list_tfidf_20) - set(list_transf_20))\n",
    "\n",
    "# Print the information for the test article\n",
    "print(f'The article with id = {article_id} for which we give recommendations is:\\n{recommendations_tfidf_list_20[0][1]}')\n",
    "\n",
    "# The articles recommended by transformer model but not by baseline \n",
    "print(f'\\nArticles recommended by transformer but not by baseline model:')\n",
    "\n",
    "for art_id in transf_not_tfidf:\n",
    "    print(get_article_info(art_id, df_titles))\n",
    "\n",
    "# The articles recommended by the baseline model, but not by the transformer model\n",
    "print(f'\\nArticles recommended by baseline but not by transformer model:')\n",
    "\n",
    "for art_id in tfidf_not_transf:\n",
    "    print(get_article_info(art_id, df_titles))"
   ]
  },
  {
   "cell_type": "code",
   "execution_count": 27,
   "metadata": {},
   "outputs": [
    {
     "name": "stdout",
     "output_type": "stream",
     "text": [
      "The article with id = 500 for which we give recommendations is:\n",
      "the difference between ai, machine learning, and deep learning?\n",
      "\n",
      "The baseline model recommended articles are:\n"
     ]
    },
    {
     "data": {
      "text/html": [
       "<div>\n",
       "<style scoped>\n",
       "    .dataframe tbody tr th:only-of-type {\n",
       "        vertical-align: middle;\n",
       "    }\n",
       "\n",
       "    .dataframe tbody tr th {\n",
       "        vertical-align: top;\n",
       "    }\n",
       "\n",
       "    .dataframe thead th {\n",
       "        text-align: right;\n",
       "    }\n",
       "</style>\n",
       "<table border=\"1\" class=\"dataframe\">\n",
       "  <thead>\n",
       "    <tr style=\"text-align: right;\">\n",
       "      <th></th>\n",
       "      <th>article_id</th>\n",
       "      <th>doc_name</th>\n",
       "    </tr>\n",
       "  </thead>\n",
       "  <tbody>\n",
       "    <tr>\n",
       "      <th>313</th>\n",
       "      <td>313</td>\n",
       "      <td>what is machine learning?</td>\n",
       "    </tr>\n",
       "    <tr>\n",
       "      <th>260</th>\n",
       "      <td>260</td>\n",
       "      <td>the machine learning database</td>\n",
       "    </tr>\n",
       "    <tr>\n",
       "      <th>762</th>\n",
       "      <td>762</td>\n",
       "      <td>From Machine Learning to Learning Machine (Dinesh Nirmal)</td>\n",
       "    </tr>\n",
       "    <tr>\n",
       "      <th>237</th>\n",
       "      <td>237</td>\n",
       "      <td>deep learning with data science experience</td>\n",
       "    </tr>\n",
       "    <tr>\n",
       "      <th>1035</th>\n",
       "      <td>1035</td>\n",
       "      <td>machine learning for the enterprise.</td>\n",
       "    </tr>\n",
       "    <tr>\n",
       "      <th>800</th>\n",
       "      <td>800</td>\n",
       "      <td>machine learning for the enterprise</td>\n",
       "    </tr>\n",
       "    <tr>\n",
       "      <th>336</th>\n",
       "      <td>336</td>\n",
       "      <td>challenges in deep learning</td>\n",
       "    </tr>\n",
       "    <tr>\n",
       "      <th>337</th>\n",
       "      <td>337</td>\n",
       "      <td>generalization in deep learning</td>\n",
       "    </tr>\n",
       "    <tr>\n",
       "      <th>784</th>\n",
       "      <td>784</td>\n",
       "      <td>10 data science, machine learning and ai podcasts you must listen to</td>\n",
       "    </tr>\n",
       "    <tr>\n",
       "      <th>1004</th>\n",
       "      <td>1004</td>\n",
       "      <td>how to get a job in deep learning</td>\n",
       "    </tr>\n",
       "  </tbody>\n",
       "</table>\n",
       "</div>"
      ],
      "text/plain": [
       "      article_id                                                              doc_name\n",
       "313          313                                             what is machine learning?\n",
       "260          260                                         the machine learning database\n",
       "762          762             From Machine Learning to Learning Machine (Dinesh Nirmal)\n",
       "237          237                            deep learning with data science experience\n",
       "1035        1035                                  machine learning for the enterprise.\n",
       "800          800                                   machine learning for the enterprise\n",
       "336          336                                           challenges in deep learning\n",
       "337          337                                       generalization in deep learning\n",
       "784          784  10 data science, machine learning and ai podcasts you must listen to\n",
       "1004        1004                                     how to get a job in deep learning"
      ]
     },
     "execution_count": 27,
     "metadata": {},
     "output_type": "execute_result"
    }
   ],
   "source": [
    "# Choose the id for the test article\n",
    "article_id = 500\n",
    "\n",
    "# Create the list of recommendations using baseline model\n",
    "recommendations_tfidf_list_500 = content_recommender_tfidf(article_id, 10, cosine_sim, df_titles)\n",
    "\n",
    "# Print the information for the test article\n",
    "print(f'The article with id = {article_id} for which we give recommendations is:\\n{recommendations_tfidf_list_500[0][1]}')\n",
    "\n",
    "# Print the recommended articles information\n",
    "print(f'\\nThe baseline model recommended articles are:')\n",
    "recommendations_tfidf_list_500[1]"
   ]
  },
  {
   "cell_type": "code",
   "execution_count": 28,
   "metadata": {},
   "outputs": [
    {
     "name": "stdout",
     "output_type": "stream",
     "text": [
      "\n",
      "The transformer model recommended articles are:\n"
     ]
    },
    {
     "data": {
      "text/html": [
       "<div>\n",
       "<style scoped>\n",
       "    .dataframe tbody tr th:only-of-type {\n",
       "        vertical-align: middle;\n",
       "    }\n",
       "\n",
       "    .dataframe tbody tr th {\n",
       "        vertical-align: top;\n",
       "    }\n",
       "\n",
       "    .dataframe thead th {\n",
       "        text-align: right;\n",
       "    }\n",
       "</style>\n",
       "<table border=\"1\" class=\"dataframe\">\n",
       "  <thead>\n",
       "    <tr style=\"text-align: right;\">\n",
       "      <th></th>\n",
       "      <th>article_id</th>\n",
       "      <th>doc_name</th>\n",
       "    </tr>\n",
       "  </thead>\n",
       "  <tbody>\n",
       "    <tr>\n",
       "      <th>336</th>\n",
       "      <td>336</td>\n",
       "      <td>challenges in deep learning</td>\n",
       "    </tr>\n",
       "    <tr>\n",
       "      <th>278</th>\n",
       "      <td>278</td>\n",
       "      <td>deep learning trends and an example</td>\n",
       "    </tr>\n",
       "    <tr>\n",
       "      <th>337</th>\n",
       "      <td>337</td>\n",
       "      <td>generalization in deep learning</td>\n",
       "    </tr>\n",
       "    <tr>\n",
       "      <th>313</th>\n",
       "      <td>313</td>\n",
       "      <td>what is machine learning?</td>\n",
       "    </tr>\n",
       "    <tr>\n",
       "      <th>762</th>\n",
       "      <td>762</td>\n",
       "      <td>From Machine Learning to Learning Machine (Dinesh Nirmal)</td>\n",
       "    </tr>\n",
       "    <tr>\n",
       "      <th>1313</th>\n",
       "      <td>1429</td>\n",
       "      <td>use deep learning for image classification</td>\n",
       "    </tr>\n",
       "    <tr>\n",
       "      <th>237</th>\n",
       "      <td>237</td>\n",
       "      <td>deep learning with data science experience</td>\n",
       "    </tr>\n",
       "    <tr>\n",
       "      <th>833</th>\n",
       "      <td>833</td>\n",
       "      <td>machine learning and the science of choosing</td>\n",
       "    </tr>\n",
       "    <tr>\n",
       "      <th>195</th>\n",
       "      <td>195</td>\n",
       "      <td>artificial intelligence, ethically speaking – inside machine learning – medium</td>\n",
       "    </tr>\n",
       "    <tr>\n",
       "      <th>532</th>\n",
       "      <td>532</td>\n",
       "      <td>the two phases of gradient descent in deep learning</td>\n",
       "    </tr>\n",
       "  </tbody>\n",
       "</table>\n",
       "</div>"
      ],
      "text/plain": [
       "      article_id                                                                        doc_name\n",
       "336          336                                                     challenges in deep learning\n",
       "278          278                                             deep learning trends and an example\n",
       "337          337                                                 generalization in deep learning\n",
       "313          313                                                       what is machine learning?\n",
       "762          762                       From Machine Learning to Learning Machine (Dinesh Nirmal)\n",
       "1313        1429                                      use deep learning for image classification\n",
       "237          237                                      deep learning with data science experience\n",
       "833          833                                    machine learning and the science of choosing\n",
       "195          195  artificial intelligence, ethically speaking – inside machine learning – medium\n",
       "532          532                             the two phases of gradient descent in deep learning"
      ]
     },
     "execution_count": 28,
     "metadata": {},
     "output_type": "execute_result"
    }
   ],
   "source": [
    "# Print the recommended articles information\n",
    "print(f'\\nThe transformer model recommended articles are:')\n",
    "recommendations_transf_list_500 = content_recommender_transformer(500, 11, df_titles)\n",
    "recommendations_transf_list_500[1]"
   ]
  },
  {
   "cell_type": "code",
   "execution_count": 29,
   "metadata": {},
   "outputs": [
    {
     "name": "stdout",
     "output_type": "stream",
     "text": [
      "The article with id = 500 for which we give recommendations is:\n",
      "the difference between ai, machine learning, and deep learning?\n",
      "\n",
      "Articles recommended by transformer but not by baseline model:\n",
      "(833, 'machine learning and the science of choosing')\n",
      "(195, 'artificial intelligence, ethically speaking – inside machine learning – medium')\n",
      "(532, 'the two phases of gradient descent in deep learning')\n",
      "(1429, 'use deep learning for image classification')\n",
      "(278, 'deep learning trends and an example')\n",
      "\n",
      "Articles recommended by baseline but not by transformer model:\n",
      "(800, 'machine learning for the enterprise')\n",
      "(260, 'the machine learning database')\n",
      "(1035, 'machine learning for the enterprise.')\n",
      "(1004, 'how to get a job in deep learning')\n",
      "(784, '10 data science, machine learning and ai podcasts you must listen to')\n"
     ]
    }
   ],
   "source": [
    "list_transf_500 = recommendations_transf_list_500[1].article_id.values\n",
    "list_tfidf_500 = recommendations_tfidf_list_500[1].article_id.values\n",
    "\n",
    "transf_not_tfidf = list(set(list_transf_500) - set(list_tfidf_500))\n",
    "tfidf_not_transf = list(set(list_tfidf_500) - set(list_transf_500))\n",
    "\n",
    "# Print the information for the test article\n",
    "print(f'The article with id = {article_id} for which we give recommendations is:\\n{recommendations_tfidf_list_500[0][1]}')\n",
    "\n",
    "# The articles recommended by transformer model but not by baseline \n",
    "print(f'\\nArticles recommended by transformer but not by baseline model:')\n",
    "\n",
    "for art_id in transf_not_tfidf:\n",
    "    print(get_article_info(art_id, df_titles))\n",
    "\n",
    "    # The articles recommended by the baseline model, but not by the transformer model\n",
    "print(f'\\nArticles recommended by baseline but not by transformer model:')\n",
    "\n",
    "for art_id in tfidf_not_transf:\n",
    "    print(get_article_info(art_id, df_titles))"
   ]
  },
  {
   "cell_type": "markdown",
   "metadata": {},
   "source": [
    "### <font color='darkblue'>Examples: Make content recommendations</font>"
   ]
  },
  {
   "cell_type": "code",
   "execution_count": 30,
   "metadata": {},
   "outputs": [
    {
     "name": "stdout",
     "output_type": "stream",
     "text": [
      "The articles accessed by user_id=40 are:\n"
     ]
    },
    {
     "data": {
      "text/plain": [
       "{(151, 'jupyter notebook tutorial'),\n",
       " (162, 'an introduction to stock market data analysis with r (part 1)'),\n",
       " (486, 'use spark r to load and analyze data'),\n",
       " (542, 'getting started with python'),\n",
       " (645, 'how to perform a logistic regression in r'),\n",
       " (692, '15 page tutorial for r'),\n",
       " (1198, 'country statistics: commercial bank prime lending rate'),\n",
       " (1304, 'gosales transactions for logistic regression model'),\n",
       " (1368, 'putting a human face on machine learning'),\n",
       " (1430,\n",
       "  'using pixiedust for fast, flexible, and easier data analysis and experimentation'),\n",
       " (1436, 'welcome to pixiedust')}"
      ]
     },
     "execution_count": 30,
     "metadata": {},
     "output_type": "execute_result"
    }
   ],
   "source": [
    "# Take a look at the unique articles seen by user_id=40\n",
    "articles_ids_seen_40 = articles_per_user.loc[40].viewed_articles\n",
    "articles_seen_40 = [get_article_info(article_id, \n",
    "                                     df_titles) for article_id in articles_ids_seen_40]\n",
    "print(f'The articles accessed by user_id=40 are:')\n",
    "set(articles_seen_40)"
   ]
  },
  {
   "cell_type": "code",
   "execution_count": 31,
   "metadata": {},
   "outputs": [
    {
     "name": "stdout",
     "output_type": "stream",
     "text": [
      "The articles recommended by baseline model to user_id=40 are:\n"
     ]
    },
    {
     "data": {
      "text/plain": [
       "[(82, 'build a logistic regression model with wml & dsx'),\n",
       " (1305, 'gosales transactions for naive bayes model'),\n",
       " (110, 'pixiedust: magic for your python notebook'),\n",
       " (729, 'pixiedust 1.0 is here! – ibm watson data lab'),\n",
       " (329, 'introduction to market basket analysis in\\xa0python'),\n",
       " (886, 'Perform market basket analysis using dashDB and R'),\n",
       " (108,\n",
       "  '520    using notebooks with pixiedust for fast, flexi...\\nName: title, dtype: object'),\n",
       " (528, '10 tips on using jupyter notebook'),\n",
       " (855, 'enjoy python 3.5 in jupyter notebooks'),\n",
       " (671, 'Libraries and Tutorials')]"
      ]
     },
     "execution_count": 31,
     "metadata": {},
     "output_type": "execute_result"
    }
   ],
   "source": [
    "# Take a look at the list of recommended articles using the baseline model\n",
    "print(f'The articles recommended by baseline model to user_id=40 are:')\n",
    "recs_tfidf_40 = make_content_recs_tfidf(40, cosine_sim, 10, \n",
    "                                        articles_per_user, users_per_article)\n",
    "recs_tfidf_40"
   ]
  },
  {
   "cell_type": "code",
   "execution_count": 32,
   "metadata": {},
   "outputs": [],
   "source": [
    "# Separate tuples of ids and titles for the recommended articles\n",
    "recs_tfidf_40_ids, recs_tfidf_40_titles = zip(*recs_tfidf_40)"
   ]
  },
  {
   "cell_type": "code",
   "execution_count": 33,
   "metadata": {},
   "outputs": [
    {
     "name": "stdout",
     "output_type": "stream",
     "text": [
      "The articles recommended by the transformer model to user_id=40 are:\n"
     ]
    },
    {
     "data": {
      "text/plain": [
       "[(617, 'pixiedust gets its first community-driven feature in 1.0.4'),\n",
       " (886, 'Perform market basket analysis using dashDB and R'),\n",
       " (1161, 'analyze data, build a dashboard with spark and pixiedust'),\n",
       " (528, '10 tips on using jupyter notebook'),\n",
       " (351, 'do i need to learn r?'),\n",
       " (1425, 'use spark for r to load data and run sql queries'),\n",
       " (426, 'migrating to python 3 with pleasure'),\n",
       " (511, 'Put a human face on machine learning with WML & DSX'),\n",
       " (1196, 'country statistics: central bank discount rate')]"
      ]
     },
     "execution_count": 33,
     "metadata": {},
     "output_type": "execute_result"
    }
   ],
   "source": [
    "# Take a look at the list of recommended articles using the transformer model\n",
    "print(f'The articles recommended by the transformer model to user_id=40 are:')\n",
    "recs_transf_40 = make_content_recs_transformers(40, 12, \n",
    "                                        articles_per_user, users_per_article)\n",
    "recs_transf_40"
   ]
  },
  {
   "cell_type": "code",
   "execution_count": 34,
   "metadata": {},
   "outputs": [],
   "source": [
    "# Separate tuples of ids and titles for the recommended articles\n",
    "recs_transf_40_ids, recs_transf_40_titles = zip(*recs_transf_40)"
   ]
  },
  {
   "cell_type": "code",
   "execution_count": 35,
   "metadata": {},
   "outputs": [
    {
     "data": {
      "text/plain": [
       "{528, 886}"
      ]
     },
     "execution_count": 35,
     "metadata": {},
     "output_type": "execute_result"
    }
   ],
   "source": [
    "# Articles recommended by both models\n",
    "set(recs_tfidf_40_ids).intersection(set(recs_transf_40_ids))"
   ]
  },
  {
   "cell_type": "code",
   "execution_count": 36,
   "metadata": {},
   "outputs": [
    {
     "data": {
      "text/plain": [
       "({82, 108, 110, 329, 671, 729, 855, 1305},\n",
       " {351, 426, 511, 617, 1161, 1196, 1425})"
      ]
     },
     "execution_count": 36,
     "metadata": {},
     "output_type": "execute_result"
    }
   ],
   "source": [
    "# Get ids recommended by one model but not the other\n",
    "tfidf_not_transf_40 = set(recs_tfidf_40_ids) - set(recs_transf_40_ids)\n",
    "transf_not_tfidf_40 = set(recs_transf_40_ids) - set(recs_tfidf_40_ids)\n",
    "\n",
    "tfidf_not_transf_40, transf_not_tfidf_40"
   ]
  },
  {
   "cell_type": "code",
   "execution_count": 37,
   "metadata": {},
   "outputs": [
    {
     "name": "stdout",
     "output_type": "stream",
     "text": [
      "The articles accessed by user_id=178 are:\n"
     ]
    },
    {
     "data": {
      "text/plain": [
       "{(173, '10 must attend data science, ml and ai conferences in 2018')}"
      ]
     },
     "execution_count": 37,
     "metadata": {},
     "output_type": "execute_result"
    }
   ],
   "source": [
    "# Take a look at the unique articles seen by user_id=178\n",
    "articles_ids_seen_178 = articles_per_user.loc[178].viewed_articles\n",
    "articles_seen_178 = [get_article_info(article_id, df_titles) for article_id in articles_ids_seen_178]\n",
    "print(f'The articles accessed by user_id=178 are:')\n",
    "set(articles_seen_178)"
   ]
  },
  {
   "cell_type": "code",
   "execution_count": 38,
   "metadata": {},
   "outputs": [
    {
     "name": "stdout",
     "output_type": "stream",
     "text": [
      "The articles recommended by the baseline model to user_id=178 are:\n"
     ]
    },
    {
     "data": {
      "text/plain": [
       "[(500, 'the difference between ai, machine learning, and deep learning?'),\n",
       " (508, 'data science in the cloud'),\n",
       " (661, '21 Must-Know Data Science Interview Questions and Answers'),\n",
       " (679, 'this week in data science'),\n",
       " (715,\n",
       "  \"for ai to get creative, it must learn the rules--then how to break 'em\"),\n",
       " (784, '10 data science, machine learning and ai podcasts you must listen to'),\n",
       " (967, 'ml algorithm != learning machine'),\n",
       " (986, 'r for data science'),\n",
       " (1299, 'from spark ml model to online scoring with scala'),\n",
       " (1338, 'ml optimization using cognitive assistant')]"
      ]
     },
     "execution_count": 38,
     "metadata": {},
     "output_type": "execute_result"
    }
   ],
   "source": [
    "# Take a look at the list of recommended articles\n",
    "print(f'The articles recommended by the baseline model to user_id=178 are:')\n",
    "recs_tfidf_178 = make_content_recs_tfidf(178, cosine_sim, 10, \n",
    "                                         articles_per_user, users_per_article)\n",
    "recs_tfidf_178"
   ]
  },
  {
   "cell_type": "code",
   "execution_count": 39,
   "metadata": {},
   "outputs": [
    {
     "name": "stdout",
     "output_type": "stream",
     "text": [
      "The articles recommended by the transformer model to user_id=40 are:\n"
     ]
    },
    {
     "data": {
      "text/plain": [
       "[(8, 'data science bowl 2017'),\n",
       " (78, 'this week in data science (may 16, 2017)'),\n",
       " (364, 'this week in data science (october 18, 2016)'),\n",
       " (440, 'this week in data science (january 24, 2017)'),\n",
       " (510, 'this week in data science (may 30, 2017)'),\n",
       " (631, 'this week in data science (january 17, 2017)'),\n",
       " (661, '21 Must-Know Data Science Interview Questions and Answers'),\n",
       " (679, 'this week in data science'),\n",
       " (990, 'this week in data science (january 10, 2017)')]"
      ]
     },
     "execution_count": 39,
     "metadata": {},
     "output_type": "execute_result"
    }
   ],
   "source": [
    "# Take a look at the list of recommended articles using the transformer model\n",
    "print(f'The articles recommended by the transformer model to user_id=40 are:')\n",
    "recs_transf_178 = make_content_recs_transformers(178, 12, \n",
    "                                        articles_per_user, users_per_article)\n",
    "recs_transf_178"
   ]
  },
  {
   "cell_type": "code",
   "execution_count": 40,
   "metadata": {},
   "outputs": [],
   "source": [
    "# Separate tuples of ids and titles for the recommended articles\n",
    "recs_transf_178_ids, recs_transf_178_titles = zip(*recs_tfidf_178)"
   ]
  },
  {
   "cell_type": "code",
   "execution_count": 41,
   "metadata": {},
   "outputs": [],
   "source": [
    "# Separate tuples of ids and titles for the recommended articles\n",
    "recs_tfidf_178_ids, recs_tfidf_178_titles = zip(*recs_tfidf_178)"
   ]
  },
  {
   "cell_type": "markdown",
   "metadata": {},
   "source": [
    "## <font color='darkblue'>Topic modeling with BERT</font>"
   ]
  },
  {
   "cell_type": "markdown",
   "metadata": {},
   "source": [
    "<div class=\"alert alert-block alert-info\">\n",
    "\n",
    "<b>NOTES</b>:\n",
    "    <ul>The approach here is after Maarten Grootendorst, Topic Modeling with BERT (Medium, Oct 5, 2020).\n",
    "    </ul>\n",
    "</div>"
   ]
  },
  {
   "cell_type": "code",
   "execution_count": 42,
   "metadata": {},
   "outputs": [
    {
     "data": {
      "text/html": [
       "<div>\n",
       "<style scoped>\n",
       "    .dataframe tbody tr th:only-of-type {\n",
       "        vertical-align: middle;\n",
       "    }\n",
       "\n",
       "    .dataframe tbody tr th {\n",
       "        vertical-align: top;\n",
       "    }\n",
       "\n",
       "    .dataframe thead th {\n",
       "        text-align: right;\n",
       "    }\n",
       "</style>\n",
       "<table border=\"1\" class=\"dataframe\">\n",
       "  <thead>\n",
       "    <tr style=\"text-align: right;\">\n",
       "      <th></th>\n",
       "      <th>doc_body</th>\n",
       "      <th>doc_description</th>\n",
       "      <th>article_id</th>\n",
       "      <th>views</th>\n",
       "      <th>doc_name</th>\n",
       "      <th>users_accessed</th>\n",
       "    </tr>\n",
       "  </thead>\n",
       "  <tbody>\n",
       "    <tr>\n",
       "      <th>0</th>\n",
       "      <td>Skip navigation Sign in SearchLoading...\\r\\n\\r\\nClose Yeah, keep it Undo CloseTHIS VID...</td>\n",
       "      <td>Detect bad readings in real time using Python and Streaming Analytics.</td>\n",
       "      <td>0</td>\n",
       "      <td>14</td>\n",
       "      <td>detect malfunctioning iot sensors with streaming analytics</td>\n",
       "      <td>[495, 495, 495, 503, 233, 552, 1347, 1051, 785, 2992, 3216, 3570, 4571, 4836]</td>\n",
       "    </tr>\n",
       "    <tr>\n",
       "      <th>1</th>\n",
       "      <td>No Free Hunch Navigation * kaggle.com\\r\\n\\r\\n * kaggle.com\\r\\n\\r\\nCommunicating data s...</td>\n",
       "      <td>See the forest, see the trees. Here lies the challenge in both performing and presenti...</td>\n",
       "      <td>1</td>\n",
       "      <td>0</td>\n",
       "      <td>Communicating data science: A guide to presenting your work</td>\n",
       "      <td>[]</td>\n",
       "    </tr>\n",
       "  </tbody>\n",
       "</table>\n",
       "</div>"
      ],
      "text/plain": [
       "                                                                                    doc_body                                                                            doc_description  article_id  views                                                     doc_name                                                                 users_accessed\n",
       "0  Skip navigation Sign in SearchLoading...\\r\\n\\r\\nClose Yeah, keep it Undo CloseTHIS VID...                     Detect bad readings in real time using Python and Streaming Analytics.           0     14   detect malfunctioning iot sensors with streaming analytics  [495, 495, 495, 503, 233, 552, 1347, 1051, 785, 2992, 3216, 3570, 4571, 4836]\n",
       "1  No Free Hunch Navigation * kaggle.com\\r\\n\\r\\n * kaggle.com\\r\\n\\r\\nCommunicating data s...  See the forest, see the trees. Here lies the challenge in both performing and presenti...           1      0  Communicating data science: A guide to presenting your work                                                                             []"
      ]
     },
     "execution_count": 42,
     "metadata": {},
     "output_type": "execute_result"
    }
   ],
   "source": [
    "# Create a copy of article information data\n",
    "metadata = users_per_article.copy()\n",
    "\n",
    "# Take a look at the data\n",
    "metadata.head(2)"
   ]
  },
  {
   "cell_type": "code",
   "execution_count": 43,
   "metadata": {},
   "outputs": [
    {
     "data": {
      "text/html": [
       "<div>\n",
       "<style scoped>\n",
       "    .dataframe tbody tr th:only-of-type {\n",
       "        vertical-align: middle;\n",
       "    }\n",
       "\n",
       "    .dataframe tbody tr th {\n",
       "        vertical-align: top;\n",
       "    }\n",
       "\n",
       "    .dataframe thead th {\n",
       "        text-align: right;\n",
       "    }\n",
       "</style>\n",
       "<table border=\"1\" class=\"dataframe\">\n",
       "  <thead>\n",
       "    <tr style=\"text-align: right;\">\n",
       "      <th></th>\n",
       "      <th>doc_body</th>\n",
       "      <th>doc_description</th>\n",
       "      <th>article_id</th>\n",
       "      <th>views</th>\n",
       "      <th>doc_name</th>\n",
       "      <th>users_accessed</th>\n",
       "      <th>doc_text</th>\n",
       "    </tr>\n",
       "  </thead>\n",
       "  <tbody>\n",
       "    <tr>\n",
       "      <th>0</th>\n",
       "      <td>Skip navigation Sign in SearchLoading...\\r\\n\\r\\nClose Yeah, keep it Undo CloseTHIS VID...</td>\n",
       "      <td>Detect bad readings in real time using Python and Streaming Analytics.</td>\n",
       "      <td>0</td>\n",
       "      <td>14</td>\n",
       "      <td>detect malfunctioning iot sensors with streaming analytics</td>\n",
       "      <td>[495, 495, 495, 503, 233, 552, 1347, 1051, 785, 2992, 3216, 3570, 4571, 4836]</td>\n",
       "      <td>Detect bad readings in real time using Python and Streaming Analytics. , detect malfun...</td>\n",
       "    </tr>\n",
       "    <tr>\n",
       "      <th>1</th>\n",
       "      <td>No Free Hunch Navigation * kaggle.com\\r\\n\\r\\n * kaggle.com\\r\\n\\r\\nCommunicating data s...</td>\n",
       "      <td>See the forest, see the trees. Here lies the challenge in both performing and presenti...</td>\n",
       "      <td>1</td>\n",
       "      <td>0</td>\n",
       "      <td>Communicating data science: A guide to presenting your work</td>\n",
       "      <td>[]</td>\n",
       "      <td>See the forest, see the trees. Here lies the challenge in both performing and presenti...</td>\n",
       "    </tr>\n",
       "  </tbody>\n",
       "</table>\n",
       "</div>"
      ],
      "text/plain": [
       "                                                                                    doc_body                                                                            doc_description  article_id  views                                                     doc_name                                                                 users_accessed                                                                                   doc_text\n",
       "0  Skip navigation Sign in SearchLoading...\\r\\n\\r\\nClose Yeah, keep it Undo CloseTHIS VID...                     Detect bad readings in real time using Python and Streaming Analytics.           0     14   detect malfunctioning iot sensors with streaming analytics  [495, 495, 495, 503, 233, 552, 1347, 1051, 785, 2992, 3216, 3570, 4571, 4836]  Detect bad readings in real time using Python and Streaming Analytics. , detect malfun...\n",
       "1  No Free Hunch Navigation * kaggle.com\\r\\n\\r\\n * kaggle.com\\r\\n\\r\\nCommunicating data s...  See the forest, see the trees. Here lies the challenge in both performing and presenti...           1      0  Communicating data science: A guide to presenting your work                                                                             []  See the forest, see the trees. Here lies the challenge in both performing and presenti..."
      ]
     },
     "execution_count": 43,
     "metadata": {},
     "output_type": "execute_result"
    }
   ],
   "source": [
    "# Replace NaN with the string 'none'\n",
    "metadata.fillna('none', inplace=True)\n",
    "\n",
    "# Create a new column that combines doc_name and doc_description \n",
    "metadata['doc_text'] = metadata['doc_description'] +  ' , ' + metadata['doc_name']\n",
    "\n",
    "# Check the output\n",
    "metadata.head(2)"
   ]
  },
  {
   "cell_type": "code",
   "execution_count": 44,
   "metadata": {},
   "outputs": [],
   "source": [
    "# Create a copy of the dataframe that coontains artcle id and title\n",
    "df_articles = df_titles.copy()"
   ]
  },
  {
   "cell_type": "code",
   "execution_count": 45,
   "metadata": {},
   "outputs": [
    {
     "data": {
      "text/html": [
       "<div>\n",
       "<style scoped>\n",
       "    .dataframe tbody tr th:only-of-type {\n",
       "        vertical-align: middle;\n",
       "    }\n",
       "\n",
       "    .dataframe tbody tr th {\n",
       "        vertical-align: top;\n",
       "    }\n",
       "\n",
       "    .dataframe thead th {\n",
       "        text-align: right;\n",
       "    }\n",
       "</style>\n",
       "<table border=\"1\" class=\"dataframe\">\n",
       "  <thead>\n",
       "    <tr style=\"text-align: right;\">\n",
       "      <th></th>\n",
       "      <th>article_id</th>\n",
       "      <th>doc_name</th>\n",
       "      <th>vectors</th>\n",
       "    </tr>\n",
       "  </thead>\n",
       "  <tbody>\n",
       "    <tr>\n",
       "      <th>0</th>\n",
       "      <td>0</td>\n",
       "      <td>detect malfunctioning iot sensors with streaming analytics</td>\n",
       "      <td>[-0.06872767, 0.03079946, -0.006361629, -0.031556632, 0.020434225, -0.008358569, -0.00...</td>\n",
       "    </tr>\n",
       "    <tr>\n",
       "      <th>1</th>\n",
       "      <td>1</td>\n",
       "      <td>Communicating data science: A guide to presenting your work</td>\n",
       "      <td>[-0.061654978, 0.050063305, -0.047963202, -0.01333841, 0.01445606, -0.003979498, -0.00...</td>\n",
       "    </tr>\n",
       "  </tbody>\n",
       "</table>\n",
       "</div>"
      ],
      "text/plain": [
       "   article_id                                                     doc_name                                                                                    vectors\n",
       "0           0   detect malfunctioning iot sensors with streaming analytics  [-0.06872767, 0.03079946, -0.006361629, -0.031556632, 0.020434225, -0.008358569, -0.00...\n",
       "1           1  Communicating data science: A guide to presenting your work  [-0.061654978, 0.050063305, -0.047963202, -0.01333841, 0.01445606, -0.003979498, -0.00..."
      ]
     },
     "execution_count": 45,
     "metadata": {},
     "output_type": "execute_result"
    }
   ],
   "source": [
    "# Install packages to generate the BERT embeddings\n",
    "from sentence_transformers import SentenceTransformer\n",
    "\n",
    "# Transform the documents into 768-dim real vectors\n",
    "model = SentenceTransformer('all-mpnet-base-v2')\n",
    "df_articles['vectors'] = df_articles['doc_name'].apply(lambda x: model.encode(x))\n",
    "\n",
    "# Check the output\n",
    "df_articles.head(2)"
   ]
  },
  {
   "cell_type": "markdown",
   "metadata": {},
   "source": [
    "### <font color='darkblue'>Clustering with HDBSAN</font>"
   ]
  },
  {
   "cell_type": "code",
   "execution_count": 46,
   "metadata": {},
   "outputs": [],
   "source": [
    "import umap\n",
    "\n",
    "# Reduce the dimensionality of the vectors to 5 while keeping the size of the local neighborhood to 15\n",
    "embeddings = umap.UMAP(n_neighbors=15,\n",
    "                       n_components=50,\n",
    "                       metric='cosine').fit_transform(list(df_articles.vectors))"
   ]
  },
  {
   "cell_type": "code",
   "execution_count": 47,
   "metadata": {},
   "outputs": [
    {
     "data": {
      "text/html": [
       "<div>\n",
       "<style scoped>\n",
       "    .dataframe tbody tr th:only-of-type {\n",
       "        vertical-align: middle;\n",
       "    }\n",
       "\n",
       "    .dataframe tbody tr th {\n",
       "        vertical-align: top;\n",
       "    }\n",
       "\n",
       "    .dataframe thead th {\n",
       "        text-align: right;\n",
       "    }\n",
       "</style>\n",
       "<table border=\"1\" class=\"dataframe\">\n",
       "  <thead>\n",
       "    <tr style=\"text-align: right;\">\n",
       "      <th></th>\n",
       "      <th>article_id</th>\n",
       "      <th>doc_name</th>\n",
       "      <th>vectors</th>\n",
       "      <th>umap_embed</th>\n",
       "    </tr>\n",
       "  </thead>\n",
       "  <tbody>\n",
       "    <tr>\n",
       "      <th>0</th>\n",
       "      <td>0</td>\n",
       "      <td>detect malfunctioning iot sensors with streaming analytics</td>\n",
       "      <td>[-0.06872767, 0.03079946, -0.006361629, -0.031556632, 0.020434225, -0.008358569, -0.00...</td>\n",
       "      <td>[10.72285270690918, 2.153514862060547, 5.242751598358154, 6.589924335479736, 4.6285653...</td>\n",
       "    </tr>\n",
       "    <tr>\n",
       "      <th>1</th>\n",
       "      <td>1</td>\n",
       "      <td>Communicating data science: A guide to presenting your work</td>\n",
       "      <td>[-0.061654978, 0.050063305, -0.047963202, -0.01333841, 0.01445606, -0.003979498, -0.00...</td>\n",
       "      <td>[10.267996788024902, 1.962630033493042, 6.026888370513916, 6.625016212463379, 4.274230...</td>\n",
       "    </tr>\n",
       "  </tbody>\n",
       "</table>\n",
       "</div>"
      ],
      "text/plain": [
       "   article_id                                                     doc_name                                                                                    vectors                                                                                 umap_embed\n",
       "0           0   detect malfunctioning iot sensors with streaming analytics  [-0.06872767, 0.03079946, -0.006361629, -0.031556632, 0.020434225, -0.008358569, -0.00...  [10.72285270690918, 2.153514862060547, 5.242751598358154, 6.589924335479736, 4.6285653...\n",
       "1           1  Communicating data science: A guide to presenting your work  [-0.061654978, 0.050063305, -0.047963202, -0.01333841, 0.01445606, -0.003979498, -0.00...  [10.267996788024902, 1.962630033493042, 6.026888370513916, 6.625016212463379, 4.274230..."
      ]
     },
     "execution_count": 47,
     "metadata": {},
     "output_type": "execute_result"
    }
   ],
   "source": [
    "# Add the embeddings to the dataframe\n",
    "df_articles['umap_embed'] = embeddings.tolist()\n",
    "\n",
    "# Check the output\n",
    "df_articles.head(2)"
   ]
  },
  {
   "cell_type": "code",
   "execution_count": 149,
   "metadata": {},
   "outputs": [],
   "source": [
    "# Cluster the documents with HDBSCAN\n",
    "import hdbscan\n",
    "\n",
    "clusterer = hdbscan.HDBSCAN(min_cluster_size=20,\n",
    "                          metric='euclidean',                      \n",
    "                          #cluster_selection_method='eom').fit(embeddings)\n",
    "                          cluster_selection_method='leaf').fit(embeddings)"
   ]
  },
  {
   "cell_type": "code",
   "execution_count": 150,
   "metadata": {},
   "outputs": [
    {
     "data": {
      "image/png": "[encoded data removed]",
      "text/plain": [
       "<Figure size 864x432 with 2 Axes>"
      ]
     },
     "metadata": {},
     "output_type": "display_data"
    }
   ],
   "source": [
    "# Visualize the resulting clusters\n",
    "\n",
    "# Prepare data by creating a 2-dim embedding for each 768-dim vector\n",
    "umap_data = umap.UMAP(\n",
    "    n_neighbors=15, n_components=2, \n",
    "    min_dist=0.0, metric='cosine').fit_transform(list(df_articles.vectors))\n",
    "\n",
    "result = pd.DataFrame(umap_data, columns=['x', 'y'])\n",
    "result['labels'] = clusterer.labels_\n",
    "\n",
    "# Visualize the clusters clusters\n",
    "fig, ax = plt.subplots(figsize=(12, 6))\n",
    "# Define the outliers and the clusters\n",
    "outliers = result.loc[result.labels == -1, :]\n",
    "clustered = result.loc[result.labels != -1, :]\n",
    "\n",
    "#Create the plot\n",
    "plt.scatter(outliers.x, outliers.y, color='#BDBDBD', s=1.0),\n",
    "plt.scatter(clustered.x, clustered.y, c=clustered.labels, s=1.8, cmap='hsv_r')\n",
    "plt.colorbar();\n",
    "plt.title('Visualization of Document Clusters in 2 Dimensions');"
   ]
  },
  {
   "cell_type": "code",
   "execution_count": 50,
   "metadata": {},
   "outputs": [
    {
     "data": {
      "text/html": [
       "<div>\n",
       "<style scoped>\n",
       "    .dataframe tbody tr th:only-of-type {\n",
       "        vertical-align: middle;\n",
       "    }\n",
       "\n",
       "    .dataframe tbody tr th {\n",
       "        vertical-align: top;\n",
       "    }\n",
       "\n",
       "    .dataframe thead th {\n",
       "        text-align: right;\n",
       "    }\n",
       "</style>\n",
       "<table border=\"1\" class=\"dataframe\">\n",
       "  <thead>\n",
       "    <tr style=\"text-align: right;\">\n",
       "      <th></th>\n",
       "      <th>article_id</th>\n",
       "      <th>doc_name</th>\n",
       "      <th>vectors</th>\n",
       "      <th>umap_embed</th>\n",
       "      <th>labels</th>\n",
       "    </tr>\n",
       "  </thead>\n",
       "  <tbody>\n",
       "    <tr>\n",
       "      <th>0</th>\n",
       "      <td>0</td>\n",
       "      <td>detect malfunctioning iot sensors with streaming analytics</td>\n",
       "      <td>[-0.06872767, 0.03079946, -0.006361629, -0.031556632, 0.020434225, -0.008358569, -0.00...</td>\n",
       "      <td>[10.72285270690918, 2.153514862060547, 5.242751598358154, 6.589924335479736, 4.6285653...</td>\n",
       "      <td>-1</td>\n",
       "    </tr>\n",
       "    <tr>\n",
       "      <th>1</th>\n",
       "      <td>1</td>\n",
       "      <td>Communicating data science: A guide to presenting your work</td>\n",
       "      <td>[-0.061654978, 0.050063305, -0.047963202, -0.01333841, 0.01445606, -0.003979498, -0.00...</td>\n",
       "      <td>[10.267996788024902, 1.962630033493042, 6.026888370513916, 6.625016212463379, 4.274230...</td>\n",
       "      <td>7</td>\n",
       "    </tr>\n",
       "  </tbody>\n",
       "</table>\n",
       "</div>"
      ],
      "text/plain": [
       "   article_id                                                     doc_name                                                                                    vectors                                                                                 umap_embed  labels\n",
       "0           0   detect malfunctioning iot sensors with streaming analytics  [-0.06872767, 0.03079946, -0.006361629, -0.031556632, 0.020434225, -0.008358569, -0.00...  [10.72285270690918, 2.153514862060547, 5.242751598358154, 6.589924335479736, 4.6285653...      -1\n",
       "1           1  Communicating data science: A guide to presenting your work  [-0.061654978, 0.050063305, -0.047963202, -0.01333841, 0.01445606, -0.003979498, -0.00...  [10.267996788024902, 1.962630033493042, 6.026888370513916, 6.625016212463379, 4.274230...       7"
      ]
     },
     "execution_count": 50,
     "metadata": {},
     "output_type": "execute_result"
    }
   ],
   "source": [
    "# Add the topic labels to the dataframe\n",
    "df_articles['labels'] = clusterer.labels_.tolist()\n",
    "\n",
    "# Check the output\n",
    "df_articles.head(2)"
   ]
  },
  {
   "cell_type": "code",
   "execution_count": 51,
   "metadata": {},
   "outputs": [
    {
     "data": {
      "image/png": "[encoded data removed]",
      "text/plain": [
       "<Figure size 864x288 with 1 Axes>"
      ]
     },
     "metadata": {},
     "output_type": "display_data"
    }
   ],
   "source": [
    "# Visualize the distribution articles by topics\n",
    "\n",
    "# adjust figure size and font size\n",
    "sns.set(rc = {'figure.figsize':(12,4)})\n",
    "sns.set(font_scale=1)\n",
    "\n",
    "# pad margins so that markers don't get clipped by the axes\n",
    "plt.margins(x=0.2, y=0.2, tight=True);\n",
    "\n",
    "# plot the page distribution\n",
    "ax = sns.countplot(x='labels', data=df_articles, color=colors[4])\n",
    "ax.bar_label(ax.containers[0]);\n",
    "\n",
    "# Add labels and title\n",
    "plt.title('Distributions of topics obtained with HDBSAN')\n",
    "plt.xlabel('Topic Label')\n",
    "plt.ylabel('Count')\n",
    "plt.show()"
   ]
  },
  {
   "cell_type": "markdown",
   "metadata": {},
   "source": [
    "<div class=\"alert alert-block alert-info\">\n",
    "\n",
    "<b>NOTES</b>:\n",
    "    <ul>Noisy samples are given the label -1.\n",
    "    </ul>\n",
    "</div>"
   ]
  },
  {
   "cell_type": "code",
   "execution_count": 152,
   "metadata": {},
   "outputs": [],
   "source": [
    "# Extract topic sizes in a dataframe\n",
    "def extract_topic_sizes(df):\n",
    "    topic_sizes = (df.groupby(['labels'])\n",
    "                     .doc_name\n",
    "                     .count()\n",
    "                     .reset_index()\n",
    "                     .rename({'labels': 'topic', 'doc_name': 'size'}, axis='columns')\n",
    "                     .sort_values('size', ascending=False))\n",
    "    return topic_sizes"
   ]
  },
  {
   "cell_type": "code",
   "execution_count": 157,
   "metadata": {},
   "outputs": [
    {
     "data": {
      "text/html": [
       "<div>\n",
       "<style scoped>\n",
       "    .dataframe tbody tr th:only-of-type {\n",
       "        vertical-align: middle;\n",
       "    }\n",
       "\n",
       "    .dataframe tbody tr th {\n",
       "        vertical-align: top;\n",
       "    }\n",
       "\n",
       "    .dataframe thead th {\n",
       "        text-align: right;\n",
       "    }\n",
       "</style>\n",
       "<table border=\"1\" class=\"dataframe\">\n",
       "  <thead>\n",
       "    <tr style=\"text-align: right;\">\n",
       "      <th></th>\n",
       "      <th>topic</th>\n",
       "      <th>size</th>\n",
       "    </tr>\n",
       "  </thead>\n",
       "  <tbody>\n",
       "    <tr>\n",
       "      <th>14</th>\n",
       "      <td>13</td>\n",
       "      <td>111</td>\n",
       "    </tr>\n",
       "    <tr>\n",
       "      <th>1</th>\n",
       "      <td>0</td>\n",
       "      <td>110</td>\n",
       "    </tr>\n",
       "    <tr>\n",
       "      <th>7</th>\n",
       "      <td>6</td>\n",
       "      <td>80</td>\n",
       "    </tr>\n",
       "    <tr>\n",
       "      <th>2</th>\n",
       "      <td>1</td>\n",
       "      <td>78</td>\n",
       "    </tr>\n",
       "    <tr>\n",
       "      <th>8</th>\n",
       "      <td>7</td>\n",
       "      <td>72</td>\n",
       "    </tr>\n",
       "    <tr>\n",
       "      <th>3</th>\n",
       "      <td>2</td>\n",
       "      <td>70</td>\n",
       "    </tr>\n",
       "    <tr>\n",
       "      <th>9</th>\n",
       "      <td>8</td>\n",
       "      <td>67</td>\n",
       "    </tr>\n",
       "    <tr>\n",
       "      <th>11</th>\n",
       "      <td>10</td>\n",
       "      <td>45</td>\n",
       "    </tr>\n",
       "    <tr>\n",
       "      <th>6</th>\n",
       "      <td>5</td>\n",
       "      <td>34</td>\n",
       "    </tr>\n",
       "    <tr>\n",
       "      <th>13</th>\n",
       "      <td>12</td>\n",
       "      <td>33</td>\n",
       "    </tr>\n",
       "  </tbody>\n",
       "</table>\n",
       "</div>"
      ],
      "text/plain": [
       "    topic  size\n",
       "14     13   111\n",
       "1       0   110\n",
       "7       6    80\n",
       "2       1    78\n",
       "8       7    72\n",
       "3       2    70\n",
       "9       8    67\n",
       "11     10    45\n",
       "6       5    34\n",
       "13     12    33"
      ]
     },
     "execution_count": 157,
     "metadata": {},
     "output_type": "execute_result"
    }
   ],
   "source": [
    "# Display topic sizes in a dataframe\n",
    "extract_topic_sizes(df_articles)[1:11]"
   ]
  },
  {
   "cell_type": "markdown",
   "metadata": {},
   "source": [
    "Plot the cluster hierarchy: which clusters are near each other, or could perhaps be merged, and which are far apart. We can access the basic hierarchy via the condensed_tree_ attribute of the clusterer object."
   ]
  },
  {
   "cell_type": "code",
   "execution_count": 84,
   "metadata": {},
   "outputs": [
    {
     "data": {
      "image/png": "[encoded data removed]",
      "text/plain": [
       "<Figure size 864x576 with 2 Axes>"
      ]
     },
     "metadata": {},
     "output_type": "display_data"
    }
   ],
   "source": [
    "# adjust figure size and font size\n",
    "sns.set(rc = {'figure.figsize':(12,8)})\n",
    "sns.set(font_scale=1)\n",
    "\n",
    "clusterer.condensed_tree_.plot(select_clusters=True);\n",
    "\n",
    "# Add labels and title\n",
    "plt.title('Condensed Tree of HDBSAN Clusters');"
   ]
  },
  {
   "cell_type": "code",
   "execution_count": 107,
   "metadata": {},
   "outputs": [
    {
     "data": {
      "text/html": [
       "<div>\n",
       "<style scoped>\n",
       "    .dataframe tbody tr th:only-of-type {\n",
       "        vertical-align: middle;\n",
       "    }\n",
       "\n",
       "    .dataframe tbody tr th {\n",
       "        vertical-align: top;\n",
       "    }\n",
       "\n",
       "    .dataframe thead th {\n",
       "        text-align: right;\n",
       "    }\n",
       "</style>\n",
       "<table border=\"1\" class=\"dataframe\">\n",
       "  <thead>\n",
       "    <tr style=\"text-align: right;\">\n",
       "      <th></th>\n",
       "      <th>0</th>\n",
       "      <th>1</th>\n",
       "      <th>2</th>\n",
       "      <th>3</th>\n",
       "      <th>4</th>\n",
       "      <th>5</th>\n",
       "      <th>6</th>\n",
       "      <th>7</th>\n",
       "      <th>8</th>\n",
       "      <th>9</th>\n",
       "      <th>10</th>\n",
       "      <th>11</th>\n",
       "      <th>12</th>\n",
       "      <th>13</th>\n",
       "      <th>14</th>\n",
       "      <th>15</th>\n",
       "    </tr>\n",
       "  </thead>\n",
       "  <tbody>\n",
       "    <tr>\n",
       "      <th>persistence</th>\n",
       "      <td>0.44</td>\n",
       "      <td>0.39</td>\n",
       "      <td>0.24</td>\n",
       "      <td>0.39</td>\n",
       "      <td>0.03</td>\n",
       "      <td>0.1</td>\n",
       "      <td>0.31</td>\n",
       "      <td>0.18</td>\n",
       "      <td>0.33</td>\n",
       "      <td>0.12</td>\n",
       "      <td>0.08</td>\n",
       "      <td>0.1</td>\n",
       "      <td>0.22</td>\n",
       "      <td>0.1</td>\n",
       "      <td>0.04</td>\n",
       "      <td>4.84e-03</td>\n",
       "    </tr>\n",
       "  </tbody>\n",
       "</table>\n",
       "</div>"
      ],
      "text/plain": [
       "               0     1     2     3     4    5     6     7     8     9     10   11    12   13    14        15\n",
       "persistence  0.44  0.39  0.24  0.39  0.03  0.1  0.31  0.18  0.33  0.12  0.08  0.1  0.22  0.1  0.04  4.84e-03"
      ]
     },
     "execution_count": 107,
     "metadata": {},
     "output_type": "execute_result"
    }
   ],
   "source": [
    "# Evaluate the cluster persistence for the clusters (except -1)\n",
    "df=pd.DataFrame({'persistence':clusterer.cluster_persistence_}).T\n",
    "df"
   ]
  },
  {
   "cell_type": "markdown",
   "metadata": {},
   "source": [
    "### <font color='darkblue'>Topic extraction</font>"
   ]
  },
  {
   "cell_type": "code",
   "execution_count": 53,
   "metadata": {},
   "outputs": [
    {
     "data": {
      "text/html": [
       "<div>\n",
       "<style scoped>\n",
       "    .dataframe tbody tr th:only-of-type {\n",
       "        vertical-align: middle;\n",
       "    }\n",
       "\n",
       "    .dataframe tbody tr th {\n",
       "        vertical-align: top;\n",
       "    }\n",
       "\n",
       "    .dataframe thead th {\n",
       "        text-align: right;\n",
       "    }\n",
       "</style>\n",
       "<table border=\"1\" class=\"dataframe\">\n",
       "  <thead>\n",
       "    <tr style=\"text-align: right;\">\n",
       "      <th></th>\n",
       "      <th>labels</th>\n",
       "      <th>doc_name</th>\n",
       "    </tr>\n",
       "  </thead>\n",
       "  <tbody>\n",
       "    <tr>\n",
       "      <th>0</th>\n",
       "      <td>-1</td>\n",
       "      <td>detect malfunctioning iot sensors with streaming analytics Data Wrangling at Slack War...</td>\n",
       "    </tr>\n",
       "    <tr>\n",
       "      <th>1</th>\n",
       "      <td>0</td>\n",
       "      <td>predicting gentrification using longitudinal census data On the Passage of HB2 in Nort...</td>\n",
       "    </tr>\n",
       "    <tr>\n",
       "      <th>2</th>\n",
       "      <td>1</td>\n",
       "      <td>modeling energy usage in new york city using machine learning to predict value of home...</td>\n",
       "    </tr>\n",
       "    <tr>\n",
       "      <th>3</th>\n",
       "      <td>2</td>\n",
       "      <td>this week in data science (april 18, 2017) data science bowl 2017 the greatest public ...</td>\n",
       "    </tr>\n",
       "    <tr>\n",
       "      <th>4</th>\n",
       "      <td>3</td>\n",
       "      <td>Tutorial: How to load Twitter data in IBM dashDB  Use dashDB with Tableau Load XML dat...</td>\n",
       "    </tr>\n",
       "    <tr>\n",
       "      <th>5</th>\n",
       "      <td>4</td>\n",
       "      <td>learn tensorflow and deep learning together and now! bayesian regularization for #neur...</td>\n",
       "    </tr>\n",
       "    <tr>\n",
       "      <th>6</th>\n",
       "      <td>5</td>\n",
       "      <td>using machine learning to predict parking difficulty top 10 machine learning use cases...</td>\n",
       "    </tr>\n",
       "    <tr>\n",
       "      <th>7</th>\n",
       "      <td>6</td>\n",
       "      <td>got zip code data? prep it for analytics. – ibm watson data lab – medium Mapping for D...</td>\n",
       "    </tr>\n",
       "    <tr>\n",
       "      <th>8</th>\n",
       "      <td>7</td>\n",
       "      <td>Communicating data science: A guide to presenting your work creating the data science ...</td>\n",
       "    </tr>\n",
       "    <tr>\n",
       "      <th>9</th>\n",
       "      <td>8</td>\n",
       "      <td>analyze ny restaurant data using spark in dsx 3992    using apache spark to predict at...</td>\n",
       "    </tr>\n",
       "    <tr>\n",
       "      <th>10</th>\n",
       "      <td>9</td>\n",
       "      <td>Offline-First iOS Apps with Swift &amp; Cloudant Sync; Part 1: The Datastore Introducing C...</td>\n",
       "    </tr>\n",
       "    <tr>\n",
       "      <th>11</th>\n",
       "      <td>10</td>\n",
       "      <td>Move CSVs into different JSON doc stores Tutorial: How to build and query a Cloudant g...</td>\n",
       "    </tr>\n",
       "    <tr>\n",
       "      <th>12</th>\n",
       "      <td>11</td>\n",
       "      <td>Bridging the Gap Between Python and Scala Jupyter Notebooks using brunel in ipython/ju...</td>\n",
       "    </tr>\n",
       "    <tr>\n",
       "      <th>13</th>\n",
       "      <td>12</td>\n",
       "      <td>Getting Started with Compose's ScyllaDB Making the Most of Compose - Customer One Pres...</td>\n",
       "    </tr>\n",
       "    <tr>\n",
       "      <th>14</th>\n",
       "      <td>13</td>\n",
       "      <td>DataLayer Conference: Boost the performance of your distributed database Browsing Post...</td>\n",
       "    </tr>\n",
       "    <tr>\n",
       "      <th>15</th>\n",
       "      <td>14</td>\n",
       "      <td>top 20 r machine learning and data science packages how to map usa rivers using ggplot...</td>\n",
       "    </tr>\n",
       "    <tr>\n",
       "      <th>16</th>\n",
       "      <td>15</td>\n",
       "      <td>working interactively with rstudio and notebooks in dsx Sign up for a free trial in DS...</td>\n",
       "    </tr>\n",
       "  </tbody>\n",
       "</table>\n",
       "</div>"
      ],
      "text/plain": [
       "    labels                                                                                   doc_name\n",
       "0       -1  detect malfunctioning iot sensors with streaming analytics Data Wrangling at Slack War...\n",
       "1        0  predicting gentrification using longitudinal census data On the Passage of HB2 in Nort...\n",
       "2        1  modeling energy usage in new york city using machine learning to predict value of home...\n",
       "3        2  this week in data science (april 18, 2017) data science bowl 2017 the greatest public ...\n",
       "4        3  Tutorial: How to load Twitter data in IBM dashDB  Use dashDB with Tableau Load XML dat...\n",
       "5        4  learn tensorflow and deep learning together and now! bayesian regularization for #neur...\n",
       "6        5  using machine learning to predict parking difficulty top 10 machine learning use cases...\n",
       "7        6  got zip code data? prep it for analytics. – ibm watson data lab – medium Mapping for D...\n",
       "8        7  Communicating data science: A guide to presenting your work creating the data science ...\n",
       "9        8  analyze ny restaurant data using spark in dsx 3992    using apache spark to predict at...\n",
       "10       9  Offline-First iOS Apps with Swift & Cloudant Sync; Part 1: The Datastore Introducing C...\n",
       "11      10  Move CSVs into different JSON doc stores Tutorial: How to build and query a Cloudant g...\n",
       "12      11  Bridging the Gap Between Python and Scala Jupyter Notebooks using brunel in ipython/ju...\n",
       "13      12  Getting Started with Compose's ScyllaDB Making the Most of Compose - Customer One Pres...\n",
       "14      13  DataLayer Conference: Boost the performance of your distributed database Browsing Post...\n",
       "15      14  top 20 r machine learning and data science packages how to map usa rivers using ggplot...\n",
       "16      15  working interactively with rstudio and notebooks in dsx Sign up for a free trial in DS..."
      ]
     },
     "execution_count": 53,
     "metadata": {},
     "output_type": "execute_result"
    }
   ],
   "source": [
    "# Create a single combined document for each cluster of documents\n",
    "docs_df = df_articles[['doc_name', 'labels']].copy()\n",
    "docs_per_topic = docs_df.groupby(['labels'], as_index=False).agg({'doc_name': ' '.join})\n",
    "docs_per_topic"
   ]
  },
  {
   "cell_type": "markdown",
   "metadata": {},
   "source": [
    "<div class=\"alert alert-block alert-info\">\n",
    "\n",
    "<b>NOTES</b>:\n",
    "    <ul>We use the class based TF-IDF vectorizer to output a np.array, instead of a sparse matrix,\n",
    "        the TfidfVectorizer would output.\n",
    "    </ul>\n",
    "</div>"
   ]
  },
  {
   "cell_type": "code",
   "execution_count": 54,
   "metadata": {},
   "outputs": [],
   "source": [
    "# Apply the topic-based TF-IDF vectorizer\n",
    "\n",
    "def ctfidf(documents, m, ngram_range=(1,1)):\n",
    "    '''\n",
    "    Compute tfidf vector for each class document.\n",
    "    INPUT:\n",
    "        documents (list) - corpus of documents\n",
    "        m (int) - number of topics\n",
    "        ngram_range (tuple) - lower, upper bounds of the range of n-values for word n-grams \n",
    "    OUTPUT: \n",
    "        tf_idf (np.array) - contains tf_idf scores of each word\n",
    "        countvec (CountVectorizer) - instance of sklearn count vectorizer\n",
    "    '''\n",
    "    \n",
    "    # Process the documents, create tokens\n",
    "    countvec = CountVectorizer(\n",
    "        tokenizer=tokenize,\n",
    "        ngram_range=ngram_range).fit(documents)\n",
    "    \n",
    "    # The size of the corpus\n",
    "    #len(countvec.get_feature_names())\n",
    "    \n",
    "    # Record frequency of each word for each topic in an array\n",
    "    t = countvec.transform(documents).toarray() # shape = m x #features\n",
    "    \n",
    "    # The total number of words (not necessarily unique) in each topic\n",
    "    w = t.sum(axis=1)\n",
    "    \n",
    "    # Divide count frequency by total word count \n",
    "    tf = np.divide(t.T, w) # term frequency per topic\n",
    "    \n",
    "    # The number of occurencies of each unique word in the corpus\n",
    "    sum_t = t.sum(axis=0)\n",
    "    \n",
    "    # Compute inverse-document-frequency\n",
    "    idf = np.log(np.divide(m, sum_t)).reshape(-1, 1)\n",
    "    \n",
    "    # Compute tf-idf score for each word\n",
    "    tf_idf = np.multiply(tf, idf)\n",
    "\n",
    "    return tf_idf, countvec"
   ]
  },
  {
   "cell_type": "code",
   "execution_count": 56,
   "metadata": {},
   "outputs": [],
   "source": [
    "# Apply the class tfidf to the text corpus for unigrams\n",
    "tf_idf, countvec = ctfidf(docs_per_topic.doc_name.values, docs_per_topic.shape[0])"
   ]
  },
  {
   "cell_type": "code",
   "execution_count": 137,
   "metadata": {},
   "outputs": [],
   "source": [
    "def extract_top_n_words_per_topic(tf_idf, countvec, docs_per_topic, n):\n",
    "    '''\n",
    "    Function to extract the top ngram words from each topic.\n",
    "    \n",
    "    INPUT:\n",
    "        tf_idf (np.array) - contains tf_idf scores of each word\n",
    "        count (CountVectorizer) - instance of sklearn count vectorizer\n",
    "        docs_per_topic (pd.DataFrame) - each row contains the topic number and\n",
    "                                        a compilation of all the documents in the topic\n",
    "        n (int) - the number of words to return for each topic\n",
    "    \n",
    "    OUTPUT:\n",
    "        top_n_words (dict) - for each topic a list of words and tfidf scores are returned\n",
    "    '''\n",
    "    # Extract a list of words\n",
    "    words = countvec.get_feature_names_out()\n",
    "    # Create a list of labels\n",
    "    #labels = list(docs_per_topic.labels)\n",
    "    labels=list(docs_per_topic.cluster)\n",
    "    # Extract index locations from the transposed tf-idf matrix  \n",
    "    tf_idf_transposed = tf_idf.T\n",
    "    indices = tf_idf_transposed.argsort()[:, -n:]\n",
    "    # Create a dictionary with the top n words and their labels\n",
    "    top_n_words = {label: [(words[j], tf_idf_transposed[i][j]) for j in indices[i]][::-1] for i,\n",
    "                   label in enumerate(labels)}\n",
    "    return top_n_words"
   ]
  },
  {
   "cell_type": "code",
   "execution_count": 58,
   "metadata": {},
   "outputs": [
    {
     "data": {
      "text/plain": [
       "{-1: [('microservices', 0.0025599030106386593),\n",
       "  ('wml', 0.0025599030106386593),\n",
       "  ('bot', 0.0025599030106386593),\n",
       "  ('calculating', 0.0025444991253610483),\n",
       "  ('sentiment', 0.0025444991253610483),\n",
       "  ('pick', 0.0025444991253610483),\n",
       "  ('average', 0.0025444991253610483),\n",
       "  ('stream', 0.0025444991253610483),\n",
       "  ('stats', 0.0025067092003730348),\n",
       "  ('bayes', 0.0025067092003730348)],\n",
       " 0: [('national', 0.01113854411580921),\n",
       "  ('income', 0.01113854411580921),\n",
       "  ('oil', 0.01113854411580921),\n",
       "  ('household', 0.010907089408396754),\n",
       "  ('caput', 0.010907089408396754),\n",
       "  ('birth', 0.010907089408396754),\n",
       "  ('age', 0.010748974008932337),\n",
       "  ('current', 0.010316712890811588),\n",
       "  ('road', 0.010316712890811588),\n",
       "  ('woman', 0.010316712890811588)],\n",
       " 1: [('antwerp', 0.013946207064446511),\n",
       "  ('portland', 0.013946207064446511),\n",
       "  ('san', 0.013946207064446511),\n",
       "  ('trentino', 0.012539284737745347),\n",
       "  ('sydney', 0.012539284737745347),\n",
       "  ('paris', 0.012539284737745347),\n",
       "  ('athens', 0.012539284737745347),\n",
       "  ('vienna', 0.012539284737745347),\n",
       "  ('toronto', 0.012539284737745347),\n",
       "  ('vancouver', 0.012539284737745347)],\n",
       " 2: [('november', 0.020127885388521637),\n",
       "  ('august', 0.020127885388521637),\n",
       "  ('february', 0.019038407670214808),\n",
       "  ('may', 0.017129175572831598),\n",
       "  ('september', 0.016102308310817312),\n",
       "  ('april', 0.016102308310817312),\n",
       "  ('october', 0.016102308310817312),\n",
       "  ('january', 0.016102308310817312),\n",
       "  ('podcasts', 0.014079382654580728),\n",
       "  ('ep', 0.014079382654580728)],\n",
       " 3: [('convert', 0.02594019592116692),\n",
       "  ('puredata', 0.02594019592116692),\n",
       "  ('integrate', 0.021025467338037652),\n",
       "  ('intelligence', 0.021025467338037652),\n",
       "  ('tweet', 0.017170989963977066),\n",
       "  ('desktop', 0.017170989963977066),\n",
       "  ('competition', 0.017170989963977066),\n",
       "  ('kaggle', 0.017170989963977066),\n",
       "  ('reporting', 0.017170989963977066),\n",
       "  ('embed', 0.017170989963977066)],\n",
       " 4: [('arithmetic', 0.036582327581132834),\n",
       "  ('scratch', 0.029651300092104385),\n",
       "  ('generative', 0.02421549866714715),\n",
       "  ('computational', 0.02421549866714715),\n",
       "  ('backpropagation', 0.02421549866714715),\n",
       "  ('adversarial', 0.02421549866714715),\n",
       "  ('agent', 0.02421549866714715),\n",
       "  ('regularization', 0.02421549866714715),\n",
       "  ('two', 0.02421549866714715),\n",
       "  ('prior', 0.02421549866714715)],\n",
       " 5: [('boosting', 0.02779306705839313),\n",
       "  ('essential', 0.02779306705839313),\n",
       "  ('prevent', 0.018397489247118287),\n",
       "  ('putting', 0.018397489247118287),\n",
       "  ('reduction', 0.018397489247118287),\n",
       "  ('difference', 0.018397489247118287),\n",
       "  ('classify', 0.018397489247118287),\n",
       "  ('pseudo', 0.018397489247118287),\n",
       "  ('hyperparameter', 0.018397489247118287),\n",
       "  ('erik', 0.018397489247118287)],\n",
       " 6: [('conversation', 0.008393230913168258),\n",
       "  ('chatbot', 0.008206306667354796),\n",
       "  ('studio', 0.0070012208851757685),\n",
       "  ('ordering', 0.006903439237084744),\n",
       "  ('sxsw', 0.006903439237084744),\n",
       "  ('secret', 0.006903439237084744),\n",
       "  ('thing', 0.006903439237084744),\n",
       "  ('custom', 0.006719057256955879),\n",
       "  ('ii', 0.0059214940239779796),\n",
       "  ('apis', 0.005595487275445505)],\n",
       " 7: [('turn', 0.01328385044423675),\n",
       "  ('refinery', 0.012487504404307301),\n",
       "  ('small', 0.011073359563288204),\n",
       "  ('choose', 0.010918704915797299),\n",
       "  ('repetitive', 0.010918704915797299),\n",
       "  ('governance', 0.010918704915797299),\n",
       "  ('team', 0.010918704915797299),\n",
       "  ('leveraging', 0.010918704915797299),\n",
       "  ('catalog', 0.009773912339159117),\n",
       "  ('smart', 0.009614436254800768)],\n",
       " 8: [('systemml', 0.015451709995228732),\n",
       "  ('changing', 0.010808414967152884),\n",
       "  ('speed', 0.008760611390849023),\n",
       "  ('scala', 0.008030161195959555),\n",
       "  ('run', 0.007889802082031525),\n",
       "  ('evolution', 0.0071545791516571125),\n",
       "  ('genomics', 0.0071545791516571125),\n",
       "  ('parallelize', 0.0071545791516571125),\n",
       "  ('violation', 0.0071545791516571125),\n",
       "  ('parallel', 0.0071545791516571125)],\n",
       " 9: [('swift', 0.03465674210625929),\n",
       "  ('camp', 0.03465674210625929),\n",
       "  ('sync', 0.026565963922182717),\n",
       "  ('tracker', 0.025992556579694466),\n",
       "  ('deployment', 0.02562953489217091),\n",
       "  ('mobile', 0.022241902739132888),\n",
       "  ('location', 0.021983989789618845),\n",
       "  ('io', 0.018054414428176773),\n",
       "  ('wearable', 0.016965349365606085),\n",
       "  ('give', 0.016965349365606085)],\n",
       " 10: [('secondary', 0.01919341850669301),\n",
       "  ('couchimport', 0.01919341850669301),\n",
       "  ('csv', 0.015556960138009923),\n",
       "  ('based', 0.01297685186489978),\n",
       "  ('geo', 0.01297685186489978),\n",
       "  ('grows', 0.012704992574243122),\n",
       "  ('mango', 0.012704992574243122),\n",
       "  ('directly', 0.012704992574243122),\n",
       "  ('permission', 0.012704992574243122),\n",
       "  ('cachemachine', 0.012704992574243122)],\n",
       " 11: [('brunel', 0.03207539584580341),\n",
       "  ('cifar', 0.030355548418386818),\n",
       "  ('fast', 0.02603777514089608),\n",
       "  ('toy', 0.024604270289192997),\n",
       "  ('ipython', 0.024604270289192997),\n",
       "  ('magic', 0.024604270289192997),\n",
       "  ('make', 0.02052367351682731),\n",
       "  ('multidimensional', 0.020093711659973163),\n",
       "  ('super', 0.020093711659973163),\n",
       "  ('pythonista', 0.020093711659973163)],\n",
       " 12: [('scylladb', 0.030594385790552892),\n",
       "  ('conquer', 0.026750827043703386),\n",
       "  ('study', 0.026750827043703386),\n",
       "  ('consulting', 0.026750827043703386),\n",
       "  ('enterprise', 0.02355536882426188),\n",
       "  ('bach', 0.02168251319235133),\n",
       "  ('flying', 0.01770758340035135),\n",
       "  ('google', 0.01770758340035135),\n",
       "  ('watch', 0.01770758340035135),\n",
       "  ('wait', 0.01770758340035135)],\n",
       " 13: [('transporter', 0.012063172295306885),\n",
       "  ('rethinkdb', 0.01024378863054383),\n",
       "  ('openstreetmap', 0.010045952058232275),\n",
       "  ('view', 0.00945000333298931),\n",
       "  ('connecting', 0.008564702654448867),\n",
       "  ('nosql', 0.008564702654448867),\n",
       "  ('storing', 0.008262803720062821),\n",
       "  ('elixir', 0.008262803720062821),\n",
       "  ('geofile', 0.007275789598227608),\n",
       "  ('backup', 0.007087502499741982)],\n",
       " 14: [('package', 0.036906405433789494),\n",
       "  ('shiny', 0.03207539584580341),\n",
       "  ('dplyr', 0.030355548418386818),\n",
       "  ('cheat', 0.025171721843997238),\n",
       "  ('interactive', 0.025171721843997238),\n",
       "  ('sheet', 0.025171721843997238),\n",
       "  ('best', 0.02052367351682731),\n",
       "  ('ggplot', 0.02052367351682731),\n",
       "  ('sapply', 0.020093711659973163),\n",
       "  ('development', 0.020093711659973163)],\n",
       " 15: [('github', 0.06430751035272557),\n",
       "  ('sign', 0.03148014826729129),\n",
       "  ('accelerate', 0.03148014826729129),\n",
       "  ('trial', 0.03148014826729129),\n",
       "  ('interactively', 0.03148014826729129),\n",
       "  ('social', 0.02719500959160257),\n",
       "  ('workflow', 0.023778512927736344),\n",
       "  ('loading', 0.023778512927736344),\n",
       "  ('publish', 0.023778512927736344),\n",
       "  ('emr', 0.023778512927736344)]}"
      ]
     },
     "execution_count": 58,
     "metadata": {},
     "output_type": "execute_result"
    }
   ],
   "source": [
    "# Get the top 10 words in each topic\n",
    "top_n_words = extract_top_n_words_per_topic(tf_idf, countvec, docs_per_topic, n=10)\n",
    "top_n_words"
   ]
  },
  {
   "cell_type": "code",
   "execution_count": 59,
   "metadata": {},
   "outputs": [
    {
     "data": {
      "text/plain": [
       "[('transporter', 0.012063172295306885),\n",
       " ('rethinkdb', 0.01024378863054383),\n",
       " ('openstreetmap', 0.010045952058232275),\n",
       " ('view', 0.00945000333298931),\n",
       " ('connecting', 0.008564702654448867),\n",
       " ('nosql', 0.008564702654448867),\n",
       " ('storing', 0.008262803720062821),\n",
       " ('elixir', 0.008262803720062821),\n",
       " ('geofile', 0.007275789598227608),\n",
       " ('backup', 0.007087502499741982)]"
      ]
     },
     "execution_count": 59,
     "metadata": {},
     "output_type": "execute_result"
    }
   ],
   "source": [
    "# Take a look at the top words in the largest cluster\n",
    "top_n_words[13]"
   ]
  },
  {
   "cell_type": "code",
   "execution_count": 60,
   "metadata": {},
   "outputs": [
    {
     "data": {
      "text/plain": [
       "3       DataLayer Conference: Boost the performance of your distributed database\n",
       "5                                          Browsing PostgreSQL Data with Compose\n",
       "6                                               Upgrading your PostgreSQL to 9.5\n",
       "17                                                 Compose for MySQL now for you\n",
       "19                                                Finding the Mode in PostgreSQL\n",
       "                                          ...                                   \n",
       "1033                                The Many Flavors of NoSQL at That Conference\n",
       "1036                                      Finding Duplicate Documents in MongoDB\n",
       "1040                    How I Stopped Worrying & Learned to Love the Mongo Shell\n",
       "1055                                               access postgresql with python\n",
       "1056                                                    access postgresql with r\n",
       "Name: doc_name, Length: 111, dtype: object"
      ]
     },
     "execution_count": 60,
     "metadata": {},
     "output_type": "execute_result"
    }
   ],
   "source": [
    "df_articles[df_articles['labels']==13].doc_name"
   ]
  },
  {
   "cell_type": "code",
   "execution_count": 61,
   "metadata": {},
   "outputs": [
    {
     "data": {
      "text/plain": [
       "[('national', 0.01113854411580921),\n",
       " ('income', 0.01113854411580921),\n",
       " ('oil', 0.01113854411580921),\n",
       " ('household', 0.010907089408396754),\n",
       " ('caput', 0.010907089408396754),\n",
       " ('birth', 0.010907089408396754),\n",
       " ('age', 0.010748974008932337),\n",
       " ('current', 0.010316712890811588),\n",
       " ('road', 0.010316712890811588),\n",
       " ('woman', 0.010316712890811588)]"
      ]
     },
     "execution_count": 61,
     "metadata": {},
     "output_type": "execute_result"
    }
   ],
   "source": [
    "top_n_words[0]"
   ]
  },
  {
   "cell_type": "code",
   "execution_count": 62,
   "metadata": {},
   "outputs": [
    {
     "data": {
      "text/plain": [
       "64                               predicting gentrification using longitudinal census data\n",
       "450                                               On the Passage of HB2 in North Carolina\n",
       "1057             adolescent fertility rate (births per 1,000 women ages 15-19), worldwide\n",
       "1058                                       agriculture, value added (% of gdp) by country\n",
       "1137                                                        annual % inflation by country\n",
       "                                              ...                                        \n",
       "1323                                                                  world marriage data\n",
       "1324                                 world tourism data by the world tourism organization\n",
       "1325    worldwide county and region - national accounts - gross national income 1948-2010\n",
       "1326                                worldwide electricity demand and production 1990-2012\n",
       "1327                    worldwide fuel oil consumption by household (in 1000 metric tons)\n",
       "Name: doc_name, Length: 110, dtype: object"
      ]
     },
     "execution_count": 62,
     "metadata": {},
     "output_type": "execute_result"
    }
   ],
   "source": [
    "df_articles[df_articles['labels']==0].doc_name"
   ]
  },
  {
   "cell_type": "code",
   "execution_count": 64,
   "metadata": {},
   "outputs": [
    {
     "data": {
      "text/plain": [
       "[('github', 0.06430751035272557),\n",
       " ('sign', 0.03148014826729129),\n",
       " ('accelerate', 0.03148014826729129),\n",
       " ('trial', 0.03148014826729129),\n",
       " ('interactively', 0.03148014826729129),\n",
       " ('social', 0.02719500959160257),\n",
       " ('workflow', 0.023778512927736344),\n",
       " ('loading', 0.023778512927736344),\n",
       " ('publish', 0.023778512927736344),\n",
       " ('emr', 0.023778512927736344)]"
      ]
     },
     "execution_count": 64,
     "metadata": {},
     "output_type": "execute_result"
    }
   ],
   "source": [
    "# The top words in the smallest cluster\n",
    "top_n_words[15]"
   ]
  },
  {
   "cell_type": "code",
   "execution_count": 65,
   "metadata": {},
   "outputs": [
    {
     "data": {
      "text/plain": [
       "20        working interactively with rstudio and notebooks in dsx\n",
       "31                                Sign up for a free trial in DSX\n",
       "75                                      Tour the Community in DSX\n",
       "182                                Overview of RStudio IDE in DSX\n",
       "277                             work with data connections in dsx\n",
       "302                             accelerate your workflow with dsx\n",
       "323                                  manage object storage in dsx\n",
       "355                      run shiny applications in rstudio in dsx\n",
       "373                                 working with notebooks in dsx\n",
       "395                               run dsx notebooks on amazon emr\n",
       "409                       using github for project control in dsx\n",
       "474                            publish notebooks to github in dsx\n",
       "665                         get social with your notebooks in dsx\n",
       "682         easy json loading and social sharing in dsx notebooks\n",
       "708                      load and analyze public data sets in dsx\n",
       "763                    load data into rstudio for analysis in dsx\n",
       "806                                Collaborate on projects in DSX\n",
       "930    how to use version control (github) in rstudio within dsx?\n",
       "958                    using dsx notebooks to analyze github data\n",
       "972                                       create a project in dsx\n",
       "Name: doc_name, dtype: object"
      ]
     },
     "execution_count": 65,
     "metadata": {},
     "output_type": "execute_result"
    }
   ],
   "source": [
    "df_articles[df_articles['labels']==15].doc_name"
   ]
  },
  {
   "cell_type": "code",
   "execution_count": null,
   "metadata": {},
   "outputs": [],
   "source": [
    "# Compute the Coherence Index per Cluster\n",
    "\n",
    "def calculate_coherence(w2v_model, term_rankings):\n",
    "    overall_coherence = 0.0\n",
    "    for topic_index in range(len(term_rankings)):\n",
    "        # check each pair of terms\n",
    "        pair_scores = []\n",
    "        for pair in combinations( term_rankings[topic_index], 2 ):\n",
    "            pair_scores.append( w2v_model.wv.similarity(pair[0], pair[1]) )\n",
    "        # get the mean for all pairs in this topic\n",
    "        topic_score = sum(pair_scores) / len(pair_scores)\n",
    "        overall_coherence += topic_score\n",
    "    # get the mean score across all topics\n",
    "    return overall_coherence / len(term_rankings)"
   ]
  },
  {
   "cell_type": "markdown",
   "metadata": {},
   "source": [
    "### <font color='darkblue'>Clustering with KMeans</font>"
   ]
  },
  {
   "cell_type": "code",
   "execution_count": 108,
   "metadata": {},
   "outputs": [],
   "source": [
    "def clustering_question(metadata,NUM_CLUSTERS):\n",
    "\n",
    "    sentences = metadata['doc_name']\n",
    "\n",
    "    X = np.array(metadata['vectors'].tolist())\n",
    "\n",
    "    kclusterer = KMeansClusterer(\n",
    "        NUM_CLUSTERS, distance=nltk.cluster.util.cosine_distance,\n",
    "        repeats=25,avoid_empty_clusters=True)\n",
    "\n",
    "    assigned_clusters = kclusterer.cluster(X, assign_clusters=True)\n",
    "\n",
    "    metadata['cluster'] = pd.Series(assigned_clusters, index=metadata.index)\n",
    "    metadata['centroid'] = metadata['cluster'].apply(lambda x: kclusterer.means()[x])\n",
    "\n",
    "    return metadata, assigned_clusters\n"
   ]
  },
  {
   "cell_type": "code",
   "execution_count": 110,
   "metadata": {},
   "outputs": [],
   "source": [
    "# Create a list of vectors for Kmeans model \n",
    "X = np.array(df_articles['vectors'].tolist())"
   ]
  },
  {
   "cell_type": "code",
   "execution_count": 115,
   "metadata": {},
   "outputs": [
    {
     "data": {
      "image/png": "[encoded data removed]",
      "text/plain": [
       "<Figure size 864x576 with 1 Axes>"
      ]
     },
     "metadata": {},
     "output_type": "display_data"
    }
   ],
   "source": [
    "TOKENIZERS_PARALLELISM=False\n",
    "# Plot the elbow curve to find the optimal number of clusters \n",
    "# Choose the number of clusters\n",
    "nc = range(2, 30)\n",
    "# Evaluate K-Means for each selection of clusters\n",
    "kmeans = [KMeans(n_clusters=i) for i in nc]\n",
    "# Compute the score (negative of the K-Means objective)\n",
    "score = [kmeans[i].fit(X).score(X) for i in range(len(kmeans))]\n",
    "# Create the plot, labels and title\n",
    "plt.plot(nc,score)\n",
    "plt.xlabel('Number of Clusters')\n",
    "plt.ylabel('Score')\n",
    "plt.title('Elbow Curve')\n",
    "plt.show()"
   ]
  },
  {
   "cell_type": "code",
   "execution_count": 116,
   "metadata": {},
   "outputs": [
    {
     "data": {
      "image/png": "[encoded data removed]",
      "text/plain": [
       "<Figure size 864x576 with 1 Axes>"
      ]
     },
     "metadata": {},
     "output_type": "display_data"
    }
   ],
   "source": [
    "# PLot also the silhouette scores for several cluster numbers\n",
    "from sklearn.metrics import silhouette_score\n",
    "\n",
    "silhouette_avg = []\n",
    "range_n_clusters = list(range(2,30))\n",
    "                    \n",
    "for k in range_n_clusters:\n",
    "    kmeans = KMeans(n_clusters = k).fit(X)\n",
    "    labels = kmeans.labels_\n",
    "    silhouette_avg.append(silhouette_score(X, labels, metric = 'euclidean'))\n",
    "\n",
    "\n",
    "plt.plot(range_n_clusters,silhouette_avg,'bx-')\n",
    "plt.xlabel('Values of K')\n",
    "plt.ylabel('Silhouette score')\n",
    "plt.title('Silhouette analysis For Optimal k')\n",
    "plt.show()"
   ]
  },
  {
   "cell_type": "markdown",
   "metadata": {},
   "source": [
    "The silhouette score of 1 means that the clusters are very dense and nicely separated. The score of 0 means that clusters are overlapping. The score of less than 0 means that data belonging to clusters may be wrong/incorrect."
   ]
  },
  {
   "cell_type": "code",
   "execution_count": 134,
   "metadata": {},
   "outputs": [],
   "source": [
    "# Perform kmean clustering\n",
    "num_clusters = 24\n",
    "clustering_model = KMeans(n_clusters=num_clusters, random_state=0)\n",
    "kmeans=clustering_model.fit(X)\n",
    "df_articles['cluster'] = kmeans.labels_"
   ]
  },
  {
   "cell_type": "code",
   "execution_count": 135,
   "metadata": {},
   "outputs": [
    {
     "data": {
      "image/png": "[encoded data removed]",
      "text/plain": [
       "<Figure size 864x432 with 2 Axes>"
      ]
     },
     "metadata": {},
     "output_type": "display_data"
    }
   ],
   "source": [
    "# Prepare data by creating a 2-dim embedding for each 768-dim vector\n",
    "umap_data = umap.UMAP(\n",
    "    n_neighbors=15, n_components=2, \n",
    "    min_dist=0.0, metric='cosine').fit_transform(list(df_articles.vectors))\n",
    "\n",
    "result = pd.DataFrame(umap_data, columns=['x', 'y'])\n",
    "result['labels'] = kmeans.labels_\n",
    "\n",
    "# Visualize the clusters clusters\n",
    "fig, ax = plt.subplots(figsize=(12, 6))\n",
    "clustered = result.loc[result.labels != -1, :]\n",
    "\n",
    "#Create the plot\n",
    "plt.scatter(clustered.x, clustered.y, c=clustered.labels, s=3, cmap='hsv_r')\n",
    "plt.colorbar();\n",
    "plt.title('Visualization of Document Clusters in 2 Dimensions');"
   ]
  },
  {
   "cell_type": "markdown",
   "metadata": {},
   "source": [
    "### <font color='darkblue'>Extract Topics from Clusters</font>"
   ]
  },
  {
   "cell_type": "code",
   "execution_count": 136,
   "metadata": {},
   "outputs": [
    {
     "data": {
      "text/html": [
       "<div>\n",
       "<style scoped>\n",
       "    .dataframe tbody tr th:only-of-type {\n",
       "        vertical-align: middle;\n",
       "    }\n",
       "\n",
       "    .dataframe tbody tr th {\n",
       "        vertical-align: top;\n",
       "    }\n",
       "\n",
       "    .dataframe thead th {\n",
       "        text-align: right;\n",
       "    }\n",
       "</style>\n",
       "<table border=\"1\" class=\"dataframe\">\n",
       "  <thead>\n",
       "    <tr style=\"text-align: right;\">\n",
       "      <th></th>\n",
       "      <th>cluster</th>\n",
       "      <th>doc_name</th>\n",
       "    </tr>\n",
       "  </thead>\n",
       "  <tbody>\n",
       "    <tr>\n",
       "      <th>0</th>\n",
       "      <td>0</td>\n",
       "      <td>Move CSVs into different JSON doc stores cloudant/meteor-couchdb Simple CouchDB and Cl...</td>\n",
       "    </tr>\n",
       "    <tr>\n",
       "      <th>1</th>\n",
       "      <td>1</td>\n",
       "      <td>top 20 r machine learning and data science packages how to map usa rivers using ggplot...</td>\n",
       "    </tr>\n",
       "    <tr>\n",
       "      <th>2</th>\n",
       "      <td>2</td>\n",
       "      <td>Offline-First iOS Apps with Swift &amp; Cloudant Sync; Part 1: The Datastore Introducing C...</td>\n",
       "    </tr>\n",
       "    <tr>\n",
       "      <th>3</th>\n",
       "      <td>3</td>\n",
       "      <td>Tutorial: How to build and query a Cloudant geospatial index For Developers: Querying ...</td>\n",
       "    </tr>\n",
       "    <tr>\n",
       "      <th>4</th>\n",
       "      <td>4</td>\n",
       "      <td>co2 emissions (metric tons per capita) by country consumption of ozone-depleting cfcs ...</td>\n",
       "    </tr>\n",
       "    <tr>\n",
       "      <th>...</th>\n",
       "      <td>...</td>\n",
       "      <td>...</td>\n",
       "    </tr>\n",
       "    <tr>\n",
       "      <th>19</th>\n",
       "      <td>19</td>\n",
       "      <td>Warehousing GeoJSON documents Customizing MongoDB’s Shell with Compact Prompts Find Mo...</td>\n",
       "    </tr>\n",
       "    <tr>\n",
       "      <th>20</th>\n",
       "      <td>20</td>\n",
       "      <td>Browsing PostgreSQL Data with Compose Compose for MySQL now for you Getting Started wi...</td>\n",
       "    </tr>\n",
       "    <tr>\n",
       "      <th>21</th>\n",
       "      <td>21</td>\n",
       "      <td>adolescent fertility rate (births per 1,000 women ages 15-19), worldwide agriculture, ...</td>\n",
       "    </tr>\n",
       "    <tr>\n",
       "      <th>22</th>\n",
       "      <td>22</td>\n",
       "      <td>Install IBM Database Conversion Workbench use data assets in a project using ibm data ...</td>\n",
       "    </tr>\n",
       "    <tr>\n",
       "      <th>23</th>\n",
       "      <td>23</td>\n",
       "      <td>Upgrading your PostgreSQL to 9.5 Finding the Mode in PostgreSQL Metrics Maven: Window ...</td>\n",
       "    </tr>\n",
       "  </tbody>\n",
       "</table>\n",
       "<p>24 rows × 2 columns</p>\n",
       "</div>"
      ],
      "text/plain": [
       "    cluster                                                                                   doc_name\n",
       "0         0  Move CSVs into different JSON doc stores cloudant/meteor-couchdb Simple CouchDB and Cl...\n",
       "1         1  top 20 r machine learning and data science packages how to map usa rivers using ggplot...\n",
       "2         2  Offline-First iOS Apps with Swift & Cloudant Sync; Part 1: The Datastore Introducing C...\n",
       "3         3  Tutorial: How to build and query a Cloudant geospatial index For Developers: Querying ...\n",
       "4         4  co2 emissions (metric tons per capita) by country consumption of ozone-depleting cfcs ...\n",
       "..      ...                                                                                        ...\n",
       "19       19  Warehousing GeoJSON documents Customizing MongoDB’s Shell with Compact Prompts Find Mo...\n",
       "20       20  Browsing PostgreSQL Data with Compose Compose for MySQL now for you Getting Started wi...\n",
       "21       21  adolescent fertility rate (births per 1,000 women ages 15-19), worldwide agriculture, ...\n",
       "22       22  Install IBM Database Conversion Workbench use data assets in a project using ibm data ...\n",
       "23       23  Upgrading your PostgreSQL to 9.5 Finding the Mode in PostgreSQL Metrics Maven: Window ...\n",
       "\n",
       "[24 rows x 2 columns]"
      ]
     },
     "execution_count": 136,
     "metadata": {},
     "output_type": "execute_result"
    }
   ],
   "source": [
    "# Create a single combined document for each cluster of documents\n",
    "docs_kmeans = df_articles[['doc_name', 'cluster']].copy()\n",
    "docs_per_topic_kmeans = docs_kmeans.groupby(['cluster'], as_index=False).agg({'doc_name': ' '.join})\n",
    "docs_per_topic_kmeans"
   ]
  },
  {
   "cell_type": "code",
   "execution_count": 139,
   "metadata": {},
   "outputs": [],
   "source": [
    "# Apply the class tfidf to the corpus \n",
    "tfidf_kmeans, countvec_kmeans = ctfidf(docs_per_topic_kmeans.doc_name.values, 24)"
   ]
  },
  {
   "cell_type": "code",
   "execution_count": 140,
   "metadata": {},
   "outputs": [
    {
     "data": {
      "text/plain": [
       "{0: [('couchdb', 0.040860824848109586),\n",
       "  ('move', 0.03820600562147697),\n",
       "  ('disk', 0.0322394037469742),\n",
       "  ('ld', 0.02463607620424764),\n",
       "  ('copy', 0.02463607620424764),\n",
       "  ('dynamodb', 0.02463607620424764),\n",
       "  ('linked', 0.02463607620424764),\n",
       "  ('lucene', 0.02463607620424764),\n",
       "  ('csvs', 0.02463607620424764),\n",
       "  ('couchdiff', 0.02463607620424764)],\n",
       " 1: [('tidyr', 0.03185350167516542),\n",
       "  ('ggplot', 0.03185350167516542),\n",
       "  ('shiny', 0.029296327697816264),\n",
       "  ('cheat', 0.02738097069539183),\n",
       "  ('sheet', 0.02738097069539183),\n",
       "  ('dplyr', 0.02208805910922667),\n",
       "  ('interactive', 0.02190477655631346),\n",
       "  ('package', 0.018483924814931874),\n",
       "  ('write', 0.01592675083758271),\n",
       "  ('best', 0.01592675083758271)],\n",
       " 2: [('sync', 0.02990640003137457),\n",
       "  ('swift', 0.02609358450332119),\n",
       "  ('dive', 0.024125307279495148),\n",
       "  ('pouchdb', 0.02272306478299733),\n",
       "  ('io', 0.021332277449866207),\n",
       "  ('mobile', 0.01699939295832815),\n",
       "  ('kiwi', 0.015427445778388085),\n",
       "  ('ical', 0.015427445778388085),\n",
       "  ('request', 0.015427445778388085),\n",
       "  ('angularjs', 0.015427445778388085)],\n",
       " 3: [('secondary', 0.03380825373861225),\n",
       "  ('biginsights', 0.02829172165550797),\n",
       "  ('based', 0.024377679853442923),\n",
       "  ('geo', 0.024377679853442923),\n",
       "  ('geospatial', 0.023822278567453056),\n",
       "  ('handle', 0.021619413811890788),\n",
       "  ('alchemy', 0.021619413811890788),\n",
       "  ('analyst', 0.021619413811890788),\n",
       "  ('advanced', 0.021619413811890788),\n",
       "  ('grows', 0.021619413811890788)],\n",
       " 4: [('oil', 0.03199140833353594),\n",
       "  ('road', 0.02756553029581623),\n",
       "  ('consumption', 0.025352591276956382),\n",
       "  ('electricity', 0.023993556250151954),\n",
       "  ('crude', 0.023993556250151954),\n",
       "  ('ton', 0.023993556250151954),\n",
       "  ('gas', 0.023993556250151954),\n",
       "  ('cellular', 0.023993556250151954),\n",
       "  ('telephone', 0.023993556250151954),\n",
       "  ('worldwide', 0.021004268857103943)],\n",
       " 5: [('nosql', 0.017518630539705673),\n",
       "  ('datalayer', 0.015592537463128671),\n",
       "  ('seven', 0.015373084667608129),\n",
       "  ('exposed', 0.014782759774975136),\n",
       "  ('question', 0.012737626558493281),\n",
       "  ('janusgraph', 0.012737626558493281),\n",
       "  ('rethinkdb', 0.012447422805979618),\n",
       "  ('salesforce', 0.011776808766767776),\n",
       "  ('movement', 0.011776808766767776),\n",
       "  ('relational', 0.011776808766767776)],\n",
       " 6: [('tensorflow', 0.014947105968273602),\n",
       "  ('neural', 0.014594802947355994),\n",
       "  ('network', 0.011788217356461655),\n",
       "  ('variational', 0.010609395620815488),\n",
       "  ('scratch', 0.010609395620815488),\n",
       "  ('face', 0.010609395620815488),\n",
       "  ('ai', 0.010422246873260712),\n",
       "  ('beginner', 0.009141629945041096),\n",
       "  ('visual', 0.009141629945041096),\n",
       "  ('prediction', 0.009141629945041096)],\n",
       " 7: [('pick', 0.013647161026975357),\n",
       "  ('stats', 0.012409936059444978),\n",
       "  ('bot', 0.01096751867974597),\n",
       "  ('problem', 0.010429863500013702),\n",
       "  ('bayes', 0.009927948847555983),\n",
       "  ('spss', 0.009927948847555983),\n",
       "  ('statistical', 0.009870766811771372),\n",
       "  ('predictive', 0.009870766811771372),\n",
       "  ('insight', 0.008774014943796775),\n",
       "  ('uci', 0.008730918126546961)],\n",
       " 8: [('chatbot', 0.032217019259509254),\n",
       "  ('conversation', 0.022767608120582143),\n",
       "  ('ordering', 0.018138004742978105),\n",
       "  ('sxsw', 0.018138004742978105),\n",
       "  ('business', 0.014318675226448557),\n",
       "  ('reddit', 0.013078536271737627),\n",
       "  ('structure', 0.013078536271737627),\n",
       "  ('word', 0.013078536271737627),\n",
       "  ('talk', 0.013078536271737627),\n",
       "  ('smart', 0.012028601700745729)],\n",
       " 9: [('portland', 0.018860625991874262),\n",
       "  ('antwerp', 0.018860625991874262),\n",
       "  ('toronto', 0.016416643750103967),\n",
       "  ('sydney', 0.016416643750103967),\n",
       "  ('barcelona', 0.016416643750103967),\n",
       "  ('venice', 0.016416643750103967),\n",
       "  ('boston', 0.016416643750103967),\n",
       "  ('vancouver', 0.016416643750103967),\n",
       "  ('austin', 0.016416643750103967),\n",
       "  ('vienna', 0.016416643750103967)],\n",
       " 10: [('august', 0.04586596251210073),\n",
       "  ('november', 0.04586596251210073),\n",
       "  ('february', 0.04191250220416502),\n",
       "  ('april', 0.03669277000968059),\n",
       "  ('january', 0.03669277000968059),\n",
       "  ('october', 0.03669277000968059),\n",
       "  ('september', 0.03669277000968059),\n",
       "  ('may', 0.03242793827181031),\n",
       "  ('march', 0.02906323567003509),\n",
       "  ('july', 0.02906323567003509)],\n",
       " 11: [('convert', 0.03291267085811921),\n",
       "  ('puredata', 0.03291267085811921),\n",
       "  ('integrate', 0.027542272075229614),\n",
       "  ('intelligence', 0.027542272075229614),\n",
       "  ('informatica', 0.02104671410826454),\n",
       "  ('ruby', 0.02104671410826454),\n",
       "  ('arcgis', 0.02104671410826454),\n",
       "  ('running', 0.02104671410826454),\n",
       "  ('embeddable', 0.02104671410826454),\n",
       "  ('land', 0.02104671410826454)],\n",
       " 12: [('camp', 0.014420599349923985),\n",
       "  ('microservices', 0.013946623351306746),\n",
       "  ('etcd', 0.013946623351306746),\n",
       "  ('support', 0.01255196101617607),\n",
       "  ('curl', 0.01255196101617607),\n",
       "  ('http', 0.01255196101617607),\n",
       "  ('replication', 0.01239581168302447),\n",
       "  ('designer', 0.010815449512442987),\n",
       "  ('pipe', 0.010815449512442987),\n",
       "  ('certificate', 0.009999624345223342)],\n",
       " 13: [('measure', 0.07117632011007316),\n",
       "  ('united', 0.07117632011007316),\n",
       "  ('demographic', 0.06977027750443353),\n",
       "  ('household', 0.051011899769555946),\n",
       "  ('state', 0.049845892104586086),\n",
       "  ('education', 0.040404986175414645),\n",
       "  ('occupation', 0.040404986175414645),\n",
       "  ('city', 0.035727228899775934),\n",
       "  ('sex', 0.03381205758829001),\n",
       "  ('income', 0.03381205758829001)],\n",
       " 14: [('github', 0.06286875330624754),\n",
       "  ('rstudio', 0.03040119212982216),\n",
       "  ('development', 0.02787766517849075),\n",
       "  ('sign', 0.02787766517849075),\n",
       "  ('accelerate', 0.02787766517849075),\n",
       "  ('trial', 0.02787766517849075),\n",
       "  ('devtools', 0.02787766517849075),\n",
       "  ('interactively', 0.02787766517849075),\n",
       "  ('social', 0.027519577507260442),\n",
       "  ('project', 0.02581129613188753)],\n",
       " 15: [('sparkr', 0.011504197452722223),\n",
       "  ('twitter', 0.011408737789746595),\n",
       "  ('scala', 0.01135219042837646),\n",
       "  ('run', 0.009627044174443685),\n",
       "  ('speed', 0.009627044174443683),\n",
       "  ('hashtags', 0.009627044174443683),\n",
       "  ('sentiment', 0.008556553342309946),\n",
       "  ('curing', 0.007356606088768393),\n",
       "  ('impressive', 0.007356606088768393),\n",
       "  ('rainbow', 0.007356606088768393)],\n",
       " 16: [('panda', 0.029220798765833174),\n",
       "  ('ipython', 0.02465740958513639),\n",
       "  ('jupyter', 0.021808093994733886),\n",
       "  ('numpy', 0.019643530828363637),\n",
       "  ('cifar', 0.019643530828363637),\n",
       "  ('tidy', 0.019643530828363637),\n",
       "  ('version', 0.018600188749966544),\n",
       "  ('matplotlib', 0.016438273056757595),\n",
       "  ('magic', 0.016438273056757595),\n",
       "  ('basic', 0.016438273056757595)],\n",
       " 17: [('playbook', 0.01919484500012156),\n",
       "  ('expert', 0.01919484500012156),\n",
       "  ('scientist', 0.016978277710700554),\n",
       "  ('small', 0.01653931817748974),\n",
       "  ('leveraging', 0.015291733229464618),\n",
       "  ('detail', 0.015291733229464618),\n",
       "  ('team', 0.015291733229464618),\n",
       "  ('repetitive', 0.015291733229464618),\n",
       "  ('visualization', 0.014402927216299847),\n",
       "  ('interview', 0.013521382014376736)],\n",
       " 18: [('custom', 0.011112580049057238),\n",
       "  ('studio', 0.010772101017403135),\n",
       "  ('authentication', 0.010772101017403135),\n",
       "  ('envoy', 0.010772101017403135),\n",
       "  ('secret', 0.009959545690533067),\n",
       "  ('client', 0.009959545690533067),\n",
       "  ('serverless', 0.009876903256854768),\n",
       "  ('flow', 0.00833443503679293),\n",
       "  ('apis', 0.008334435036792927),\n",
       "  ('openwhisk', 0.008334435036792927)],\n",
       " 19: [('mongo', 0.03304599911512807),\n",
       "  ('jsonwebtoken', 0.019041430266574715),\n",
       "  ('authenticating', 0.019041430266574715),\n",
       "  ('kibana', 0.019041430266574715),\n",
       "  ('document', 0.018883428065787466),\n",
       "  ('geofile', 0.016836969941273712),\n",
       "  ('geojson', 0.015934417943906785),\n",
       "  ('elasticsearch', 0.01543122227710702),\n",
       "  ('red', 0.014162571049340602),\n",
       "  ('shell', 0.013729957618605784)],\n",
       " 20: [('enterprise', 0.018495156374884),\n",
       "  ('come', 0.016733378113050507),\n",
       "  ('study', 0.016733378113050507),\n",
       "  ('conquer', 0.016733378113050507),\n",
       "  ('horizontal', 0.016733378113050507),\n",
       "  ('consulting', 0.016733378113050507),\n",
       "  ('connecting', 0.016594527694176867),\n",
       "  ('scylladb', 0.015844605231452983),\n",
       "  ('mysql', 0.014450273771733543),\n",
       "  ('scaling', 0.014002973344645361)],\n",
       " 21: [('birth', 0.03863586004713905),\n",
       "  ('gdp', 0.030730663177534517),\n",
       "  ('percentage', 0.030730663177534517),\n",
       "  ('annual', 0.030730663177534517),\n",
       "  ('population', 0.030202190782581722),\n",
       "  ('national', 0.02731614504669735),\n",
       "  ('rate', 0.027181971704323547),\n",
       "  ('age', 0.02705941597704704),\n",
       "  ('woman', 0.026479203978739728),\n",
       "  ('fertility', 0.02448183891416749)],\n",
       " 22: [('db', 0.039083425774727676),\n",
       "  ('catalog', 0.030944070560711842),\n",
       "  ('refinery', 0.028010998534175807),\n",
       "  ('cd', 0.02218666651596429),\n",
       "  ('asset', 0.02218666651596429),\n",
       "  ('available', 0.021008248900631854),\n",
       "  ('warehouse', 0.0208971042200779),\n",
       "  ('storage', 0.01751480808949511),\n",
       "  ('add', 0.016501924303026324),\n",
       "  ('overview', 0.015997852403821917)],\n",
       " 23: [('maven', 0.04086788554215526),\n",
       "  ('weighted', 0.032491274088747434),\n",
       "  ('postgis', 0.025884444268625004),\n",
       "  ('faster', 0.025884444268625004),\n",
       "  ('crosstab', 0.025884444268625004),\n",
       "  ('window', 0.025884444268625004),\n",
       "  ('average', 0.025669660026929837),\n",
       "  ('calculating', 0.025669660026929837),\n",
       "  ('meet', 0.021660849392498287),\n",
       "  ('everything', 0.021660849392498287)]}"
      ]
     },
     "execution_count": 140,
     "metadata": {},
     "output_type": "execute_result"
    }
   ],
   "source": [
    "# Get the top 10 words in each topic\n",
    "top_n_words_kmeans = extract_top_n_words_per_topic(tfidf_kmeans, countvec_kmeans, docs_per_topic_kmeans, n=10)\n",
    "top_n_words_kmeans"
   ]
  },
  {
   "cell_type": "code",
   "execution_count": 141,
   "metadata": {},
   "outputs": [
    {
     "data": {
      "text/html": [
       "<div>\n",
       "<style scoped>\n",
       "    .dataframe tbody tr th:only-of-type {\n",
       "        vertical-align: middle;\n",
       "    }\n",
       "\n",
       "    .dataframe tbody tr th {\n",
       "        vertical-align: top;\n",
       "    }\n",
       "\n",
       "    .dataframe thead th {\n",
       "        text-align: right;\n",
       "    }\n",
       "</style>\n",
       "<table border=\"1\" class=\"dataframe\">\n",
       "  <thead>\n",
       "    <tr style=\"text-align: right;\">\n",
       "      <th></th>\n",
       "      <th>article_id</th>\n",
       "      <th>doc_name</th>\n",
       "      <th>vectors</th>\n",
       "      <th>umap_embed</th>\n",
       "      <th>labels</th>\n",
       "      <th>cluster</th>\n",
       "    </tr>\n",
       "  </thead>\n",
       "  <tbody>\n",
       "    <tr>\n",
       "      <th>0</th>\n",
       "      <td>0</td>\n",
       "      <td>detect malfunctioning iot sensors with streaming analytics</td>\n",
       "      <td>[-0.06872767, 0.03079946, -0.006361629, -0.031556632, 0.020434225, -0.008358569, -0.00...</td>\n",
       "      <td>[10.72285270690918, 2.153514862060547, 5.242751598358154, 6.589924335479736, 4.6285653...</td>\n",
       "      <td>-1</td>\n",
       "      <td>12</td>\n",
       "    </tr>\n",
       "    <tr>\n",
       "      <th>1</th>\n",
       "      <td>1</td>\n",
       "      <td>Communicating data science: A guide to presenting your work</td>\n",
       "      <td>[-0.061654978, 0.050063305, -0.047963202, -0.01333841, 0.01445606, -0.003979498, -0.00...</td>\n",
       "      <td>[10.267996788024902, 1.962630033493042, 6.026888370513916, 6.625016212463379, 4.274230...</td>\n",
       "      <td>7</td>\n",
       "      <td>17</td>\n",
       "    </tr>\n",
       "    <tr>\n",
       "      <th>2</th>\n",
       "      <td>2</td>\n",
       "      <td>this week in data science (april 18, 2017)</td>\n",
       "      <td>[-0.043030184, 0.06632714, -0.050089184, 0.0007826319, -0.041923475, -0.031681906, 0.0...</td>\n",
       "      <td>[8.908665657043457, 2.902090072631836, 6.502479553222656, 6.166719913482666, 4.1112108...</td>\n",
       "      <td>2</td>\n",
       "      <td>10</td>\n",
       "    </tr>\n",
       "    <tr>\n",
       "      <th>3</th>\n",
       "      <td>3</td>\n",
       "      <td>DataLayer Conference: Boost the performance of your distributed database</td>\n",
       "      <td>[-0.011356175, 0.034742426, -0.01652083, 0.054450057, -0.032811232, -0.016584424, 0.01...</td>\n",
       "      <td>[10.997697830200195, 2.010314702987671, 4.313645362854004, 6.203137397766113, 4.697679...</td>\n",
       "      <td>13</td>\n",
       "      <td>5</td>\n",
       "    </tr>\n",
       "    <tr>\n",
       "      <th>4</th>\n",
       "      <td>4</td>\n",
       "      <td>analyze ny restaurant data using spark in dsx</td>\n",
       "      <td>[-0.044875752, 0.059194077, -0.036207564, 0.015440248, 0.035330776, 0.028467895, 0.021...</td>\n",
       "      <td>[11.227458953857422, 2.5481929779052734, 5.317620277404785, 6.990108966827393, 4.00053...</td>\n",
       "      <td>8</td>\n",
       "      <td>15</td>\n",
       "    </tr>\n",
       "  </tbody>\n",
       "</table>\n",
       "</div>"
      ],
      "text/plain": [
       "   article_id                                                                  doc_name                                                                                    vectors                                                                                 umap_embed  labels  cluster\n",
       "0           0                detect malfunctioning iot sensors with streaming analytics  [-0.06872767, 0.03079946, -0.006361629, -0.031556632, 0.020434225, -0.008358569, -0.00...  [10.72285270690918, 2.153514862060547, 5.242751598358154, 6.589924335479736, 4.6285653...      -1       12\n",
       "1           1               Communicating data science: A guide to presenting your work  [-0.061654978, 0.050063305, -0.047963202, -0.01333841, 0.01445606, -0.003979498, -0.00...  [10.267996788024902, 1.962630033493042, 6.026888370513916, 6.625016212463379, 4.274230...       7       17\n",
       "2           2                                this week in data science (april 18, 2017)  [-0.043030184, 0.06632714, -0.050089184, 0.0007826319, -0.041923475, -0.031681906, 0.0...  [8.908665657043457, 2.902090072631836, 6.502479553222656, 6.166719913482666, 4.1112108...       2       10\n",
       "3           3  DataLayer Conference: Boost the performance of your distributed database  [-0.011356175, 0.034742426, -0.01652083, 0.054450057, -0.032811232, -0.016584424, 0.01...  [10.997697830200195, 2.010314702987671, 4.313645362854004, 6.203137397766113, 4.697679...      13        5\n",
       "4           4                             analyze ny restaurant data using spark in dsx  [-0.044875752, 0.059194077, -0.036207564, 0.015440248, 0.035330776, 0.028467895, 0.021...  [11.227458953857422, 2.5481929779052734, 5.317620277404785, 6.990108966827393, 4.00053...       8       15"
      ]
     },
     "execution_count": 141,
     "metadata": {},
     "output_type": "execute_result"
    }
   ],
   "source": [
    "df_articles.head()"
   ]
  },
  {
   "cell_type": "code",
   "execution_count": 145,
   "metadata": {},
   "outputs": [
    {
     "data": {
      "text/plain": [
       "(868, 6)"
      ]
     },
     "execution_count": 145,
     "metadata": {},
     "output_type": "execute_result"
    }
   ],
   "source": [
    "# Drop the articles that are not in one of the clusters \n",
    "df_topics = df_articles[df_articles.labels!=-1]\n",
    "df_topics.shape"
   ]
  },
  {
   "cell_type": "code",
   "execution_count": 144,
   "metadata": {},
   "outputs": [
    {
     "data": {
      "text/plain": [
       "(1328, 6)"
      ]
     },
     "execution_count": 144,
     "metadata": {},
     "output_type": "execute_result"
    }
   ],
   "source": [
    "df_articles.shape"
   ]
  },
  {
   "cell_type": "code",
   "execution_count": 146,
   "metadata": {},
   "outputs": [
    {
     "data": {
      "text/html": [
       "<div>\n",
       "<style scoped>\n",
       "    .dataframe tbody tr th:only-of-type {\n",
       "        vertical-align: middle;\n",
       "    }\n",
       "\n",
       "    .dataframe tbody tr th {\n",
       "        vertical-align: top;\n",
       "    }\n",
       "\n",
       "    .dataframe thead th {\n",
       "        text-align: right;\n",
       "    }\n",
       "</style>\n",
       "<table border=\"1\" class=\"dataframe\">\n",
       "  <thead>\n",
       "    <tr style=\"text-align: right;\">\n",
       "      <th></th>\n",
       "      <th>article_id</th>\n",
       "      <th>doc_name</th>\n",
       "      <th>vectors</th>\n",
       "      <th>umap_embed</th>\n",
       "      <th>labels</th>\n",
       "      <th>cluster</th>\n",
       "    </tr>\n",
       "  </thead>\n",
       "  <tbody>\n",
       "    <tr>\n",
       "      <th>213</th>\n",
       "      <td>213</td>\n",
       "      <td>modeling energy usage in new york city</td>\n",
       "      <td>[-0.049413335, 0.081872776, -0.0058558593, 0.0048752003, 0.036647525, 0.016484352, 0.0...</td>\n",
       "      <td>[4.293089389801025, 4.186918258666992, 5.6917901039123535, 5.937004566192627, 4.198259...</td>\n",
       "      <td>1</td>\n",
       "      <td>13</td>\n",
       "    </tr>\n",
       "    <tr>\n",
       "      <th>415</th>\n",
       "      <td>415</td>\n",
       "      <td>using machine learning to predict value of homes on airbnb</td>\n",
       "      <td>[-0.031922605, 0.09207876, -0.0426934, -0.00035379027, -0.010593259, -0.007586693, 0.0...</td>\n",
       "      <td>[4.187721252441406, 4.086604118347168, 5.7307658195495605, 5.8206281661987305, 4.21556...</td>\n",
       "      <td>1</td>\n",
       "      <td>9</td>\n",
       "    </tr>\n",
       "    <tr>\n",
       "      <th>428</th>\n",
       "      <td>428</td>\n",
       "      <td>data science experience demo: modeling energy usage in nyc</td>\n",
       "      <td>[-0.06345229, 0.08409628, -0.020279566, -0.0081222085, 0.02444203, 0.011183232, 0.0271...</td>\n",
       "      <td>[4.212803363800049, 4.182007312774658, 5.67319917678833, 5.899889945983887, 4.19462299...</td>\n",
       "      <td>1</td>\n",
       "      <td>17</td>\n",
       "    </tr>\n",
       "    <tr>\n",
       "      <th>585</th>\n",
       "      <td>585</td>\n",
       "      <td>tidyverse practice: mapping large european cities</td>\n",
       "      <td>[-0.059473317, -0.008666621, -0.00813692, -0.026475746, 0.0015819679, 0.0223151, 0.018...</td>\n",
       "      <td>[4.526835918426514, 4.182408332824707, 5.693232536315918, 6.060702800750732, 4.2024965...</td>\n",
       "      <td>1</td>\n",
       "      <td>7</td>\n",
       "    </tr>\n",
       "    <tr>\n",
       "      <th>865</th>\n",
       "      <td>865</td>\n",
       "      <td>analyze traffic data from the city of san francisco</td>\n",
       "      <td>[-0.02737772, 0.09494866, -0.0546602, 0.024958305, -0.0072213933, 0.0009381561, 0.0195...</td>\n",
       "      <td>[4.3508992195129395, 4.135375499725342, 5.721319198608398, 5.929312705993652, 4.208351...</td>\n",
       "      <td>1</td>\n",
       "      <td>7</td>\n",
       "    </tr>\n",
       "    <tr>\n",
       "      <th>...</th>\n",
       "      <td>...</td>\n",
       "      <td>...</td>\n",
       "      <td>...</td>\n",
       "      <td>...</td>\n",
       "      <td>...</td>\n",
       "      <td>...</td>\n",
       "    </tr>\n",
       "    <tr>\n",
       "      <th>1127</th>\n",
       "      <td>1157</td>\n",
       "      <td>airbnb data for analytics: washington d.c. listings</td>\n",
       "      <td>[-0.05758582, 0.08365344, -0.047343336, -0.024321223, 0.015785484, -0.0016284578, 0.02...</td>\n",
       "      <td>[4.040456295013428, 4.0702996253967285, 5.712075233459473, 5.768571853637695, 4.234579...</td>\n",
       "      <td>1</td>\n",
       "      <td>9</td>\n",
       "    </tr>\n",
       "    <tr>\n",
       "      <th>1128</th>\n",
       "      <td>1158</td>\n",
       "      <td>airbnb data for analytics: washington d.c. reviews</td>\n",
       "      <td>[-0.056344215, 0.09994379, -0.0441788, -0.023718491, -0.0061585577, -0.012317293, 0.03...</td>\n",
       "      <td>[4.273319244384766, 4.0944952964782715, 5.7634077072143555, 5.8688812255859375, 4.2230...</td>\n",
       "      <td>1</td>\n",
       "      <td>9</td>\n",
       "    </tr>\n",
       "    <tr>\n",
       "      <th>1132</th>\n",
       "      <td>1162</td>\n",
       "      <td>analyze energy consumption in buildings</td>\n",
       "      <td>[-0.056432135, 0.03698009, -0.002517761, 0.058228023, 0.010590645, -0.0055149808, 0.00...</td>\n",
       "      <td>[4.2168121337890625, 4.206144332885742, 5.66496467590332, 5.9208197593688965, 4.189615...</td>\n",
       "      <td>1</td>\n",
       "      <td>13</td>\n",
       "    </tr>\n",
       "    <tr>\n",
       "      <th>1213</th>\n",
       "      <td>1292</td>\n",
       "      <td>find airbnb deals in portland with machine learning using r</td>\n",
       "      <td>[-0.047327965, 0.07246567, -0.04037847, -0.0042993906, 0.022267085, 0.006203101, 0.026...</td>\n",
       "      <td>[4.130152225494385, 4.065590858459473, 5.719783782958984, 5.786423206329346, 4.2231960...</td>\n",
       "      <td>1</td>\n",
       "      <td>9</td>\n",
       "    </tr>\n",
       "    <tr>\n",
       "      <th>1255</th>\n",
       "      <td>1351</td>\n",
       "      <td>model bike sharing data with spss</td>\n",
       "      <td>[-0.037853964, 0.058160614, -0.015423187, 0.015366582, 0.050677687, -0.03908625, 0.069...</td>\n",
       "      <td>[4.211277484893799, 4.108219146728516, 5.704971790313721, 5.851005554199219, 4.2057900...</td>\n",
       "      <td>1</td>\n",
       "      <td>7</td>\n",
       "    </tr>\n",
       "  </tbody>\n",
       "</table>\n",
       "<p>78 rows × 6 columns</p>\n",
       "</div>"
      ],
      "text/plain": [
       "      article_id                                                     doc_name                                                                                    vectors                                                                                 umap_embed  labels  cluster\n",
       "213          213                       modeling energy usage in new york city  [-0.049413335, 0.081872776, -0.0058558593, 0.0048752003, 0.036647525, 0.016484352, 0.0...  [4.293089389801025, 4.186918258666992, 5.6917901039123535, 5.937004566192627, 4.198259...       1       13\n",
       "415          415   using machine learning to predict value of homes on airbnb  [-0.031922605, 0.09207876, -0.0426934, -0.00035379027, -0.010593259, -0.007586693, 0.0...  [4.187721252441406, 4.086604118347168, 5.7307658195495605, 5.8206281661987305, 4.21556...       1        9\n",
       "428          428   data science experience demo: modeling energy usage in nyc  [-0.06345229, 0.08409628, -0.020279566, -0.0081222085, 0.02444203, 0.011183232, 0.0271...  [4.212803363800049, 4.182007312774658, 5.67319917678833, 5.899889945983887, 4.19462299...       1       17\n",
       "585          585            tidyverse practice: mapping large european cities  [-0.059473317, -0.008666621, -0.00813692, -0.026475746, 0.0015819679, 0.0223151, 0.018...  [4.526835918426514, 4.182408332824707, 5.693232536315918, 6.060702800750732, 4.2024965...       1        7\n",
       "865          865          analyze traffic data from the city of san francisco  [-0.02737772, 0.09494866, -0.0546602, 0.024958305, -0.0072213933, 0.0009381561, 0.0195...  [4.3508992195129395, 4.135375499725342, 5.721319198608398, 5.929312705993652, 4.208351...       1        7\n",
       "...          ...                                                          ...                                                                                        ...                                                                                        ...     ...      ...\n",
       "1127        1157          airbnb data for analytics: washington d.c. listings  [-0.05758582, 0.08365344, -0.047343336, -0.024321223, 0.015785484, -0.0016284578, 0.02...  [4.040456295013428, 4.0702996253967285, 5.712075233459473, 5.768571853637695, 4.234579...       1        9\n",
       "1128        1158           airbnb data for analytics: washington d.c. reviews  [-0.056344215, 0.09994379, -0.0441788, -0.023718491, -0.0061585577, -0.012317293, 0.03...  [4.273319244384766, 4.0944952964782715, 5.7634077072143555, 5.8688812255859375, 4.2230...       1        9\n",
       "1132        1162                      analyze energy consumption in buildings  [-0.056432135, 0.03698009, -0.002517761, 0.058228023, 0.010590645, -0.0055149808, 0.00...  [4.2168121337890625, 4.206144332885742, 5.66496467590332, 5.9208197593688965, 4.189615...       1       13\n",
       "1213        1292  find airbnb deals in portland with machine learning using r  [-0.047327965, 0.07246567, -0.04037847, -0.0042993906, 0.022267085, 0.006203101, 0.026...  [4.130152225494385, 4.065590858459473, 5.719783782958984, 5.786423206329346, 4.2231960...       1        9\n",
       "1255        1351                            model bike sharing data with spss  [-0.037853964, 0.058160614, -0.015423187, 0.015366582, 0.050677687, -0.03908625, 0.069...  [4.211277484893799, 4.108219146728516, 5.704971790313721, 5.851005554199219, 4.2057900...       1        7\n",
       "\n",
       "[78 rows x 6 columns]"
      ]
     },
     "execution_count": 146,
     "metadata": {},
     "output_type": "execute_result"
    }
   ],
   "source": [
    "df_articles[df_articles.labels==1]"
   ]
  },
  {
   "cell_type": "markdown",
   "metadata": {},
   "source": [
    "Create cold start: get the most popular article from the 10 most popular topics."
   ]
  }
 ],
 "metadata": {
  "kernelspec": {
   "display_name": "Python 3 (ipykernel)",
   "language": "python",
   "name": "python3"
  },
  "language_info": {
   "codemirror_mode": {
    "name": "ipython",
    "version": 3
   },
   "file_extension": ".py",
   "mimetype": "text/x-python",
   "name": "python",
   "nbconvert_exporter": "python",
   "pygments_lexer": "ipython3",
   "version": "3.9.7"
  },
  "toc": {
   "base_numbering": 1,
   "nav_menu": {},
   "number_sections": false,
   "sideBar": true,
   "skip_h1_title": false,
   "title_cell": "Table of Contents",
   "title_sidebar": "Contents",
   "toc_cell": false,
   "toc_position": {},
   "toc_section_display": true,
   "toc_window_display": false
  }
 },
 "nbformat": 4,
 "nbformat_minor": 2
}
