{
 "cells": [
  {
   "cell_type": "markdown",
   "metadata": {},
   "source": [
    "# <font color='darkblue'> Recommendations with IBM Watson. Part I</font>\n",
    "## <font color='darkblue'>Data Preprocessing and Data Analysis</font>"
   ]
  },
  {
   "cell_type": "markdown",
   "metadata": {},
   "source": [
    "Several recommendation methods are investigated on real data from the IBM Watson Studio platform. "
   ]
  },
  {
   "cell_type": "markdown",
   "metadata": {},
   "source": [
    "## <font color='darkblue'>Environment SetUp</font>"
   ]
  },
  {
   "cell_type": "code",
   "execution_count": 1,
   "metadata": {},
   "outputs": [],
   "source": [
    "# General libraries and packages\n",
    "\n",
    "import pandas as pd\n",
    "import numpy as np\n",
    "import pickle\n",
    "\n",
    "# Recommendation systems library\n",
    "import surprise\n",
    "\n",
    "# Packages and libraries for content based recs\n",
    "import re\n",
    "\n",
    "# NLP packages\n",
    "from nltk.corpus import stopwords\n",
    "from nltk.tokenize import word_tokenize\n",
    "from nltk.stem.wordnet import WordNetLemmatizer\n",
    "\n",
    "# Data processing packages\n",
    "from sklearn.feature_extraction.text import TfidfVectorizer\n",
    "\n",
    "# Import linear kernel to compute the dot product\n",
    "from sklearn.metrics.pairwise import linear_kernel"
   ]
  },
  {
   "cell_type": "code",
   "execution_count": 2,
   "metadata": {},
   "outputs": [],
   "source": [
    "# Import visualization packages and libraries\n",
    "\n",
    "import matplotlib.pyplot as plt\n",
    "%matplotlib inline\n",
    "\n",
    "# Choose style and color palette\n",
    "import seaborn as sns\n",
    "sns.set_style(\"darkgrid\")\n",
    "\n",
    "colors = sns.color_palette('PuBuGn')"
   ]
  },
  {
   "cell_type": "code",
   "execution_count": 3,
   "metadata": {},
   "outputs": [],
   "source": [
    "# Use 2 decimal places in output display\n",
    "pd.set_option(\"display.precision\", 2)\n",
    "\n",
    "# Don't wrap dataframe across additional lines\n",
    "pd.set_option(\"display.expand_frame_repr\", False)\n",
    "\n",
    "# Set the maximum widths of columns\n",
    "pd.set_option(\"display.max_colwidth\", 90)\n",
    "\n",
    "# Set max rows displayed in output to 20\n",
    "pd.set_option(\"display.max_rows\", 20)"
   ]
  },
  {
   "cell_type": "markdown",
   "metadata": {},
   "source": [
    "## <font color='darkblue'>Get the Data</font>"
   ]
  },
  {
   "cell_type": "markdown",
   "metadata": {},
   "source": [
    "<div class=\"alert alert-block alert-info\">\n",
    "\n",
    "<b>NOTES</b>:\n",
    "    <ul>\n",
    "        <li>Data provided by Udacity under Data Scientist Nanodegree.</li>\n",
    "        <li>There are two csv files: user-item interactions, articles with titles and body text.</li>\n",
    "    </ul>\n",
    "\n",
    "</div>"
   ]
  },
  {
   "cell_type": "code",
   "execution_count": 4,
   "metadata": {},
   "outputs": [],
   "source": [
    "# Read in the user-item interaction file\n",
    "df = pd.read_csv('data/user-item-interactions.csv', index_col=[0])\n",
    "\n",
    "# Read the articles information file\n",
    "df_content = pd.read_csv('data/articles_community.csv', index_col=[0])"
   ]
  },
  {
   "cell_type": "code",
   "execution_count": 5,
   "metadata": {},
   "outputs": [
    {
     "data": {
      "text/html": [
       "<div>\n",
       "<style scoped>\n",
       "    .dataframe tbody tr th:only-of-type {\n",
       "        vertical-align: middle;\n",
       "    }\n",
       "\n",
       "    .dataframe tbody tr th {\n",
       "        vertical-align: top;\n",
       "    }\n",
       "\n",
       "    .dataframe thead th {\n",
       "        text-align: right;\n",
       "    }\n",
       "</style>\n",
       "<table border=\"1\" class=\"dataframe\">\n",
       "  <thead>\n",
       "    <tr style=\"text-align: right;\">\n",
       "      <th></th>\n",
       "      <th>article_id</th>\n",
       "      <th>title</th>\n",
       "      <th>email</th>\n",
       "    </tr>\n",
       "  </thead>\n",
       "  <tbody>\n",
       "    <tr>\n",
       "      <th>0</th>\n",
       "      <td>1430.0</td>\n",
       "      <td>using pixiedust for fast, flexible, and easier data analysis and experimentation</td>\n",
       "      <td>ef5f11f77ba020cd36e1105a00ab868bbdbf7fe7</td>\n",
       "    </tr>\n",
       "    <tr>\n",
       "      <th>1</th>\n",
       "      <td>1314.0</td>\n",
       "      <td>healthcare python streaming application demo</td>\n",
       "      <td>083cbdfa93c8444beaa4c5f5e0f5f9198e4f9e0b</td>\n",
       "    </tr>\n",
       "  </tbody>\n",
       "</table>\n",
       "</div>"
      ],
      "text/plain": [
       "   article_id                                                                             title                                     email\n",
       "0      1430.0  using pixiedust for fast, flexible, and easier data analysis and experimentation  ef5f11f77ba020cd36e1105a00ab868bbdbf7fe7\n",
       "1      1314.0                                      healthcare python streaming application demo  083cbdfa93c8444beaa4c5f5e0f5f9198e4f9e0b"
      ]
     },
     "execution_count": 5,
     "metadata": {},
     "output_type": "execute_result"
    }
   ],
   "source": [
    "# Show df to get an idea of the user-item data\n",
    "df.head(2)"
   ]
  },
  {
   "cell_type": "code",
   "execution_count": 6,
   "metadata": {},
   "outputs": [
    {
     "data": {
      "text/plain": [
       "(45993, 3)"
      ]
     },
     "execution_count": 6,
     "metadata": {},
     "output_type": "execute_result"
    }
   ],
   "source": [
    "# Check the size of the user_item data\n",
    "df.shape"
   ]
  },
  {
   "cell_type": "code",
   "execution_count": 7,
   "metadata": {},
   "outputs": [
    {
     "data": {
      "text/html": [
       "<div>\n",
       "<style scoped>\n",
       "    .dataframe tbody tr th:only-of-type {\n",
       "        vertical-align: middle;\n",
       "    }\n",
       "\n",
       "    .dataframe tbody tr th {\n",
       "        vertical-align: top;\n",
       "    }\n",
       "\n",
       "    .dataframe thead th {\n",
       "        text-align: right;\n",
       "    }\n",
       "</style>\n",
       "<table border=\"1\" class=\"dataframe\">\n",
       "  <thead>\n",
       "    <tr style=\"text-align: right;\">\n",
       "      <th></th>\n",
       "      <th>doc_body</th>\n",
       "      <th>doc_description</th>\n",
       "      <th>doc_full_name</th>\n",
       "      <th>doc_status</th>\n",
       "      <th>article_id</th>\n",
       "    </tr>\n",
       "  </thead>\n",
       "  <tbody>\n",
       "    <tr>\n",
       "      <th>3</th>\n",
       "      <td>Skip navigation Sign in SearchLoading...\\r\\n\\r\\nClose Yeah, keep it Undo CloseTHIS VID...</td>\n",
       "      <td>Detect bad readings in real time using Python and Streaming Analytics.</td>\n",
       "      <td>Detect Malfunctioning IoT Sensors with Streaming Analytics</td>\n",
       "      <td>Live</td>\n",
       "      <td>0</td>\n",
       "    </tr>\n",
       "    <tr>\n",
       "      <th>5</th>\n",
       "      <td>No Free Hunch Navigation * kaggle.com\\r\\n\\r\\n * kaggle.com\\r\\n\\r\\nCommunicating data s...</td>\n",
       "      <td>See the forest, see the trees. Here lies the challenge in both performing and presenti...</td>\n",
       "      <td>Communicating data science: A guide to presenting your work</td>\n",
       "      <td>Live</td>\n",
       "      <td>1</td>\n",
       "    </tr>\n",
       "  </tbody>\n",
       "</table>\n",
       "</div>"
      ],
      "text/plain": [
       "                                                                                    doc_body                                                                            doc_description                                                doc_full_name doc_status  article_id\n",
       "3  Skip navigation Sign in SearchLoading...\\r\\n\\r\\nClose Yeah, keep it Undo CloseTHIS VID...                     Detect bad readings in real time using Python and Streaming Analytics.   Detect Malfunctioning IoT Sensors with Streaming Analytics       Live           0\n",
       "5  No Free Hunch Navigation * kaggle.com\\r\\n\\r\\n * kaggle.com\\r\\n\\r\\nCommunicating data s...  See the forest, see the trees. Here lies the challenge in both performing and presenti...  Communicating data science: A guide to presenting your work       Live           1"
      ]
     },
     "execution_count": 7,
     "metadata": {},
     "output_type": "execute_result"
    }
   ],
   "source": [
    "# Show df_content to get an idea of the content data\n",
    "df_content.head(2)"
   ]
  },
  {
   "cell_type": "code",
   "execution_count": 8,
   "metadata": {},
   "outputs": [
    {
     "data": {
      "text/plain": [
       "(1056, 5)"
      ]
     },
     "execution_count": 8,
     "metadata": {},
     "output_type": "execute_result"
    }
   ],
   "source": [
    "# Check the size of the articles content data\n",
    "df_content.shape"
   ]
  },
  {
   "cell_type": "markdown",
   "metadata": {},
   "source": [
    "## <a class=\"anchor\" id=\"Exploratory-Data-Analysis\">Part I : Exploratory Data Analysis</a>"
   ]
  },
  {
   "cell_type": "markdown",
   "metadata": {},
   "source": [
    "In this part we get some insight into the two datasets."
   ]
  },
  {
   "cell_type": "markdown",
   "metadata": {},
   "source": [
    "### <font color='darkblue'>Parse the email column</font>"
   ]
  },
  {
   "cell_type": "code",
   "execution_count": 9,
   "metadata": {},
   "outputs": [
    {
     "data": {
      "text/plain": [
       "article_id     0\n",
       "title          0\n",
       "email         17\n",
       "dtype: int64"
      ]
     },
     "execution_count": 9,
     "metadata": {},
     "output_type": "execute_result"
    }
   ],
   "source": [
    "# Display the null values counts\n",
    "df.isnull().sum()"
   ]
  },
  {
   "cell_type": "markdown",
   "metadata": {},
   "source": [
    "The `email_mapper` function maps users to ids. The small number of null values are not discarded, they are instead attributed to a single user."
   ]
  },
  {
   "cell_type": "code",
   "execution_count": 10,
   "metadata": {},
   "outputs": [],
   "source": [
    "# Map the user email to a user_id column and remove the email column\n",
    "\n",
    "def email_mapper():\n",
    "    \n",
    "    '''\n",
    "    Function that maps the user email to a generated user_id.\n",
    "    The initial email column is removed.\n",
    "    '''\n",
    "    coded_dict = dict()\n",
    "    cter = 1\n",
    "    email_encoded = []\n",
    "    \n",
    "    for val in df['email']:\n",
    "        if val not in coded_dict:\n",
    "            coded_dict[val] = cter\n",
    "            cter+=1\n",
    "        \n",
    "        email_encoded.append(coded_dict[val])\n",
    "    return email_encoded"
   ]
  },
  {
   "cell_type": "code",
   "execution_count": 11,
   "metadata": {},
   "outputs": [
    {
     "data": {
      "text/html": [
       "<div>\n",
       "<style scoped>\n",
       "    .dataframe tbody tr th:only-of-type {\n",
       "        vertical-align: middle;\n",
       "    }\n",
       "\n",
       "    .dataframe tbody tr th {\n",
       "        vertical-align: top;\n",
       "    }\n",
       "\n",
       "    .dataframe thead th {\n",
       "        text-align: right;\n",
       "    }\n",
       "</style>\n",
       "<table border=\"1\" class=\"dataframe\">\n",
       "  <thead>\n",
       "    <tr style=\"text-align: right;\">\n",
       "      <th></th>\n",
       "      <th>article_id</th>\n",
       "      <th>title</th>\n",
       "      <th>user_id</th>\n",
       "    </tr>\n",
       "  </thead>\n",
       "  <tbody>\n",
       "    <tr>\n",
       "      <th>0</th>\n",
       "      <td>1430.0</td>\n",
       "      <td>using pixiedust for fast, flexible, and easier data analysis and experimentation</td>\n",
       "      <td>1</td>\n",
       "    </tr>\n",
       "    <tr>\n",
       "      <th>1</th>\n",
       "      <td>1314.0</td>\n",
       "      <td>healthcare python streaming application demo</td>\n",
       "      <td>2</td>\n",
       "    </tr>\n",
       "  </tbody>\n",
       "</table>\n",
       "</div>"
      ],
      "text/plain": [
       "   article_id                                                                             title  user_id\n",
       "0      1430.0  using pixiedust for fast, flexible, and easier data analysis and experimentation        1\n",
       "1      1314.0                                      healthcare python streaming application demo        2"
      ]
     },
     "execution_count": 11,
     "metadata": {},
     "output_type": "execute_result"
    }
   ],
   "source": [
    "# Create a new column called user_id\n",
    "df['user_id'] = email_mapper()\n",
    "# Drop the email column\n",
    "df.drop(columns=['email'], inplace=True)\n",
    "# Check the outcome\n",
    "df.head(2)"
   ]
  },
  {
   "cell_type": "markdown",
   "metadata": {},
   "source": [
    "###  <font color='darkblue'>What is the distribution of how many articles a user interacts with in the dataset?</font>"
   ]
  },
  {
   "cell_type": "code",
   "execution_count": 12,
   "metadata": {},
   "outputs": [
    {
     "name": "stdout",
     "output_type": "stream",
     "text": [
      "The number of unique users is 5149.\n"
     ]
    }
   ],
   "source": [
    "# The number of unique emails - corresponds to the number of unique users\n",
    "print(f'The number of unique users is {df.user_id.nunique()}.')"
   ]
  },
  {
   "cell_type": "code",
   "execution_count": 13,
   "metadata": {},
   "outputs": [
    {
     "name": "stdout",
     "output_type": "stream",
     "text": [
      "The number of unique articles in the item_user dataset is 1051.\n"
     ]
    }
   ],
   "source": [
    "# The number of unique articles\n",
    "print(f'The number of unique articles in the item_user dataset is {df_content.article_id.nunique()}.')"
   ]
  },
  {
   "cell_type": "code",
   "execution_count": 14,
   "metadata": {},
   "outputs": [
    {
     "data": {
      "text/html": [
       "<div>\n",
       "<style scoped>\n",
       "    .dataframe tbody tr th:only-of-type {\n",
       "        vertical-align: middle;\n",
       "    }\n",
       "\n",
       "    .dataframe tbody tr th {\n",
       "        vertical-align: top;\n",
       "    }\n",
       "\n",
       "    .dataframe thead th {\n",
       "        text-align: right;\n",
       "    }\n",
       "</style>\n",
       "<table border=\"1\" class=\"dataframe\">\n",
       "  <thead>\n",
       "    <tr style=\"text-align: right;\">\n",
       "      <th></th>\n",
       "      <th>user_id</th>\n",
       "      <th>article_id</th>\n",
       "    </tr>\n",
       "  </thead>\n",
       "  <tbody>\n",
       "    <tr>\n",
       "      <th>0</th>\n",
       "      <td>1</td>\n",
       "      <td>[1430.0, 1430.0, 732.0, 1429.0, 43.0, 109.0, 1232.0, 310.0, 1293.0, 1406.0, 1406.0, 32...</td>\n",
       "    </tr>\n",
       "    <tr>\n",
       "      <th>1</th>\n",
       "      <td>2</td>\n",
       "      <td>[1314.0, 1305.0, 1024.0, 1176.0, 1422.0, 1427.0]</td>\n",
       "    </tr>\n",
       "  </tbody>\n",
       "</table>\n",
       "</div>"
      ],
      "text/plain": [
       "   user_id                                                                                 article_id\n",
       "0        1  [1430.0, 1430.0, 732.0, 1429.0, 43.0, 109.0, 1232.0, 310.0, 1293.0, 1406.0, 1406.0, 32...\n",
       "1        2                                           [1314.0, 1305.0, 1024.0, 1176.0, 1422.0, 1427.0]"
      ]
     },
     "execution_count": 14,
     "metadata": {},
     "output_type": "execute_result"
    }
   ],
   "source": [
    "# Create a dataframe to keep track of the articles accessed by a user\n",
    "articles_per_user = pd.pivot_table(df,\n",
    "                    values=['article_id'],\n",
    "                    index='user_id',\n",
    "                    aggfunc={'article_id': list})\n",
    "articles_per_user.reset_index(inplace=True)\n",
    "\n",
    "# Check the outcome\n",
    "articles_per_user.head(2)"
   ]
  },
  {
   "cell_type": "code",
   "execution_count": 15,
   "metadata": {},
   "outputs": [],
   "source": [
    "# Rename column article_id\n",
    "articles_per_user.rename(columns={'article_id': 'viewed_articles'}, inplace=True)"
   ]
  },
  {
   "cell_type": "code",
   "execution_count": 16,
   "metadata": {},
   "outputs": [
    {
     "data": {
      "text/html": [
       "<div>\n",
       "<style scoped>\n",
       "    .dataframe tbody tr th:only-of-type {\n",
       "        vertical-align: middle;\n",
       "    }\n",
       "\n",
       "    .dataframe tbody tr th {\n",
       "        vertical-align: top;\n",
       "    }\n",
       "\n",
       "    .dataframe thead th {\n",
       "        text-align: right;\n",
       "    }\n",
       "</style>\n",
       "<table border=\"1\" class=\"dataframe\">\n",
       "  <thead>\n",
       "    <tr style=\"text-align: right;\">\n",
       "      <th></th>\n",
       "      <th>user_id</th>\n",
       "      <th>viewed_articles</th>\n",
       "      <th>articles_count</th>\n",
       "      <th>unique_articles_count</th>\n",
       "    </tr>\n",
       "  </thead>\n",
       "  <tbody>\n",
       "    <tr>\n",
       "      <th>22</th>\n",
       "      <td>23</td>\n",
       "      <td>[362.0, 409.0, 409.0, 302.0, 409.0, 14.0, 29.0, 1293.0, 1429.0, 1293.0, 720.0, 1304.0,...</td>\n",
       "      <td>364</td>\n",
       "      <td>135</td>\n",
       "    </tr>\n",
       "    <tr>\n",
       "      <th>3781</th>\n",
       "      <td>3782</td>\n",
       "      <td>[943.0, 658.0, 109.0, 43.0, 1170.0, 1172.0, 1314.0, 43.0, 1338.0, 1160.0, 1276.0, 33.0...</td>\n",
       "      <td>363</td>\n",
       "      <td>135</td>\n",
       "    </tr>\n",
       "  </tbody>\n",
       "</table>\n",
       "</div>"
      ],
      "text/plain": [
       "      user_id                                                                            viewed_articles  articles_count  unique_articles_count\n",
       "22         23  [362.0, 409.0, 409.0, 302.0, 409.0, 14.0, 29.0, 1293.0, 1429.0, 1293.0, 720.0, 1304.0,...             364                    135\n",
       "3781     3782  [943.0, 658.0, 109.0, 43.0, 1170.0, 1172.0, 1314.0, 43.0, 1338.0, 1160.0, 1276.0, 33.0...             363                    135"
      ]
     },
     "execution_count": 16,
     "metadata": {},
     "output_type": "execute_result"
    }
   ],
   "source": [
    "# Create a new column that records how many articles a user accessed\n",
    "articles_per_user['articles_count'] = [len(x) for x in articles_per_user.viewed_articles]\n",
    "\n",
    "# Create a column that records how many unique articles the user accessed\n",
    "articles_per_user['unique_articles_count'] = [len(set(x)) for x in articles_per_user.viewed_articles]\n",
    "\n",
    "# Check the outcome\n",
    "articles_per_user.sort_values(by='articles_count', ascending=False).head(2)"
   ]
  },
  {
   "cell_type": "code",
   "execution_count": 17,
   "metadata": {},
   "outputs": [
    {
     "data": {
      "text/html": [
       "<div>\n",
       "<style scoped>\n",
       "    .dataframe tbody tr th:only-of-type {\n",
       "        vertical-align: middle;\n",
       "    }\n",
       "\n",
       "    .dataframe tbody tr th {\n",
       "        vertical-align: top;\n",
       "    }\n",
       "\n",
       "    .dataframe thead th {\n",
       "        text-align: right;\n",
       "    }\n",
       "</style>\n",
       "<table border=\"1\" class=\"dataframe\">\n",
       "  <thead>\n",
       "    <tr style=\"text-align: right;\">\n",
       "      <th></th>\n",
       "      <th>user_id</th>\n",
       "      <th>articles_count</th>\n",
       "      <th>unique_articles_count</th>\n",
       "    </tr>\n",
       "  </thead>\n",
       "  <tbody>\n",
       "    <tr>\n",
       "      <th>count</th>\n",
       "      <td>5149.00</td>\n",
       "      <td>5149.00</td>\n",
       "      <td>5149.00</td>\n",
       "    </tr>\n",
       "    <tr>\n",
       "      <th>mean</th>\n",
       "      <td>2575.00</td>\n",
       "      <td>8.93</td>\n",
       "      <td>6.54</td>\n",
       "    </tr>\n",
       "    <tr>\n",
       "      <th>std</th>\n",
       "      <td>1486.53</td>\n",
       "      <td>16.80</td>\n",
       "      <td>9.99</td>\n",
       "    </tr>\n",
       "    <tr>\n",
       "      <th>min</th>\n",
       "      <td>1.00</td>\n",
       "      <td>1.00</td>\n",
       "      <td>1.00</td>\n",
       "    </tr>\n",
       "    <tr>\n",
       "      <th>25%</th>\n",
       "      <td>1288.00</td>\n",
       "      <td>1.00</td>\n",
       "      <td>1.00</td>\n",
       "    </tr>\n",
       "    <tr>\n",
       "      <th>50%</th>\n",
       "      <td>2575.00</td>\n",
       "      <td>3.00</td>\n",
       "      <td>3.00</td>\n",
       "    </tr>\n",
       "    <tr>\n",
       "      <th>75%</th>\n",
       "      <td>3862.00</td>\n",
       "      <td>9.00</td>\n",
       "      <td>7.00</td>\n",
       "    </tr>\n",
       "    <tr>\n",
       "      <th>max</th>\n",
       "      <td>5149.00</td>\n",
       "      <td>364.00</td>\n",
       "      <td>135.00</td>\n",
       "    </tr>\n",
       "  </tbody>\n",
       "</table>\n",
       "</div>"
      ],
      "text/plain": [
       "       user_id  articles_count  unique_articles_count\n",
       "count  5149.00         5149.00                5149.00\n",
       "mean   2575.00            8.93                   6.54\n",
       "std    1486.53           16.80                   9.99\n",
       "min       1.00            1.00                   1.00\n",
       "25%    1288.00            1.00                   1.00\n",
       "50%    2575.00            3.00                   3.00\n",
       "75%    3862.00            9.00                   7.00\n",
       "max    5149.00          364.00                 135.00"
      ]
     },
     "execution_count": 17,
     "metadata": {},
     "output_type": "execute_result"
    }
   ],
   "source": [
    "# 5 Numbers statistics for the article counts per user\n",
    "articles_per_user.describe()"
   ]
  },
  {
   "cell_type": "code",
   "execution_count": 18,
   "metadata": {},
   "outputs": [
    {
     "name": "stdout",
     "output_type": "stream",
     "text": [
      "50% of individuals interact with 3 articles or fewer.\n",
      "The maximum number of user-article interactions by any user is 364.\n"
     ]
    }
   ],
   "source": [
    "# The median and maximum number of user_article interactions\n",
    "\n",
    "median_val = df.groupby('user_id').count()['article_id'].median()\n",
    "print(f'50% of individuals interact with {int(median_val)} articles or fewer.')\n",
    "max_views_by_user = df.groupby('user_id').count()['article_id'].max()\n",
    "print(f'The maximum number of user-article interactions by any user is {max_views_by_user}.')"
   ]
  },
  {
   "cell_type": "code",
   "execution_count": 19,
   "metadata": {},
   "outputs": [
    {
     "data": {
      "image/png": "[encoded data removed]",
      "text/plain": [
       "<Figure size 576x288 with 1 Axes>"
      ]
     },
     "metadata": {},
     "output_type": "display_data"
    }
   ],
   "source": [
    "# The histogram of the data in articles_per_user\n",
    "plt.figure(figsize=(8,4))\n",
    "plt.hist(articles_per_user.articles_count, bins=20)\n",
    "\n",
    "# Add labels and title\n",
    "plt.xlabel('Articles accessed')\n",
    "plt.title('How many articles are accessed by a user')\n",
    "plt.xlim(1, 370)\n",
    "plt.ylim(1, 1500)\n",
    "plt.grid(True)\n",
    "plt.show()"
   ]
  },
  {
   "cell_type": "code",
   "execution_count": 20,
   "metadata": {},
   "outputs": [
    {
     "name": "stdout",
     "output_type": "stream",
     "text": [
      "The number of users who accessed one article only is 1416.\n"
     ]
    }
   ],
   "source": [
    "# How many users accessed one article only\n",
    "one_article_users = articles_per_user[articles_per_user['articles_count'] == 1]\n",
    "print(f'The number of users who accessed one article only is {one_article_users.shape[0]}.')"
   ]
  },
  {
   "cell_type": "code",
   "execution_count": 21,
   "metadata": {},
   "outputs": [
    {
     "name": "stdout",
     "output_type": "stream",
     "text": [
      "There are 190 users who accessed at least 42 articles each.\n"
     ]
    }
   ],
   "source": [
    "# Identify the right tail outliers using: mean + 2*std  \n",
    "upper_outliers_article_count = int(articles_per_user.articles_count.mean() + 2 * articles_per_user.articles_count.std())\n",
    "upper_outliers_users = articles_per_user[articles_per_user.articles_count >= upper_outliers_article_count]\n",
    "print(f'There are {upper_outliers_users.shape[0]} users who accessed at least {upper_outliers_article_count} articles each.')"
   ]
  },
  {
   "cell_type": "code",
   "execution_count": 22,
   "metadata": {},
   "outputs": [
    {
     "data": {
      "text/html": [
       "<div>\n",
       "<style scoped>\n",
       "    .dataframe tbody tr th:only-of-type {\n",
       "        vertical-align: middle;\n",
       "    }\n",
       "\n",
       "    .dataframe tbody tr th {\n",
       "        vertical-align: top;\n",
       "    }\n",
       "\n",
       "    .dataframe thead th {\n",
       "        text-align: right;\n",
       "    }\n",
       "</style>\n",
       "<table border=\"1\" class=\"dataframe\">\n",
       "  <thead>\n",
       "    <tr style=\"text-align: right;\">\n",
       "      <th></th>\n",
       "      <th>user_id</th>\n",
       "      <th>articles_count</th>\n",
       "      <th>unique_articles_count</th>\n",
       "    </tr>\n",
       "  </thead>\n",
       "  <tbody>\n",
       "    <tr>\n",
       "      <th>count</th>\n",
       "      <td>190.00</td>\n",
       "      <td>190.00</td>\n",
       "      <td>190.00</td>\n",
       "    </tr>\n",
       "    <tr>\n",
       "      <th>mean</th>\n",
       "      <td>2152.31</td>\n",
       "      <td>73.23</td>\n",
       "      <td>44.79</td>\n",
       "    </tr>\n",
       "    <tr>\n",
       "      <th>std</th>\n",
       "      <td>1885.67</td>\n",
       "      <td>41.72</td>\n",
       "      <td>18.60</td>\n",
       "    </tr>\n",
       "    <tr>\n",
       "      <th>min</th>\n",
       "      <td>1.00</td>\n",
       "      <td>42.00</td>\n",
       "      <td>18.00</td>\n",
       "    </tr>\n",
       "    <tr>\n",
       "      <th>25%</th>\n",
       "      <td>276.75</td>\n",
       "      <td>50.00</td>\n",
       "      <td>33.00</td>\n",
       "    </tr>\n",
       "    <tr>\n",
       "      <th>50%</th>\n",
       "      <td>1207.00</td>\n",
       "      <td>59.50</td>\n",
       "      <td>40.00</td>\n",
       "    </tr>\n",
       "    <tr>\n",
       "      <th>75%</th>\n",
       "      <td>3866.50</td>\n",
       "      <td>82.00</td>\n",
       "      <td>52.00</td>\n",
       "    </tr>\n",
       "    <tr>\n",
       "      <th>max</th>\n",
       "      <td>5140.00</td>\n",
       "      <td>364.00</td>\n",
       "      <td>135.00</td>\n",
       "    </tr>\n",
       "  </tbody>\n",
       "</table>\n",
       "</div>"
      ],
      "text/plain": [
       "       user_id  articles_count  unique_articles_count\n",
       "count   190.00          190.00                 190.00\n",
       "mean   2152.31           73.23                  44.79\n",
       "std    1885.67           41.72                  18.60\n",
       "min       1.00           42.00                  18.00\n",
       "25%     276.75           50.00                  33.00\n",
       "50%    1207.00           59.50                  40.00\n",
       "75%    3866.50           82.00                  52.00\n",
       "max    5140.00          364.00                 135.00"
      ]
     },
     "execution_count": 22,
     "metadata": {},
     "output_type": "execute_result"
    }
   ],
   "source": [
    "# Look at the 5 number statistics for the right tail outliers\n",
    "upper_outliers_users.describe()"
   ]
  },
  {
   "cell_type": "code",
   "execution_count": 23,
   "metadata": {},
   "outputs": [
    {
     "data": {
      "image/png": "[encoded data removed]",
      "text/plain": [
       "<Figure size 576x288 with 1 Axes>"
      ]
     },
     "metadata": {},
     "output_type": "display_data"
    }
   ],
   "source": [
    "# The histogram of the right tail outlier users data\n",
    "plt.figure(figsize=(8,4))\n",
    "plt.hist(upper_outliers_users.articles_count, bins=30)\n",
    "\n",
    "# Add labels and title\n",
    "plt.xlabel('Articles accessed')\n",
    "plt.title('How many articles are accessed by a upper outlier users')\n",
    "plt.xlim(40, 370)\n",
    "plt.ylim(1, 70)\n",
    "plt.grid(True)\n",
    "plt.show()"
   ]
  },
  {
   "cell_type": "markdown",
   "metadata": {},
   "source": [
    "<div class=\"alert alert-block alert-info\">\n",
    "\n",
    "<b>NOTES</b>:\n",
    "    <ul>\n",
    "        <li>There are a couple of right tail extreme outliers which we will remove before modeling.</li>\n",
    "    </ul>\n",
    "\n",
    "</div>"
   ]
  },
  {
   "cell_type": "code",
   "execution_count": 24,
   "metadata": {},
   "outputs": [
    {
     "name": "stdout",
     "output_type": "stream",
     "text": [
      "There are 2 users who accessed more than 200 articles each.\n"
     ]
    }
   ],
   "source": [
    "print(f'There are {upper_outliers_users[upper_outliers_users.articles_count > 200].shape[0]}' +  \\\n",
    "' users who accessed more than 200 articles each.')"
   ]
  },
  {
   "cell_type": "code",
   "execution_count": 25,
   "metadata": {},
   "outputs": [
    {
     "data": {
      "image/png": "[encoded data removed]",
      "text/plain": [
       "<Figure size 576x288 with 1 Axes>"
      ]
     },
     "metadata": {},
     "output_type": "display_data"
    }
   ],
   "source": [
    "# The histogram of the upper outlier users after removal of the two extreme outliers\n",
    "plt.figure(figsize=(8,4))\n",
    "data = upper_outliers_users[upper_outliers_users.articles_count < 200]\n",
    "plt.hist(data.articles_count, bins=20)\n",
    "\n",
    "# Add labels and title\n",
    "plt.xlabel('Articles accessed')\n",
    "plt.title('How many articles are accessed by right tail outliers')\n",
    "plt.xlim(40, 180)\n",
    "plt.ylim(1, 45)\n",
    "plt.grid(True)\n",
    "plt.show()"
   ]
  },
  {
   "cell_type": "code",
   "execution_count": 26,
   "metadata": {},
   "outputs": [
    {
     "data": {
      "image/png": "[encoded data removed]",
      "text/plain": [
       "<Figure size 576x288 with 1 Axes>"
      ]
     },
     "metadata": {},
     "output_type": "display_data"
    }
   ],
   "source": [
    "# The histogram of the counts of unique articles accessed by a user\n",
    "plt.figure(figsize=(8,4))\n",
    "plt.hist(articles_per_user.unique_articles_count, bins=20)\n",
    "\n",
    "# Add labels and title\n",
    "plt.xlabel('Unique articles accessed')\n",
    "plt.title('How many unique articles are accessed by a user')\n",
    "plt.xlim(1, 140)\n",
    "plt.ylim(1, 1500)\n",
    "plt.grid(True)\n",
    "plt.show()"
   ]
  },
  {
   "cell_type": "code",
   "execution_count": 27,
   "metadata": {},
   "outputs": [
    {
     "data": {
      "image/png": "[encoded data removed]",
      "text/plain": [
       "<Figure size 1152x288 with 1 Axes>"
      ]
     },
     "metadata": {},
     "output_type": "display_data"
    }
   ],
   "source": [
    "# Boxplot for the unique articles count accessed by each user\n",
    "plt.figure(figsize=(16,4))\n",
    "\n",
    "ax = sns.boxplot(x=articles_per_user['unique_articles_count'])\n",
    "\n",
    "plt.title('Unique articles counts per user')\n",
    "plt.xlabel('')\n",
    "plt.show()"
   ]
  },
  {
   "cell_type": "code",
   "execution_count": 28,
   "metadata": {},
   "outputs": [
    {
     "data": {
      "text/html": [
       "<div>\n",
       "<style scoped>\n",
       "    .dataframe tbody tr th:only-of-type {\n",
       "        vertical-align: middle;\n",
       "    }\n",
       "\n",
       "    .dataframe tbody tr th {\n",
       "        vertical-align: top;\n",
       "    }\n",
       "\n",
       "    .dataframe thead th {\n",
       "        text-align: right;\n",
       "    }\n",
       "</style>\n",
       "<table border=\"1\" class=\"dataframe\">\n",
       "  <thead>\n",
       "    <tr style=\"text-align: right;\">\n",
       "      <th></th>\n",
       "      <th>user_id</th>\n",
       "      <th>viewed_articles</th>\n",
       "      <th>articles_count</th>\n",
       "      <th>unique_articles_count</th>\n",
       "    </tr>\n",
       "  </thead>\n",
       "  <tbody>\n",
       "    <tr>\n",
       "      <th>22</th>\n",
       "      <td>23</td>\n",
       "      <td>[362.0, 409.0, 409.0, 302.0, 409.0, 14.0, 29.0, 1293.0, 1429.0, 1293.0, 720.0, 1304.0,...</td>\n",
       "      <td>364</td>\n",
       "      <td>135</td>\n",
       "    </tr>\n",
       "    <tr>\n",
       "      <th>3781</th>\n",
       "      <td>3782</td>\n",
       "      <td>[943.0, 658.0, 109.0, 43.0, 1170.0, 1172.0, 1314.0, 43.0, 1338.0, 1160.0, 1276.0, 33.0...</td>\n",
       "      <td>363</td>\n",
       "      <td>135</td>\n",
       "    </tr>\n",
       "    <tr>\n",
       "      <th>48</th>\n",
       "      <td>49</td>\n",
       "      <td>[1423.0, 173.0, 1423.0, 468.0, 53.0, 1396.0, 1364.0, 379.0, 313.0, 1163.0, 1422.0, 139...</td>\n",
       "      <td>147</td>\n",
       "      <td>101</td>\n",
       "    </tr>\n",
       "    <tr>\n",
       "      <th>3696</th>\n",
       "      <td>3697</td>\n",
       "      <td>[723.0, 606.0, 1174.0, 1305.0, 1160.0, 585.0, 1185.0, 1176.0, 152.0, 1163.0, 1274.0, 1...</td>\n",
       "      <td>145</td>\n",
       "      <td>100</td>\n",
       "    </tr>\n",
       "    <tr>\n",
       "      <th>97</th>\n",
       "      <td>98</td>\n",
       "      <td>[173.0, 1165.0, 1427.0, 651.0, 1274.0, 1165.0, 1274.0, 1425.0, 202.0, 1293.0, 1429.0, ...</td>\n",
       "      <td>170</td>\n",
       "      <td>97</td>\n",
       "    </tr>\n",
       "    <tr>\n",
       "      <th>3763</th>\n",
       "      <td>3764</td>\n",
       "      <td>[1293.0, 409.0, 20.0, 1165.0, 1430.0, 1175.0, 939.0, 1425.0, 1368.0, 1274.0, 1175.0, 1...</td>\n",
       "      <td>169</td>\n",
       "      <td>97</td>\n",
       "    </tr>\n",
       "    <tr>\n",
       "      <th>202</th>\n",
       "      <td>203</td>\n",
       "      <td>[930.0, 1057.0, 1314.0, 793.0, 1368.0, 1396.0, 1368.0, 1396.0, 793.0, 427.0, 833.0, 13...</td>\n",
       "      <td>160</td>\n",
       "      <td>96</td>\n",
       "    </tr>\n",
       "    <tr>\n",
       "      <th>4458</th>\n",
       "      <td>4459</td>\n",
       "      <td>[1185.0, 1324.0, 1054.0, 1386.0, 1430.0, 1430.0, 933.0, 241.0, 1427.0, 1057.0, 1278.0,...</td>\n",
       "      <td>158</td>\n",
       "      <td>96</td>\n",
       "    </tr>\n",
       "  </tbody>\n",
       "</table>\n",
       "</div>"
      ],
      "text/plain": [
       "      user_id                                                                            viewed_articles  articles_count  unique_articles_count\n",
       "22         23  [362.0, 409.0, 409.0, 302.0, 409.0, 14.0, 29.0, 1293.0, 1429.0, 1293.0, 720.0, 1304.0,...             364                    135\n",
       "3781     3782  [943.0, 658.0, 109.0, 43.0, 1170.0, 1172.0, 1314.0, 43.0, 1338.0, 1160.0, 1276.0, 33.0...             363                    135\n",
       "48         49  [1423.0, 173.0, 1423.0, 468.0, 53.0, 1396.0, 1364.0, 379.0, 313.0, 1163.0, 1422.0, 139...             147                    101\n",
       "3696     3697  [723.0, 606.0, 1174.0, 1305.0, 1160.0, 585.0, 1185.0, 1176.0, 152.0, 1163.0, 1274.0, 1...             145                    100\n",
       "97         98  [173.0, 1165.0, 1427.0, 651.0, 1274.0, 1165.0, 1274.0, 1425.0, 202.0, 1293.0, 1429.0, ...             170                     97\n",
       "3763     3764  [1293.0, 409.0, 20.0, 1165.0, 1430.0, 1175.0, 939.0, 1425.0, 1368.0, 1274.0, 1175.0, 1...             169                     97\n",
       "202       203  [930.0, 1057.0, 1314.0, 793.0, 1368.0, 1396.0, 1368.0, 1396.0, 793.0, 427.0, 833.0, 13...             160                     96\n",
       "4458     4459  [1185.0, 1324.0, 1054.0, 1386.0, 1430.0, 1430.0, 933.0, 241.0, 1427.0, 1057.0, 1278.0,...             158                     96"
      ]
     },
     "execution_count": 28,
     "metadata": {},
     "output_type": "execute_result"
    }
   ],
   "source": [
    "# Unique articles accessed counts - extreme right tail outliers\n",
    "articles_per_user[articles_per_user.unique_articles_count > 80].sort_values(\n",
    "    by='unique_articles_count', ascending=False)"
   ]
  },
  {
   "cell_type": "markdown",
   "metadata": {},
   "source": [
    "<div class=\"alert alert-block alert-info\">\n",
    "\n",
    "<b>NOTES</b>:\n",
    "    <ul>\n",
    "        <li>There are four users that accessed 100 or more unique articles.</li>\n",
    "        <li>The users that accessed most unique articles are the same users with the largest numbers of article interactions.\n",
    "    </ul>\n",
    "\n",
    "</div>"
   ]
  },
  {
   "cell_type": "code",
   "execution_count": 29,
   "metadata": {},
   "outputs": [
    {
     "data": {
      "text/html": [
       "<div>\n",
       "<style scoped>\n",
       "    .dataframe tbody tr th:only-of-type {\n",
       "        vertical-align: middle;\n",
       "    }\n",
       "\n",
       "    .dataframe tbody tr th {\n",
       "        vertical-align: top;\n",
       "    }\n",
       "\n",
       "    .dataframe thead th {\n",
       "        text-align: right;\n",
       "    }\n",
       "</style>\n",
       "<table border=\"1\" class=\"dataframe\">\n",
       "  <thead>\n",
       "    <tr style=\"text-align: right;\">\n",
       "      <th></th>\n",
       "      <th>article_id</th>\n",
       "      <th>title</th>\n",
       "      <th>user_id</th>\n",
       "      <th>user_art_counts</th>\n",
       "    </tr>\n",
       "  </thead>\n",
       "  <tbody>\n",
       "    <tr>\n",
       "      <th>0</th>\n",
       "      <td>1170.0</td>\n",
       "      <td>apache spark lab, part 1: basic concepts</td>\n",
       "      <td>223</td>\n",
       "      <td>42</td>\n",
       "    </tr>\n",
       "    <tr>\n",
       "      <th>1</th>\n",
       "      <td>1170.0</td>\n",
       "      <td>apache spark lab, part 1: basic concepts</td>\n",
       "      <td>3358</td>\n",
       "      <td>41</td>\n",
       "    </tr>\n",
       "    <tr>\n",
       "      <th>2</th>\n",
       "      <td>1429.0</td>\n",
       "      <td>use deep learning for image classification</td>\n",
       "      <td>23</td>\n",
       "      <td>35</td>\n",
       "    </tr>\n",
       "    <tr>\n",
       "      <th>3</th>\n",
       "      <td>1429.0</td>\n",
       "      <td>use deep learning for image classification</td>\n",
       "      <td>3782</td>\n",
       "      <td>35</td>\n",
       "    </tr>\n",
       "    <tr>\n",
       "      <th>4</th>\n",
       "      <td>1429.0</td>\n",
       "      <td>use deep learning for image classification</td>\n",
       "      <td>3353</td>\n",
       "      <td>25</td>\n",
       "    </tr>\n",
       "  </tbody>\n",
       "</table>\n",
       "</div>"
      ],
      "text/plain": [
       "   article_id                                       title  user_id  user_art_counts\n",
       "0      1170.0    apache spark lab, part 1: basic concepts      223               42\n",
       "1      1170.0    apache spark lab, part 1: basic concepts     3358               41\n",
       "2      1429.0  use deep learning for image classification       23               35\n",
       "3      1429.0  use deep learning for image classification     3782               35\n",
       "4      1429.0  use deep learning for image classification     3353               25"
      ]
     },
     "execution_count": 29,
     "metadata": {},
     "output_type": "execute_result"
    }
   ],
   "source": [
    "# Dataframe to record the number of times each user interacts with a given article\n",
    "article_user = df.value_counts(ascending=False).to_frame('user_art_counts').reset_index()\n",
    "article_user.head()"
   ]
  },
  {
   "cell_type": "code",
   "execution_count": 30,
   "metadata": {},
   "outputs": [
    {
     "data": {
      "text/plain": [
       "count    33682.00\n",
       "mean         1.37\n",
       "std          1.17\n",
       "min          1.00\n",
       "25%          1.00\n",
       "50%          1.00\n",
       "75%          1.00\n",
       "max         42.00\n",
       "Name: user_art_counts, dtype: float64"
      ]
     },
     "execution_count": 30,
     "metadata": {},
     "output_type": "execute_result"
    }
   ],
   "source": [
    "# 5 Values descriptive statistics for how many times an user interacts with one article\n",
    "article_user.user_art_counts.describe()"
   ]
  },
  {
   "cell_type": "code",
   "execution_count": 31,
   "metadata": {},
   "outputs": [
    {
     "name": "stdout",
     "output_type": "stream",
     "text": [
      "About 98.84% of the users have 1 to 5 interactions with a given article.\n"
     ]
    }
   ],
   "source": [
    "# The number of records where the user had only one or two interaction with an article\n",
    "few_interacts = article_user[article_user.user_art_counts < 6].shape[0]\n",
    "print(f'About {round((few_interacts/article_user.shape[0])*100,2)}% of the users have 1 to 5 interactions with a given article.')"
   ]
  },
  {
   "cell_type": "code",
   "execution_count": 32,
   "metadata": {},
   "outputs": [
    {
     "data": {
      "image/png": "[encoded data removed]",
      "text/plain": [
       "<Figure size 576x288 with 1 Axes>"
      ]
     },
     "metadata": {},
     "output_type": "display_data"
    }
   ],
   "source": [
    "# The histogram of the counts of 4 or more interactions per article\n",
    "plt.figure(figsize=(8,4))\n",
    "plt.hist(article_user.user_art_counts, bins=20)\n",
    "\n",
    "# Add labels and title\n",
    "plt.xlabel('Number of times the user accesses the article')\n",
    "plt.title('Article user interactions with more than 5 counts')\n",
    "plt.xlim(6, 45)\n",
    "plt.ylim(1, 220)\n",
    "plt.grid(True)\n",
    "plt.show()"
   ]
  },
  {
   "cell_type": "markdown",
   "metadata": {},
   "source": [
    "<div class=\"alert alert-block alert-info\">\n",
    "\n",
    "<b>NOTES</b>:\n",
    "    <ul>\n",
    "        <li>The number of times an article is accessed by the same user has a very right skewed distribution. Most of the users access an article once or twice, almost 99% of the users access the same article at most 5 times.</li>\n",
    "    </ul>\n",
    "\n",
    "</div>"
   ]
  },
  {
   "cell_type": "markdown",
   "metadata": {},
   "source": [
    "###  <font color='darkblue'>Explore and remove duplicate articles from the `df_content` dataframe</font>"
   ]
  },
  {
   "cell_type": "code",
   "execution_count": 33,
   "metadata": {},
   "outputs": [
    {
     "data": {
      "text/plain": [
       "(5, 5)"
      ]
     },
     "execution_count": 33,
     "metadata": {},
     "output_type": "execute_result"
    }
   ],
   "source": [
    "# Find and explore duplicate articles\n",
    "duplicate_articles = df_content[df_content['article_id'].duplicated()]\n",
    "duplicate_articles.shape"
   ]
  },
  {
   "cell_type": "code",
   "execution_count": 34,
   "metadata": {},
   "outputs": [
    {
     "data": {
      "text/html": [
       "<div>\n",
       "<style scoped>\n",
       "    .dataframe tbody tr th:only-of-type {\n",
       "        vertical-align: middle;\n",
       "    }\n",
       "\n",
       "    .dataframe tbody tr th {\n",
       "        vertical-align: top;\n",
       "    }\n",
       "\n",
       "    .dataframe thead th {\n",
       "        text-align: right;\n",
       "    }\n",
       "</style>\n",
       "<table border=\"1\" class=\"dataframe\">\n",
       "  <thead>\n",
       "    <tr style=\"text-align: right;\">\n",
       "      <th></th>\n",
       "      <th>doc_body</th>\n",
       "      <th>doc_description</th>\n",
       "      <th>doc_full_name</th>\n",
       "      <th>doc_status</th>\n",
       "      <th>article_id</th>\n",
       "    </tr>\n",
       "  </thead>\n",
       "  <tbody>\n",
       "    <tr>\n",
       "      <th>1103</th>\n",
       "      <td>Follow Sign in / Sign up Home About Insight Data Science Data Engineering Health Data ...</td>\n",
       "      <td>During the seven-week Insight Data Engineering Fellows Program recent grads and experi...</td>\n",
       "      <td>Graph-based machine learning</td>\n",
       "      <td>Live</td>\n",
       "      <td>50</td>\n",
       "    </tr>\n",
       "    <tr>\n",
       "      <th>2123</th>\n",
       "      <td>Homepage Follow Sign in / Sign up Homepage * Home\\r\\n * Data Science Experience\\r\\n * ...</td>\n",
       "      <td>One of the earliest documented catalogs was compiled at the great library of Alexandri...</td>\n",
       "      <td>How smart catalogs can turn the big data flood into an ocean of opportunity</td>\n",
       "      <td>Live</td>\n",
       "      <td>221</td>\n",
       "    </tr>\n",
       "    <tr>\n",
       "      <th>2324</th>\n",
       "      <td>Homepage Follow Sign in Get started Homepage * Home\\r\\n * Data Science Experience\\r\\n ...</td>\n",
       "      <td>Today’s world of data science leverages data from various sources. Commonly, these sou...</td>\n",
       "      <td>Using Apache Spark as a parallel processing framework for accessing REST based data se...</td>\n",
       "      <td>Live</td>\n",
       "      <td>398</td>\n",
       "    </tr>\n",
       "    <tr>\n",
       "      <th>3016</th>\n",
       "      <td>This video shows you how to construct queries to access the primary index through the ...</td>\n",
       "      <td>This video shows you how to construct queries to access the primary index through the API</td>\n",
       "      <td>Use the Primary Index</td>\n",
       "      <td>Live</td>\n",
       "      <td>577</td>\n",
       "    </tr>\n",
       "    <tr>\n",
       "      <th>3017</th>\n",
       "      <td>Homepage Follow Sign in Get started * Home\\r\\n * Data Science Experience\\r\\n * Data Ca...</td>\n",
       "      <td>If you are like most data scientists, you are probably spending a lot of time to clean...</td>\n",
       "      <td>Self-service data preparation with IBM Data Refinery</td>\n",
       "      <td>Live</td>\n",
       "      <td>232</td>\n",
       "    </tr>\n",
       "  </tbody>\n",
       "</table>\n",
       "</div>"
      ],
      "text/plain": [
       "                                                                                       doc_body                                                                            doc_description                                                                              doc_full_name doc_status  article_id\n",
       "1103  Follow Sign in / Sign up Home About Insight Data Science Data Engineering Health Data ...  During the seven-week Insight Data Engineering Fellows Program recent grads and experi...                                                               Graph-based machine learning       Live          50\n",
       "2123  Homepage Follow Sign in / Sign up Homepage * Home\\r\\n * Data Science Experience\\r\\n * ...  One of the earliest documented catalogs was compiled at the great library of Alexandri...                How smart catalogs can turn the big data flood into an ocean of opportunity       Live         221\n",
       "2324  Homepage Follow Sign in Get started Homepage * Home\\r\\n * Data Science Experience\\r\\n ...  Today’s world of data science leverages data from various sources. Commonly, these sou...  Using Apache Spark as a parallel processing framework for accessing REST based data se...       Live         398\n",
       "3016  This video shows you how to construct queries to access the primary index through the ...  This video shows you how to construct queries to access the primary index through the API                                                                      Use the Primary Index       Live         577\n",
       "3017  Homepage Follow Sign in Get started * Home\\r\\n * Data Science Experience\\r\\n * Data Ca...  If you are like most data scientists, you are probably spending a lot of time to clean...                                       Self-service data preparation with IBM Data Refinery       Live         232"
      ]
     },
     "execution_count": 34,
     "metadata": {},
     "output_type": "execute_result"
    }
   ],
   "source": [
    "# Take a look at the duplicates list\n",
    "duplicate_articles"
   ]
  },
  {
   "cell_type": "code",
   "execution_count": 35,
   "metadata": {},
   "outputs": [],
   "source": [
    "# Remove any rows that have the same article_id - only keep the first\n",
    "df_content.drop_duplicates(subset=['article_id'], keep='first', inplace=True)\n",
    "\n",
    "# Check the outcome\n",
    "#df_content[df_content['article_id'].duplicated()] "
   ]
  },
  {
   "cell_type": "markdown",
   "metadata": {},
   "source": [
    "<div class=\"alert alert-block alert-info\">\n",
    "\n",
    "<b>NOTES</b>:\n",
    "    <ul>\n",
    "        <li>Drop duplicates in the content dataframe.</li>\n",
    "    </ul>\n",
    "\n",
    "</div>"
   ]
  },
  {
   "cell_type": "markdown",
   "metadata": {},
   "source": [
    "###  <font color='darkblue'>Investigation of the unique articles in the item-user dataset</font>"
   ]
  },
  {
   "cell_type": "code",
   "execution_count": 36,
   "metadata": {},
   "outputs": [
    {
     "name": "stdout",
     "output_type": "stream",
     "text": [
      "The number of unique articles on the IBM platform is 1051.\n",
      "The number of unique articles that have at least one interaction is 714.\n"
     ]
    }
   ],
   "source": [
    "# The total number of unique articles in the dataset\n",
    "total_articles = df_content.article_id.nunique()\n",
    "print(f'The number of unique articles on the IBM platform is {total_articles}.')\n",
    "\n",
    "# The number of unique articles that have at least one user interaction (user-item dataset)\n",
    "unique_articles = df.article_id.nunique()\n",
    "print(f'The number of unique articles that have at least one interaction is {unique_articles}.')"
   ]
  },
  {
   "cell_type": "code",
   "execution_count": 37,
   "metadata": {},
   "outputs": [
    {
     "name": "stdout",
     "output_type": "stream",
     "text": [
      "The number of unique articles that have no user interaction in item-user data is 0.\n"
     ]
    }
   ],
   "source": [
    "# The number of rows that have no user email in the df dataframe\n",
    "no_interact_articles = df[df.isna().any(axis=1)]['article_id'].nunique()\n",
    "print(f'The number of unique articles that have no user interaction in item-user data is {no_interact_articles}.')"
   ]
  },
  {
   "cell_type": "code",
   "execution_count": 38,
   "metadata": {},
   "outputs": [
    {
     "name": "stdout",
     "output_type": "stream",
     "text": [
      "The number of unique users is 5148 since we attributed missing values to a designated user.\n",
      "The number of user-article interactions is 45993.\n"
     ]
    }
   ],
   "source": [
    "# The number of unique users in the dataset (exclude nulls)\n",
    "unique_users = df.user_id.nunique(dropna=True)\n",
    "print(f'The number of unique users is {unique_users - 1} since we attributed missing values to a designated user.')\n",
    "\n",
    "# The number of user-article interactions in the dataset\n",
    "user_article_interactions = df[['user_id', 'article_id']].shape[0]\n",
    "print(f'The number of user-article interactions is {user_article_interactions}.')"
   ]
  },
  {
   "cell_type": "markdown",
   "metadata": {},
   "source": [
    "###  <font color='darkblue'>Find the most popular articles</font>"
   ]
  },
  {
   "cell_type": "code",
   "execution_count": 39,
   "metadata": {},
   "outputs": [
    {
     "data": {
      "text/html": [
       "<div>\n",
       "<style scoped>\n",
       "    .dataframe tbody tr th:only-of-type {\n",
       "        vertical-align: middle;\n",
       "    }\n",
       "\n",
       "    .dataframe tbody tr th {\n",
       "        vertical-align: top;\n",
       "    }\n",
       "\n",
       "    .dataframe thead th {\n",
       "        text-align: right;\n",
       "    }\n",
       "</style>\n",
       "<table border=\"1\" class=\"dataframe\">\n",
       "  <thead>\n",
       "    <tr style=\"text-align: right;\">\n",
       "      <th></th>\n",
       "      <th>views</th>\n",
       "    </tr>\n",
       "    <tr>\n",
       "      <th>article_id</th>\n",
       "      <th></th>\n",
       "    </tr>\n",
       "  </thead>\n",
       "  <tbody>\n",
       "    <tr>\n",
       "      <th>0.0</th>\n",
       "      <td>14</td>\n",
       "    </tr>\n",
       "    <tr>\n",
       "      <th>2.0</th>\n",
       "      <td>58</td>\n",
       "    </tr>\n",
       "  </tbody>\n",
       "</table>\n",
       "</div>"
      ],
      "text/plain": [
       "            views\n",
       "article_id       \n",
       "0.0            14\n",
       "2.0            58"
      ]
     },
     "execution_count": 39,
     "metadata": {},
     "output_type": "execute_result"
    }
   ],
   "source": [
    "# Count how many times each article is viewed\n",
    "article_views = pd.DataFrame(df.groupby(['article_id']).count()['user_id'])\n",
    "\n",
    "# Rename columns\n",
    "article_views.rename(columns={'user_id': 'views'}, inplace=True)\n",
    "\n",
    "# Check the outcome\n",
    "article_views.head(2)"
   ]
  },
  {
   "cell_type": "code",
   "execution_count": 40,
   "metadata": {},
   "outputs": [
    {
     "data": {
      "text/html": [
       "<div>\n",
       "<style scoped>\n",
       "    .dataframe tbody tr th:only-of-type {\n",
       "        vertical-align: middle;\n",
       "    }\n",
       "\n",
       "    .dataframe tbody tr th {\n",
       "        vertical-align: top;\n",
       "    }\n",
       "\n",
       "    .dataframe thead th {\n",
       "        text-align: right;\n",
       "    }\n",
       "</style>\n",
       "<table border=\"1\" class=\"dataframe\">\n",
       "  <thead>\n",
       "    <tr style=\"text-align: right;\">\n",
       "      <th></th>\n",
       "      <th>views</th>\n",
       "    </tr>\n",
       "  </thead>\n",
       "  <tbody>\n",
       "    <tr>\n",
       "      <th>count</th>\n",
       "      <td>714.00</td>\n",
       "    </tr>\n",
       "    <tr>\n",
       "      <th>mean</th>\n",
       "      <td>64.42</td>\n",
       "    </tr>\n",
       "    <tr>\n",
       "      <th>std</th>\n",
       "      <td>109.18</td>\n",
       "    </tr>\n",
       "    <tr>\n",
       "      <th>min</th>\n",
       "      <td>1.00</td>\n",
       "    </tr>\n",
       "    <tr>\n",
       "      <th>25%</th>\n",
       "      <td>8.00</td>\n",
       "    </tr>\n",
       "    <tr>\n",
       "      <th>50%</th>\n",
       "      <td>25.00</td>\n",
       "    </tr>\n",
       "    <tr>\n",
       "      <th>75%</th>\n",
       "      <td>69.00</td>\n",
       "    </tr>\n",
       "    <tr>\n",
       "      <th>max</th>\n",
       "      <td>937.00</td>\n",
       "    </tr>\n",
       "  </tbody>\n",
       "</table>\n",
       "</div>"
      ],
      "text/plain": [
       "        views\n",
       "count  714.00\n",
       "mean    64.42\n",
       "std    109.18\n",
       "min      1.00\n",
       "25%      8.00\n",
       "50%     25.00\n",
       "75%     69.00\n",
       "max    937.00"
      ]
     },
     "execution_count": 40,
     "metadata": {},
     "output_type": "execute_result"
    }
   ],
   "source": [
    "# Look at the 5 number statistics for article views\n",
    "article_views.describe()"
   ]
  },
  {
   "cell_type": "code",
   "execution_count": 41,
   "metadata": {},
   "outputs": [
    {
     "data": {
      "image/png": "[encoded data removed]",
      "text/plain": [
       "<Figure size 1152x288 with 1 Axes>"
      ]
     },
     "metadata": {},
     "output_type": "display_data"
    }
   ],
   "source": [
    "# Boxplot for the counts of how many times an article is viewed \n",
    "plt.figure(figsize=(16,4))\n",
    "\n",
    "ax = sns.boxplot(x=article_views.views)\n",
    "\n",
    "plt.title('Article views counts')\n",
    "plt.xlabel('')\n",
    "plt.show()"
   ]
  },
  {
   "cell_type": "code",
   "execution_count": 42,
   "metadata": {},
   "outputs": [
    {
     "data": {
      "text/plain": [
       "article_id\n",
       "1429.0    937\n",
       "1330.0    927\n",
       "1431.0    671\n",
       "1427.0    643\n",
       "1364.0    627\n",
       "1314.0    614\n",
       "1293.0    572\n",
       "1170.0    565\n",
       "1162.0    512\n",
       "1304.0    483\n",
       "Name: views, dtype: int64"
      ]
     },
     "execution_count": 42,
     "metadata": {},
     "output_type": "execute_result"
    }
   ],
   "source": [
    "# The 10 most viewed articles\n",
    "article_views.views.sort_values(ascending=False).head(10)"
   ]
  },
  {
   "cell_type": "code",
   "execution_count": 43,
   "metadata": {},
   "outputs": [
    {
     "name": "stdout",
     "output_type": "stream",
     "text": [
      "The most viewed article_id in the dataset is 1429.0.\n",
      "The most viewed article in the dataset was viewed 937 times.\n"
     ]
    }
   ],
   "source": [
    "# The most popular article\n",
    "most_viewed_article_id = str(df.groupby(\n",
    "    'article_id').count()['user_id'].sort_values(ascending=False).index[0])\n",
    "print(f'The most viewed article_id in the dataset is {most_viewed_article_id}.')\n",
    "\n",
    "max_views = df.groupby(\n",
    "    'article_id').count()['user_id'].sort_values(ascending=False).iloc[0]\n",
    "print(f'The most viewed article in the dataset was viewed {max_views} times.')"
   ]
  },
  {
   "cell_type": "code",
   "execution_count": 44,
   "metadata": {},
   "outputs": [
    {
     "name": "stdout",
     "output_type": "stream",
     "text": [
      "The second most viewed article_id in the dataset is 1330.0.\n",
      "The second most viewed article in the dataset was viewed 927 times.\n"
     ]
    }
   ],
   "source": [
    "# The second most popular article\n",
    "second_most_viewed_article_id = str(\n",
    "    df.groupby('article_id').count()['user_id'].sort_values(ascending=False).index[1])\n",
    "print(f'The second most viewed article_id in the dataset is {second_most_viewed_article_id}.')\n",
    "\n",
    "second_max_views = df.groupby(\n",
    "    'article_id').count()['user_id'].sort_values(ascending=False).iloc[1]\n",
    "print(f'The second most viewed article in the dataset was viewed {second_max_views} times.')"
   ]
  },
  {
   "cell_type": "code",
   "execution_count": 45,
   "metadata": {},
   "outputs": [
    {
     "data": {
      "text/html": [
       "<div>\n",
       "<style scoped>\n",
       "    .dataframe tbody tr th:only-of-type {\n",
       "        vertical-align: middle;\n",
       "    }\n",
       "\n",
       "    .dataframe tbody tr th {\n",
       "        vertical-align: top;\n",
       "    }\n",
       "\n",
       "    .dataframe thead th {\n",
       "        text-align: right;\n",
       "    }\n",
       "</style>\n",
       "<table border=\"1\" class=\"dataframe\">\n",
       "  <thead>\n",
       "    <tr style=\"text-align: right;\">\n",
       "      <th></th>\n",
       "      <th>article_id</th>\n",
       "      <th>user_id</th>\n",
       "    </tr>\n",
       "  </thead>\n",
       "  <tbody>\n",
       "    <tr>\n",
       "      <th>0</th>\n",
       "      <td>0.0</td>\n",
       "      <td>[495, 495, 495, 503, 233, 552, 1347, 1051, 785, 2992, 3216, 3570, 4571, 4836]</td>\n",
       "    </tr>\n",
       "    <tr>\n",
       "      <th>1</th>\n",
       "      <td>2.0</td>\n",
       "      <td>[676, 668, 668, 1145, 23, 23, 60, 60, 665, 98, 668, 794, 217, 60, 1401, 46, 1577, 789,...</td>\n",
       "    </tr>\n",
       "  </tbody>\n",
       "</table>\n",
       "</div>"
      ],
      "text/plain": [
       "   article_id                                                                                    user_id\n",
       "0         0.0              [495, 495, 495, 503, 233, 552, 1347, 1051, 785, 2992, 3216, 3570, 4571, 4836]\n",
       "1         2.0  [676, 668, 668, 1145, 23, 23, 60, 60, 665, 98, 668, 794, 217, 60, 1401, 46, 1577, 789,..."
      ]
     },
     "execution_count": 45,
     "metadata": {},
     "output_type": "execute_result"
    }
   ],
   "source": [
    "# Create a dataframe to keep track of the users that accessed a certain article\n",
    "users_per_article = pd.pivot_table(df,\n",
    "                    values=['user_id'],\n",
    "                    index='article_id',\n",
    "                    aggfunc={'user_id': list})\n",
    "users_per_article.reset_index(inplace=True)\n",
    "\n",
    "# Check the outcome\n",
    "users_per_article.head(2)"
   ]
  },
  {
   "cell_type": "markdown",
   "metadata": {},
   "source": [
    "##  <font color='darkblue'>Dataframe with All Articles</font>"
   ]
  },
  {
   "cell_type": "markdown",
   "metadata": {},
   "source": [
    "<div class=\"alert alert-block alert-info\">\n",
    "\n",
    "<b>NOTES</b>:\n",
    "    <ul>\n",
    "        <li>The two datasets <tt>df</tt> and <tt>df_frame</tt> contain common articles, as well as articles that are in one dataset but not in the other.</li>\n",
    "        <li>We form an outer join to combine all these articles, after which we will have to consolidate the article titles.</li>\n",
    "    </ul>\n",
    "\n",
    "</div>"
   ]
  },
  {
   "cell_type": "code",
   "execution_count": 46,
   "metadata": {},
   "outputs": [],
   "source": [
    "# Extract article_id and title from df\n",
    "df_titles = df[['article_id', 'title']].copy()\n",
    "# Drop duplicates to obtain a clean list of articles\n",
    "df_titles.drop_duplicates(inplace=True)"
   ]
  },
  {
   "cell_type": "code",
   "execution_count": 47,
   "metadata": {},
   "outputs": [
    {
     "data": {
      "text/html": [
       "<div>\n",
       "<style scoped>\n",
       "    .dataframe tbody tr th:only-of-type {\n",
       "        vertical-align: middle;\n",
       "    }\n",
       "\n",
       "    .dataframe tbody tr th {\n",
       "        vertical-align: top;\n",
       "    }\n",
       "\n",
       "    .dataframe thead th {\n",
       "        text-align: right;\n",
       "    }\n",
       "</style>\n",
       "<table border=\"1\" class=\"dataframe\">\n",
       "  <thead>\n",
       "    <tr style=\"text-align: right;\">\n",
       "      <th></th>\n",
       "      <th>views</th>\n",
       "      <th>title</th>\n",
       "      <th>user_id</th>\n",
       "    </tr>\n",
       "    <tr>\n",
       "      <th>article_id</th>\n",
       "      <th></th>\n",
       "      <th></th>\n",
       "      <th></th>\n",
       "    </tr>\n",
       "  </thead>\n",
       "  <tbody>\n",
       "    <tr>\n",
       "      <th>0.0</th>\n",
       "      <td>14</td>\n",
       "      <td>detect malfunctioning iot sensors with streaming analytics</td>\n",
       "      <td>[495, 495, 495, 503, 233, 552, 1347, 1051, 785, 2992, 3216, 3570, 4571, 4836]</td>\n",
       "    </tr>\n",
       "    <tr>\n",
       "      <th>2.0</th>\n",
       "      <td>58</td>\n",
       "      <td>this week in data science (april 18, 2017)</td>\n",
       "      <td>[676, 668, 668, 1145, 23, 23, 60, 60, 665, 98, 668, 794, 217, 60, 1401, 46, 1577, 789,...</td>\n",
       "    </tr>\n",
       "  </tbody>\n",
       "</table>\n",
       "</div>"
      ],
      "text/plain": [
       "            views                                                       title                                                                                    user_id\n",
       "article_id                                                                                                                                                              \n",
       "0.0            14  detect malfunctioning iot sensors with streaming analytics              [495, 495, 495, 503, 233, 552, 1347, 1051, 785, 2992, 3216, 3570, 4571, 4836]\n",
       "2.0            58                  this week in data science (april 18, 2017)  [676, 668, 668, 1145, 23, 23, 60, 60, 665, 98, 668, 794, 217, 60, 1401, 46, 1577, 789,..."
      ]
     },
     "execution_count": 47,
     "metadata": {},
     "output_type": "execute_result"
    }
   ],
   "source": [
    "# Combine the titles with the view counts and the user lists\n",
    "df_title_info = pd.merge(\n",
    "    article_views, df_titles, on='article_id').merge(\n",
    "    users_per_article, on='article_id').set_index('article_id')\n",
    "\n",
    "# Check the outcome\n",
    "df_title_info.head(2)"
   ]
  },
  {
   "cell_type": "code",
   "execution_count": 48,
   "metadata": {},
   "outputs": [
    {
     "data": {
      "text/html": [
       "<div>\n",
       "<style scoped>\n",
       "    .dataframe tbody tr th:only-of-type {\n",
       "        vertical-align: middle;\n",
       "    }\n",
       "\n",
       "    .dataframe tbody tr th {\n",
       "        vertical-align: top;\n",
       "    }\n",
       "\n",
       "    .dataframe thead th {\n",
       "        text-align: right;\n",
       "    }\n",
       "</style>\n",
       "<table border=\"1\" class=\"dataframe\">\n",
       "  <thead>\n",
       "    <tr style=\"text-align: right;\">\n",
       "      <th></th>\n",
       "      <th>doc_body</th>\n",
       "      <th>doc_description</th>\n",
       "      <th>doc_full_name</th>\n",
       "      <th>doc_status</th>\n",
       "      <th>article_id</th>\n",
       "      <th>views</th>\n",
       "      <th>title</th>\n",
       "      <th>user_id</th>\n",
       "      <th>_merge</th>\n",
       "    </tr>\n",
       "  </thead>\n",
       "  <tbody>\n",
       "    <tr>\n",
       "      <th>0</th>\n",
       "      <td>Skip navigation Sign in SearchLoading...\\r\\n\\r\\nClose Yeah, keep it Undo CloseTHIS VID...</td>\n",
       "      <td>Detect bad readings in real time using Python and Streaming Analytics.</td>\n",
       "      <td>Detect Malfunctioning IoT Sensors with Streaming Analytics</td>\n",
       "      <td>Live</td>\n",
       "      <td>0.0</td>\n",
       "      <td>14.0</td>\n",
       "      <td>detect malfunctioning iot sensors with streaming analytics</td>\n",
       "      <td>[495, 495, 495, 503, 233, 552, 1347, 1051, 785, 2992, 3216, 3570, 4571, 4836]</td>\n",
       "      <td>both</td>\n",
       "    </tr>\n",
       "    <tr>\n",
       "      <th>1</th>\n",
       "      <td>No Free Hunch Navigation * kaggle.com\\r\\n\\r\\n * kaggle.com\\r\\n\\r\\nCommunicating data s...</td>\n",
       "      <td>See the forest, see the trees. Here lies the challenge in both performing and presenti...</td>\n",
       "      <td>Communicating data science: A guide to presenting your work</td>\n",
       "      <td>Live</td>\n",
       "      <td>1.0</td>\n",
       "      <td>NaN</td>\n",
       "      <td>NaN</td>\n",
       "      <td>NaN</td>\n",
       "      <td>left_only</td>\n",
       "    </tr>\n",
       "  </tbody>\n",
       "</table>\n",
       "</div>"
      ],
      "text/plain": [
       "                                                                                    doc_body                                                                            doc_description                                                doc_full_name doc_status  article_id  views                                                       title                                                                        user_id     _merge\n",
       "0  Skip navigation Sign in SearchLoading...\\r\\n\\r\\nClose Yeah, keep it Undo CloseTHIS VID...                     Detect bad readings in real time using Python and Streaming Analytics.   Detect Malfunctioning IoT Sensors with Streaming Analytics       Live         0.0   14.0  detect malfunctioning iot sensors with streaming analytics  [495, 495, 495, 503, 233, 552, 1347, 1051, 785, 2992, 3216, 3570, 4571, 4836]       both\n",
       "1  No Free Hunch Navigation * kaggle.com\\r\\n\\r\\n * kaggle.com\\r\\n\\r\\nCommunicating data s...  See the forest, see the trees. Here lies the challenge in both performing and presenti...  Communicating data science: A guide to presenting your work       Live         1.0    NaN                                                         NaN                                                                            NaN  left_only"
      ]
     },
     "execution_count": 48,
     "metadata": {},
     "output_type": "execute_result"
    }
   ],
   "source": [
    "# Perform an outer join of df_content and df_title_info dataframe\n",
    "df_content_full = pd.merge(df_content, df_title_info, on='article_id', how='outer', indicator=True)\n",
    "# Check the outcome\n",
    "df_content_full.head(2)"
   ]
  },
  {
   "cell_type": "code",
   "execution_count": 49,
   "metadata": {},
   "outputs": [
    {
     "data": {
      "text/plain": [
       "doc_body           291\n",
       "doc_description    280\n",
       "doc_full_name      277\n",
       "doc_status         277\n",
       "article_id           0\n",
       "views              614\n",
       "title              614\n",
       "user_id            614\n",
       "_merge               0\n",
       "dtype: int64"
      ]
     },
     "execution_count": 49,
     "metadata": {},
     "output_type": "execute_result"
    }
   ],
   "source": [
    "# Count the missing values in the merged dataframe\n",
    "df_content_full.isna().sum()"
   ]
  },
  {
   "cell_type": "markdown",
   "metadata": {},
   "source": [
    "<div class=\"alert alert-block alert-info\">\n",
    "\n",
    "<b>NOTES</b>:\n",
    "    <ul>\n",
    "        <li>Combine <tt>doc_full_name</tt> and <tt>title</tt> into a single column: <tt>doc_name</tt>.</li>\n",
    "        <li>Drop: <tt>doc_status</tt>, <tt>doc_full_name</tt>, <tt>title</tt>, <tt>merge</tt>.</li>\n",
    "        <li>Rename <tt>user_id</tt> to <tt>users_who_viewed</tt>.\n",
    "        <li>Replace missing views by 0.</li>\n",
    "        <li>Replace missing user list by [].</li>\n",
    "    </ul>\n",
    "\n",
    "</div>"
   ]
  },
  {
   "cell_type": "code",
   "execution_count": 50,
   "metadata": {},
   "outputs": [],
   "source": [
    "# Create a function that picks the title \n",
    "def get_title(row):\n",
    "    if row['_merge'] == 'left_only':\n",
    "        return row['doc_full_name']\n",
    "    else:\n",
    "        return row['title']"
   ]
  },
  {
   "cell_type": "code",
   "execution_count": 51,
   "metadata": {},
   "outputs": [
    {
     "data": {
      "text/html": [
       "<div>\n",
       "<style scoped>\n",
       "    .dataframe tbody tr th:only-of-type {\n",
       "        vertical-align: middle;\n",
       "    }\n",
       "\n",
       "    .dataframe tbody tr th {\n",
       "        vertical-align: top;\n",
       "    }\n",
       "\n",
       "    .dataframe thead th {\n",
       "        text-align: right;\n",
       "    }\n",
       "</style>\n",
       "<table border=\"1\" class=\"dataframe\">\n",
       "  <thead>\n",
       "    <tr style=\"text-align: right;\">\n",
       "      <th></th>\n",
       "      <th>doc_body</th>\n",
       "      <th>doc_description</th>\n",
       "      <th>doc_full_name</th>\n",
       "      <th>doc_status</th>\n",
       "      <th>article_id</th>\n",
       "      <th>views</th>\n",
       "      <th>title</th>\n",
       "      <th>user_id</th>\n",
       "      <th>_merge</th>\n",
       "      <th>doc_name</th>\n",
       "    </tr>\n",
       "  </thead>\n",
       "  <tbody>\n",
       "    <tr>\n",
       "      <th>0</th>\n",
       "      <td>Skip navigation Sign in SearchLoading...\\r\\n\\r\\nClose Yeah, keep it Undo CloseTHIS VID...</td>\n",
       "      <td>Detect bad readings in real time using Python and Streaming Analytics.</td>\n",
       "      <td>Detect Malfunctioning IoT Sensors with Streaming Analytics</td>\n",
       "      <td>Live</td>\n",
       "      <td>0.0</td>\n",
       "      <td>14.0</td>\n",
       "      <td>detect malfunctioning iot sensors with streaming analytics</td>\n",
       "      <td>[495, 495, 495, 503, 233, 552, 1347, 1051, 785, 2992, 3216, 3570, 4571, 4836]</td>\n",
       "      <td>both</td>\n",
       "      <td>detect malfunctioning iot sensors with streaming analytics</td>\n",
       "    </tr>\n",
       "    <tr>\n",
       "      <th>1</th>\n",
       "      <td>No Free Hunch Navigation * kaggle.com\\r\\n\\r\\n * kaggle.com\\r\\n\\r\\nCommunicating data s...</td>\n",
       "      <td>See the forest, see the trees. Here lies the challenge in both performing and presenti...</td>\n",
       "      <td>Communicating data science: A guide to presenting your work</td>\n",
       "      <td>Live</td>\n",
       "      <td>1.0</td>\n",
       "      <td>NaN</td>\n",
       "      <td>NaN</td>\n",
       "      <td>NaN</td>\n",
       "      <td>left_only</td>\n",
       "      <td>Communicating data science: A guide to presenting your work</td>\n",
       "    </tr>\n",
       "  </tbody>\n",
       "</table>\n",
       "</div>"
      ],
      "text/plain": [
       "                                                                                    doc_body                                                                            doc_description                                                doc_full_name doc_status  article_id  views                                                       title                                                                        user_id     _merge                                                     doc_name\n",
       "0  Skip navigation Sign in SearchLoading...\\r\\n\\r\\nClose Yeah, keep it Undo CloseTHIS VID...                     Detect bad readings in real time using Python and Streaming Analytics.   Detect Malfunctioning IoT Sensors with Streaming Analytics       Live         0.0   14.0  detect malfunctioning iot sensors with streaming analytics  [495, 495, 495, 503, 233, 552, 1347, 1051, 785, 2992, 3216, 3570, 4571, 4836]       both   detect malfunctioning iot sensors with streaming analytics\n",
       "1  No Free Hunch Navigation * kaggle.com\\r\\n\\r\\n * kaggle.com\\r\\n\\r\\nCommunicating data s...  See the forest, see the trees. Here lies the challenge in both performing and presenti...  Communicating data science: A guide to presenting your work       Live         1.0    NaN                                                         NaN                                                                            NaN  left_only  Communicating data science: A guide to presenting your work"
      ]
     },
     "execution_count": 51,
     "metadata": {},
     "output_type": "execute_result"
    }
   ],
   "source": [
    "# Create a new column that combines the available titles \n",
    "df_content_full['doc_name'] = df_content_full.apply(lambda x: get_title(x), axis=1)\n",
    "\n",
    "# Check the outcome\n",
    "df_content_full.head(2)"
   ]
  },
  {
   "cell_type": "code",
   "execution_count": 52,
   "metadata": {},
   "outputs": [
    {
     "data": {
      "text/html": [
       "<div>\n",
       "<style scoped>\n",
       "    .dataframe tbody tr th:only-of-type {\n",
       "        vertical-align: middle;\n",
       "    }\n",
       "\n",
       "    .dataframe tbody tr th {\n",
       "        vertical-align: top;\n",
       "    }\n",
       "\n",
       "    .dataframe thead th {\n",
       "        text-align: right;\n",
       "    }\n",
       "</style>\n",
       "<table border=\"1\" class=\"dataframe\">\n",
       "  <thead>\n",
       "    <tr style=\"text-align: right;\">\n",
       "      <th></th>\n",
       "      <th>doc_body</th>\n",
       "      <th>doc_description</th>\n",
       "      <th>doc_full_name</th>\n",
       "      <th>doc_status</th>\n",
       "      <th>article_id</th>\n",
       "      <th>views</th>\n",
       "      <th>title</th>\n",
       "      <th>user_id</th>\n",
       "      <th>_merge</th>\n",
       "      <th>doc_name</th>\n",
       "      <th>users_accessed</th>\n",
       "    </tr>\n",
       "  </thead>\n",
       "  <tbody>\n",
       "    <tr>\n",
       "      <th>0</th>\n",
       "      <td>Skip navigation Sign in SearchLoading...\\r\\n\\r\\nClose Yeah, keep it Undo CloseTHIS VID...</td>\n",
       "      <td>Detect bad readings in real time using Python and Streaming Analytics.</td>\n",
       "      <td>Detect Malfunctioning IoT Sensors with Streaming Analytics</td>\n",
       "      <td>Live</td>\n",
       "      <td>0.0</td>\n",
       "      <td>14.0</td>\n",
       "      <td>detect malfunctioning iot sensors with streaming analytics</td>\n",
       "      <td>[495, 495, 495, 503, 233, 552, 1347, 1051, 785, 2992, 3216, 3570, 4571, 4836]</td>\n",
       "      <td>both</td>\n",
       "      <td>detect malfunctioning iot sensors with streaming analytics</td>\n",
       "      <td>[495, 495, 495, 503, 233, 552, 1347, 1051, 785, 2992, 3216, 3570, 4571, 4836]</td>\n",
       "    </tr>\n",
       "    <tr>\n",
       "      <th>1</th>\n",
       "      <td>No Free Hunch Navigation * kaggle.com\\r\\n\\r\\n * kaggle.com\\r\\n\\r\\nCommunicating data s...</td>\n",
       "      <td>See the forest, see the trees. Here lies the challenge in both performing and presenti...</td>\n",
       "      <td>Communicating data science: A guide to presenting your work</td>\n",
       "      <td>Live</td>\n",
       "      <td>1.0</td>\n",
       "      <td>NaN</td>\n",
       "      <td>NaN</td>\n",
       "      <td>NaN</td>\n",
       "      <td>left_only</td>\n",
       "      <td>Communicating data science: A guide to presenting your work</td>\n",
       "      <td>[]</td>\n",
       "    </tr>\n",
       "  </tbody>\n",
       "</table>\n",
       "</div>"
      ],
      "text/plain": [
       "                                                                                    doc_body                                                                            doc_description                                                doc_full_name doc_status  article_id  views                                                       title                                                                        user_id     _merge                                                     doc_name                                                                 users_accessed\n",
       "0  Skip navigation Sign in SearchLoading...\\r\\n\\r\\nClose Yeah, keep it Undo CloseTHIS VID...                     Detect bad readings in real time using Python and Streaming Analytics.   Detect Malfunctioning IoT Sensors with Streaming Analytics       Live         0.0   14.0  detect malfunctioning iot sensors with streaming analytics  [495, 495, 495, 503, 233, 552, 1347, 1051, 785, 2992, 3216, 3570, 4571, 4836]       both   detect malfunctioning iot sensors with streaming analytics  [495, 495, 495, 503, 233, 552, 1347, 1051, 785, 2992, 3216, 3570, 4571, 4836]\n",
       "1  No Free Hunch Navigation * kaggle.com\\r\\n\\r\\n * kaggle.com\\r\\n\\r\\nCommunicating data s...  See the forest, see the trees. Here lies the challenge in both performing and presenti...  Communicating data science: A guide to presenting your work       Live         1.0    NaN                                                         NaN                                                                            NaN  left_only  Communicating data science: A guide to presenting your work                                                                             []"
      ]
     },
     "execution_count": 52,
     "metadata": {},
     "output_type": "execute_result"
    }
   ],
   "source": [
    "# Create a new column where NaN values in user_id are replaced by empty lists\n",
    "df_content_full['users_accessed'] = [ [] if x is np.NaN else x for x in df_content_full['user_id'] ]\n",
    "df_content_full.head(2)"
   ]
  },
  {
   "cell_type": "code",
   "execution_count": 53,
   "metadata": {},
   "outputs": [
    {
     "data": {
      "text/html": [
       "<div>\n",
       "<style scoped>\n",
       "    .dataframe tbody tr th:only-of-type {\n",
       "        vertical-align: middle;\n",
       "    }\n",
       "\n",
       "    .dataframe tbody tr th {\n",
       "        vertical-align: top;\n",
       "    }\n",
       "\n",
       "    .dataframe thead th {\n",
       "        text-align: right;\n",
       "    }\n",
       "</style>\n",
       "<table border=\"1\" class=\"dataframe\">\n",
       "  <thead>\n",
       "    <tr style=\"text-align: right;\">\n",
       "      <th></th>\n",
       "      <th>doc_body</th>\n",
       "      <th>doc_description</th>\n",
       "      <th>article_id</th>\n",
       "      <th>views</th>\n",
       "      <th>doc_name</th>\n",
       "      <th>users_accessed</th>\n",
       "    </tr>\n",
       "  </thead>\n",
       "  <tbody>\n",
       "    <tr>\n",
       "      <th>0</th>\n",
       "      <td>Skip navigation Sign in SearchLoading...\\r\\n\\r\\nClose Yeah, keep it Undo CloseTHIS VID...</td>\n",
       "      <td>Detect bad readings in real time using Python and Streaming Analytics.</td>\n",
       "      <td>0.0</td>\n",
       "      <td>14.0</td>\n",
       "      <td>detect malfunctioning iot sensors with streaming analytics</td>\n",
       "      <td>[495, 495, 495, 503, 233, 552, 1347, 1051, 785, 2992, 3216, 3570, 4571, 4836]</td>\n",
       "    </tr>\n",
       "    <tr>\n",
       "      <th>1</th>\n",
       "      <td>No Free Hunch Navigation * kaggle.com\\r\\n\\r\\n * kaggle.com\\r\\n\\r\\nCommunicating data s...</td>\n",
       "      <td>See the forest, see the trees. Here lies the challenge in both performing and presenti...</td>\n",
       "      <td>1.0</td>\n",
       "      <td>NaN</td>\n",
       "      <td>Communicating data science: A guide to presenting your work</td>\n",
       "      <td>[]</td>\n",
       "    </tr>\n",
       "  </tbody>\n",
       "</table>\n",
       "</div>"
      ],
      "text/plain": [
       "                                                                                    doc_body                                                                            doc_description  article_id  views                                                     doc_name                                                                 users_accessed\n",
       "0  Skip navigation Sign in SearchLoading...\\r\\n\\r\\nClose Yeah, keep it Undo CloseTHIS VID...                     Detect bad readings in real time using Python and Streaming Analytics.         0.0   14.0   detect malfunctioning iot sensors with streaming analytics  [495, 495, 495, 503, 233, 552, 1347, 1051, 785, 2992, 3216, 3570, 4571, 4836]\n",
       "1  No Free Hunch Navigation * kaggle.com\\r\\n\\r\\n * kaggle.com\\r\\n\\r\\nCommunicating data s...  See the forest, see the trees. Here lies the challenge in both performing and presenti...         1.0    NaN  Communicating data science: A guide to presenting your work                                                                             []"
      ]
     },
     "execution_count": 53,
     "metadata": {},
     "output_type": "execute_result"
    }
   ],
   "source": [
    "# Drop columns\n",
    "df_content_full.drop(columns=['doc_full_name', 'doc_status', 'title', '_merge', 'user_id'], inplace=True)\n",
    "\n",
    "# Check the outcome\n",
    "df_content_full.head(2)"
   ]
  },
  {
   "cell_type": "code",
   "execution_count": 54,
   "metadata": {},
   "outputs": [
    {
     "data": {
      "text/html": [
       "<div>\n",
       "<style scoped>\n",
       "    .dataframe tbody tr th:only-of-type {\n",
       "        vertical-align: middle;\n",
       "    }\n",
       "\n",
       "    .dataframe tbody tr th {\n",
       "        vertical-align: top;\n",
       "    }\n",
       "\n",
       "    .dataframe thead th {\n",
       "        text-align: right;\n",
       "    }\n",
       "</style>\n",
       "<table border=\"1\" class=\"dataframe\">\n",
       "  <thead>\n",
       "    <tr style=\"text-align: right;\">\n",
       "      <th></th>\n",
       "      <th>doc_body</th>\n",
       "      <th>doc_description</th>\n",
       "      <th>article_id</th>\n",
       "      <th>views</th>\n",
       "      <th>doc_name</th>\n",
       "      <th>users_accessed</th>\n",
       "    </tr>\n",
       "  </thead>\n",
       "  <tbody>\n",
       "    <tr>\n",
       "      <th>0</th>\n",
       "      <td>Skip navigation Sign in SearchLoading...\\r\\n\\r\\nClose Yeah, keep it Undo CloseTHIS VID...</td>\n",
       "      <td>Detect bad readings in real time using Python and Streaming Analytics.</td>\n",
       "      <td>0.0</td>\n",
       "      <td>14.0</td>\n",
       "      <td>detect malfunctioning iot sensors with streaming analytics</td>\n",
       "      <td>[495, 495, 495, 503, 233, 552, 1347, 1051, 785, 2992, 3216, 3570, 4571, 4836]</td>\n",
       "    </tr>\n",
       "    <tr>\n",
       "      <th>1</th>\n",
       "      <td>No Free Hunch Navigation * kaggle.com\\r\\n\\r\\n * kaggle.com\\r\\n\\r\\nCommunicating data s...</td>\n",
       "      <td>See the forest, see the trees. Here lies the challenge in both performing and presenti...</td>\n",
       "      <td>1.0</td>\n",
       "      <td>0.0</td>\n",
       "      <td>Communicating data science: A guide to presenting your work</td>\n",
       "      <td>[]</td>\n",
       "    </tr>\n",
       "  </tbody>\n",
       "</table>\n",
       "</div>"
      ],
      "text/plain": [
       "                                                                                    doc_body                                                                            doc_description  article_id  views                                                     doc_name                                                                 users_accessed\n",
       "0  Skip navigation Sign in SearchLoading...\\r\\n\\r\\nClose Yeah, keep it Undo CloseTHIS VID...                     Detect bad readings in real time using Python and Streaming Analytics.         0.0   14.0   detect malfunctioning iot sensors with streaming analytics  [495, 495, 495, 503, 233, 552, 1347, 1051, 785, 2992, 3216, 3570, 4571, 4836]\n",
       "1  No Free Hunch Navigation * kaggle.com\\r\\n\\r\\n * kaggle.com\\r\\n\\r\\nCommunicating data s...  See the forest, see the trees. Here lies the challenge in both performing and presenti...         1.0    0.0  Communicating data science: A guide to presenting your work                                                                             []"
      ]
     },
     "execution_count": 54,
     "metadata": {},
     "output_type": "execute_result"
    }
   ],
   "source": [
    "# Replace the missing views counts by 0\n",
    "df_content_full['views'] = df_content_full['views'].fillna(0)\n",
    "\n",
    "# Check the outcome\n",
    "df_content_full.head(2)"
   ]
  },
  {
   "cell_type": "code",
   "execution_count": 55,
   "metadata": {},
   "outputs": [
    {
     "data": {
      "text/plain": [
       "doc_body           Homepage About membership Sign in Get started Homepage Roman Kierzkowski Blocked Unblo...\n",
       "doc_description    Jupyter Notebook (a.k.a iPython Notebook) is brilliant coding tool. It is ideal for do...\n",
       "article_id                                                                                             528.0\n",
       "views                                                                                                   32.0\n",
       "doc_name                                                                   10 tips on using jupyter notebook\n",
       "users_accessed     [94, 8, 8, 103, 429, 581, 2202, 1355, 2737, 45, 13, 40, 1035, 49, 256, 13, 205, 1063, ...\n",
       "Name: 528, dtype: object"
      ]
     },
     "execution_count": 55,
     "metadata": {},
     "output_type": "execute_result"
    }
   ],
   "source": [
    "# The full information on an article in content dataframe\n",
    "df_content_full.loc[528]"
   ]
  },
  {
   "cell_type": "code",
   "execution_count": 56,
   "metadata": {},
   "outputs": [
    {
     "data": {
      "text/html": [
       "<div>\n",
       "<style scoped>\n",
       "    .dataframe tbody tr th:only-of-type {\n",
       "        vertical-align: middle;\n",
       "    }\n",
       "\n",
       "    .dataframe tbody tr th {\n",
       "        vertical-align: top;\n",
       "    }\n",
       "\n",
       "    .dataframe thead th {\n",
       "        text-align: right;\n",
       "    }\n",
       "</style>\n",
       "<table border=\"1\" class=\"dataframe\">\n",
       "  <thead>\n",
       "    <tr style=\"text-align: right;\">\n",
       "      <th></th>\n",
       "      <th>article_id</th>\n",
       "      <th>title</th>\n",
       "      <th>user_id</th>\n",
       "    </tr>\n",
       "  </thead>\n",
       "  <tbody>\n",
       "    <tr>\n",
       "      <th>188</th>\n",
       "      <td>528.0</td>\n",
       "      <td>10 tips on using jupyter notebook</td>\n",
       "      <td>94</td>\n",
       "    </tr>\n",
       "    <tr>\n",
       "      <th>274</th>\n",
       "      <td>528.0</td>\n",
       "      <td>10 tips on using jupyter notebook</td>\n",
       "      <td>8</td>\n",
       "    </tr>\n",
       "    <tr>\n",
       "      <th>315</th>\n",
       "      <td>528.0</td>\n",
       "      <td>10 tips on using jupyter notebook</td>\n",
       "      <td>8</td>\n",
       "    </tr>\n",
       "    <tr>\n",
       "      <th>1429</th>\n",
       "      <td>528.0</td>\n",
       "      <td>10 tips on using jupyter notebook</td>\n",
       "      <td>103</td>\n",
       "    </tr>\n",
       "    <tr>\n",
       "      <th>1559</th>\n",
       "      <td>528.0</td>\n",
       "      <td>10 tips on using jupyter notebook</td>\n",
       "      <td>429</td>\n",
       "    </tr>\n",
       "    <tr>\n",
       "      <th>...</th>\n",
       "      <td>...</td>\n",
       "      <td>...</td>\n",
       "      <td>...</td>\n",
       "    </tr>\n",
       "    <tr>\n",
       "      <th>39933</th>\n",
       "      <td>528.0</td>\n",
       "      <td>10 tips on using jupyter notebook</td>\n",
       "      <td>4367</td>\n",
       "    </tr>\n",
       "    <tr>\n",
       "      <th>41633</th>\n",
       "      <td>528.0</td>\n",
       "      <td>10 tips on using jupyter notebook</td>\n",
       "      <td>4527</td>\n",
       "    </tr>\n",
       "    <tr>\n",
       "      <th>43633</th>\n",
       "      <td>528.0</td>\n",
       "      <td>10 tips on using jupyter notebook</td>\n",
       "      <td>4778</td>\n",
       "    </tr>\n",
       "    <tr>\n",
       "      <th>45395</th>\n",
       "      <td>528.0</td>\n",
       "      <td>10 tips on using jupyter notebook</td>\n",
       "      <td>4932</td>\n",
       "    </tr>\n",
       "    <tr>\n",
       "      <th>45908</th>\n",
       "      <td>528.0</td>\n",
       "      <td>10 tips on using jupyter notebook</td>\n",
       "      <td>4991</td>\n",
       "    </tr>\n",
       "  </tbody>\n",
       "</table>\n",
       "<p>32 rows × 3 columns</p>\n",
       "</div>"
      ],
      "text/plain": [
       "       article_id                              title  user_id\n",
       "188         528.0  10 tips on using jupyter notebook       94\n",
       "274         528.0  10 tips on using jupyter notebook        8\n",
       "315         528.0  10 tips on using jupyter notebook        8\n",
       "1429        528.0  10 tips on using jupyter notebook      103\n",
       "1559        528.0  10 tips on using jupyter notebook      429\n",
       "...           ...                                ...      ...\n",
       "39933       528.0  10 tips on using jupyter notebook     4367\n",
       "41633       528.0  10 tips on using jupyter notebook     4527\n",
       "43633       528.0  10 tips on using jupyter notebook     4778\n",
       "45395       528.0  10 tips on using jupyter notebook     4932\n",
       "45908       528.0  10 tips on using jupyter notebook     4991\n",
       "\n",
       "[32 rows x 3 columns]"
      ]
     },
     "execution_count": 56,
     "metadata": {},
     "output_type": "execute_result"
    }
   ],
   "source": [
    "# The information on the same article from df dataframe\n",
    "df[df.article_id==528]"
   ]
  },
  {
   "cell_type": "markdown",
   "metadata": {},
   "source": [
    "##  <font color='darkblue'>Overview Data and Adjust Dtypes</font>"
   ]
  },
  {
   "cell_type": "markdown",
   "metadata": {},
   "source": [
    "#### User based dataframes"
   ]
  },
  {
   "cell_type": "code",
   "execution_count": 57,
   "metadata": {},
   "outputs": [
    {
     "data": {
      "text/plain": [
       "article_id    float64\n",
       "title          object\n",
       "user_id         int64\n",
       "dtype: object"
      ]
     },
     "execution_count": 57,
     "metadata": {},
     "output_type": "execute_result"
    }
   ],
   "source": [
    "# Check the dtypes\n",
    "df.dtypes"
   ]
  },
  {
   "cell_type": "code",
   "execution_count": 58,
   "metadata": {},
   "outputs": [
    {
     "data": {
      "text/plain": [
       "article_id     int64\n",
       "title         object\n",
       "user_id        int64\n",
       "dtype: object"
      ]
     },
     "execution_count": 58,
     "metadata": {},
     "output_type": "execute_result"
    }
   ],
   "source": [
    "# Change dtypes\n",
    "df['article_id'] = df['article_id'].astype(int)\n",
    "# Check the outcome\n",
    "df.dtypes"
   ]
  },
  {
   "cell_type": "code",
   "execution_count": 59,
   "metadata": {},
   "outputs": [
    {
     "data": {
      "text/html": [
       "<div>\n",
       "<style scoped>\n",
       "    .dataframe tbody tr th:only-of-type {\n",
       "        vertical-align: middle;\n",
       "    }\n",
       "\n",
       "    .dataframe tbody tr th {\n",
       "        vertical-align: top;\n",
       "    }\n",
       "\n",
       "    .dataframe thead th {\n",
       "        text-align: right;\n",
       "    }\n",
       "</style>\n",
       "<table border=\"1\" class=\"dataframe\">\n",
       "  <thead>\n",
       "    <tr style=\"text-align: right;\">\n",
       "      <th></th>\n",
       "      <th>article_id</th>\n",
       "      <th>title</th>\n",
       "      <th>user_id</th>\n",
       "    </tr>\n",
       "  </thead>\n",
       "  <tbody>\n",
       "    <tr>\n",
       "      <th>0</th>\n",
       "      <td>1430</td>\n",
       "      <td>using pixiedust for fast, flexible, and easier data analysis and experimentation</td>\n",
       "      <td>1</td>\n",
       "    </tr>\n",
       "    <tr>\n",
       "      <th>1</th>\n",
       "      <td>1314</td>\n",
       "      <td>healthcare python streaming application demo</td>\n",
       "      <td>2</td>\n",
       "    </tr>\n",
       "  </tbody>\n",
       "</table>\n",
       "</div>"
      ],
      "text/plain": [
       "   article_id                                                                             title  user_id\n",
       "0        1430  using pixiedust for fast, flexible, and easier data analysis and experimentation        1\n",
       "1        1314                                      healthcare python streaming application demo        2"
      ]
     },
     "execution_count": 59,
     "metadata": {},
     "output_type": "execute_result"
    }
   ],
   "source": [
    "# Review the dataframe structure\n",
    "df.head(2)"
   ]
  },
  {
   "cell_type": "code",
   "execution_count": 60,
   "metadata": {},
   "outputs": [
    {
     "data": {
      "text/plain": [
       "(45993, 3)"
      ]
     },
     "execution_count": 60,
     "metadata": {},
     "output_type": "execute_result"
    }
   ],
   "source": [
    "# Check the dataframe size\n",
    "df.shape"
   ]
  },
  {
   "cell_type": "code",
   "execution_count": 61,
   "metadata": {},
   "outputs": [
    {
     "data": {
      "text/plain": [
       "user_id                   int64\n",
       "viewed_articles          object\n",
       "articles_count            int64\n",
       "unique_articles_count     int64\n",
       "dtype: object"
      ]
     },
     "execution_count": 61,
     "metadata": {},
     "output_type": "execute_result"
    }
   ],
   "source": [
    "# Check dtypes\n",
    "articles_per_user.dtypes"
   ]
  },
  {
   "cell_type": "code",
   "execution_count": 62,
   "metadata": {},
   "outputs": [
    {
     "data": {
      "text/html": [
       "<div>\n",
       "<style scoped>\n",
       "    .dataframe tbody tr th:only-of-type {\n",
       "        vertical-align: middle;\n",
       "    }\n",
       "\n",
       "    .dataframe tbody tr th {\n",
       "        vertical-align: top;\n",
       "    }\n",
       "\n",
       "    .dataframe thead th {\n",
       "        text-align: right;\n",
       "    }\n",
       "</style>\n",
       "<table border=\"1\" class=\"dataframe\">\n",
       "  <thead>\n",
       "    <tr style=\"text-align: right;\">\n",
       "      <th></th>\n",
       "      <th>user_id</th>\n",
       "      <th>viewed_articles</th>\n",
       "      <th>articles_count</th>\n",
       "      <th>unique_articles_count</th>\n",
       "    </tr>\n",
       "  </thead>\n",
       "  <tbody>\n",
       "    <tr>\n",
       "      <th>0</th>\n",
       "      <td>1</td>\n",
       "      <td>[1430.0, 1430.0, 732.0, 1429.0, 43.0, 109.0, 1232.0, 310.0, 1293.0, 1406.0, 1406.0, 32...</td>\n",
       "      <td>47</td>\n",
       "      <td>36</td>\n",
       "    </tr>\n",
       "    <tr>\n",
       "      <th>1</th>\n",
       "      <td>2</td>\n",
       "      <td>[1314.0, 1305.0, 1024.0, 1176.0, 1422.0, 1427.0]</td>\n",
       "      <td>6</td>\n",
       "      <td>6</td>\n",
       "    </tr>\n",
       "  </tbody>\n",
       "</table>\n",
       "</div>"
      ],
      "text/plain": [
       "   user_id                                                                            viewed_articles  articles_count  unique_articles_count\n",
       "0        1  [1430.0, 1430.0, 732.0, 1429.0, 43.0, 109.0, 1232.0, 310.0, 1293.0, 1406.0, 1406.0, 32...              47                     36\n",
       "1        2                                           [1314.0, 1305.0, 1024.0, 1176.0, 1422.0, 1427.0]               6                      6"
      ]
     },
     "execution_count": 62,
     "metadata": {},
     "output_type": "execute_result"
    }
   ],
   "source": [
    "# Review the datfram structure\n",
    "articles_per_user.head(2)"
   ]
  },
  {
   "cell_type": "code",
   "execution_count": 63,
   "metadata": {},
   "outputs": [
    {
     "data": {
      "text/plain": [
       "(5149, 4)"
      ]
     },
     "execution_count": 63,
     "metadata": {},
     "output_type": "execute_result"
    }
   ],
   "source": [
    "# Check the dataframe shape\n",
    "articles_per_user.shape"
   ]
  },
  {
   "cell_type": "markdown",
   "metadata": {},
   "source": [
    "#### Item based dataframes"
   ]
  },
  {
   "cell_type": "code",
   "execution_count": 64,
   "metadata": {},
   "outputs": [
    {
     "data": {
      "text/plain": [
       "doc_body           object\n",
       "doc_description    object\n",
       "doc_full_name      object\n",
       "doc_status         object\n",
       "article_id          int64\n",
       "dtype: object"
      ]
     },
     "execution_count": 64,
     "metadata": {},
     "output_type": "execute_result"
    }
   ],
   "source": [
    "df_content.dtypes"
   ]
  },
  {
   "cell_type": "code",
   "execution_count": 65,
   "metadata": {},
   "outputs": [
    {
     "data": {
      "text/html": [
       "<div>\n",
       "<style scoped>\n",
       "    .dataframe tbody tr th:only-of-type {\n",
       "        vertical-align: middle;\n",
       "    }\n",
       "\n",
       "    .dataframe tbody tr th {\n",
       "        vertical-align: top;\n",
       "    }\n",
       "\n",
       "    .dataframe thead th {\n",
       "        text-align: right;\n",
       "    }\n",
       "</style>\n",
       "<table border=\"1\" class=\"dataframe\">\n",
       "  <thead>\n",
       "    <tr style=\"text-align: right;\">\n",
       "      <th></th>\n",
       "      <th>doc_body</th>\n",
       "      <th>doc_description</th>\n",
       "      <th>doc_full_name</th>\n",
       "      <th>doc_status</th>\n",
       "      <th>article_id</th>\n",
       "    </tr>\n",
       "  </thead>\n",
       "  <tbody>\n",
       "    <tr>\n",
       "      <th>3</th>\n",
       "      <td>Skip navigation Sign in SearchLoading...\\r\\n\\r\\nClose Yeah, keep it Undo CloseTHIS VID...</td>\n",
       "      <td>Detect bad readings in real time using Python and Streaming Analytics.</td>\n",
       "      <td>Detect Malfunctioning IoT Sensors with Streaming Analytics</td>\n",
       "      <td>Live</td>\n",
       "      <td>0</td>\n",
       "    </tr>\n",
       "    <tr>\n",
       "      <th>5</th>\n",
       "      <td>No Free Hunch Navigation * kaggle.com\\r\\n\\r\\n * kaggle.com\\r\\n\\r\\nCommunicating data s...</td>\n",
       "      <td>See the forest, see the trees. Here lies the challenge in both performing and presenti...</td>\n",
       "      <td>Communicating data science: A guide to presenting your work</td>\n",
       "      <td>Live</td>\n",
       "      <td>1</td>\n",
       "    </tr>\n",
       "  </tbody>\n",
       "</table>\n",
       "</div>"
      ],
      "text/plain": [
       "                                                                                    doc_body                                                                            doc_description                                                doc_full_name doc_status  article_id\n",
       "3  Skip navigation Sign in SearchLoading...\\r\\n\\r\\nClose Yeah, keep it Undo CloseTHIS VID...                     Detect bad readings in real time using Python and Streaming Analytics.   Detect Malfunctioning IoT Sensors with Streaming Analytics       Live           0\n",
       "5  No Free Hunch Navigation * kaggle.com\\r\\n\\r\\n * kaggle.com\\r\\n\\r\\nCommunicating data s...  See the forest, see the trees. Here lies the challenge in both performing and presenti...  Communicating data science: A guide to presenting your work       Live           1"
      ]
     },
     "execution_count": 65,
     "metadata": {},
     "output_type": "execute_result"
    }
   ],
   "source": [
    "# Review the dataframe information\n",
    "df_content.head(2)"
   ]
  },
  {
   "cell_type": "code",
   "execution_count": 66,
   "metadata": {},
   "outputs": [
    {
     "data": {
      "text/plain": [
       "(1051, 5)"
      ]
     },
     "execution_count": 66,
     "metadata": {},
     "output_type": "execute_result"
    }
   ],
   "source": [
    "# Review the dataframe size\n",
    "df_content.shape"
   ]
  },
  {
   "cell_type": "code",
   "execution_count": 67,
   "metadata": {},
   "outputs": [
    {
     "data": {
      "text/plain": [
       "doc_body            object\n",
       "doc_description     object\n",
       "article_id         float64\n",
       "views              float64\n",
       "doc_name            object\n",
       "users_accessed      object\n",
       "dtype: object"
      ]
     },
     "execution_count": 67,
     "metadata": {},
     "output_type": "execute_result"
    }
   ],
   "source": [
    "# Check the available dtypes\n",
    "df_content_full.dtypes"
   ]
  },
  {
   "cell_type": "code",
   "execution_count": 68,
   "metadata": {},
   "outputs": [
    {
     "data": {
      "text/plain": [
       "doc_body            object\n",
       "doc_description     object\n",
       "article_id         float64\n",
       "views                int64\n",
       "doc_name            object\n",
       "users_accessed      object\n",
       "dtype: object"
      ]
     },
     "execution_count": 68,
     "metadata": {},
     "output_type": "execute_result"
    }
   ],
   "source": [
    "# Change dtypes\n",
    "df_content_full['views'] = df_content_full['views'].astype(int)\n",
    "# Check the outcome\n",
    "df_content_full.dtypes"
   ]
  },
  {
   "cell_type": "code",
   "execution_count": 69,
   "metadata": {},
   "outputs": [
    {
     "data": {
      "text/html": [
       "<div>\n",
       "<style scoped>\n",
       "    .dataframe tbody tr th:only-of-type {\n",
       "        vertical-align: middle;\n",
       "    }\n",
       "\n",
       "    .dataframe tbody tr th {\n",
       "        vertical-align: top;\n",
       "    }\n",
       "\n",
       "    .dataframe thead th {\n",
       "        text-align: right;\n",
       "    }\n",
       "</style>\n",
       "<table border=\"1\" class=\"dataframe\">\n",
       "  <thead>\n",
       "    <tr style=\"text-align: right;\">\n",
       "      <th></th>\n",
       "      <th>doc_body</th>\n",
       "      <th>doc_description</th>\n",
       "      <th>article_id</th>\n",
       "      <th>views</th>\n",
       "      <th>doc_name</th>\n",
       "      <th>users_accessed</th>\n",
       "    </tr>\n",
       "  </thead>\n",
       "  <tbody>\n",
       "    <tr>\n",
       "      <th>0</th>\n",
       "      <td>Skip navigation Sign in SearchLoading...\\r\\n\\r\\nClose Yeah, keep it Undo CloseTHIS VID...</td>\n",
       "      <td>Detect bad readings in real time using Python and Streaming Analytics.</td>\n",
       "      <td>0.0</td>\n",
       "      <td>14</td>\n",
       "      <td>detect malfunctioning iot sensors with streaming analytics</td>\n",
       "      <td>[495, 495, 495, 503, 233, 552, 1347, 1051, 785, 2992, 3216, 3570, 4571, 4836]</td>\n",
       "    </tr>\n",
       "    <tr>\n",
       "      <th>1</th>\n",
       "      <td>No Free Hunch Navigation * kaggle.com\\r\\n\\r\\n * kaggle.com\\r\\n\\r\\nCommunicating data s...</td>\n",
       "      <td>See the forest, see the trees. Here lies the challenge in both performing and presenti...</td>\n",
       "      <td>1.0</td>\n",
       "      <td>0</td>\n",
       "      <td>Communicating data science: A guide to presenting your work</td>\n",
       "      <td>[]</td>\n",
       "    </tr>\n",
       "  </tbody>\n",
       "</table>\n",
       "</div>"
      ],
      "text/plain": [
       "                                                                                    doc_body                                                                            doc_description  article_id  views                                                     doc_name                                                                 users_accessed\n",
       "0  Skip navigation Sign in SearchLoading...\\r\\n\\r\\nClose Yeah, keep it Undo CloseTHIS VID...                     Detect bad readings in real time using Python and Streaming Analytics.         0.0     14   detect malfunctioning iot sensors with streaming analytics  [495, 495, 495, 503, 233, 552, 1347, 1051, 785, 2992, 3216, 3570, 4571, 4836]\n",
       "1  No Free Hunch Navigation * kaggle.com\\r\\n\\r\\n * kaggle.com\\r\\n\\r\\nCommunicating data s...  See the forest, see the trees. Here lies the challenge in both performing and presenti...         1.0      0  Communicating data science: A guide to presenting your work                                                                             []"
      ]
     },
     "execution_count": 69,
     "metadata": {},
     "output_type": "execute_result"
    }
   ],
   "source": [
    "# Review the dataframe structure\n",
    "df_content_full.head(2)"
   ]
  },
  {
   "cell_type": "markdown",
   "metadata": {},
   "source": [
    "##  <font color='darkblue'>Save Data</font>"
   ]
  },
  {
   "cell_type": "code",
   "execution_count": null,
   "metadata": {},
   "outputs": [],
   "source": [
    "# Save the cleaned data to files\n",
    "df.to_csv('data/df.csv', index=True)\n",
    "df_content.to_csv('data/df_content.csv', index=True)\n",
    "\n",
    "# Save the user and articles information dataframes to files\n",
    "articles_per_user.to_csv('data/articles_per_user.csv', index=True)\n",
    "df_content_full.to_csv('data/users_per_article.csv', index=True)"
   ]
  }
 ],
 "metadata": {
  "kernelspec": {
   "display_name": "Python 3 (ipykernel)",
   "language": "python",
   "name": "python3"
  },
  "language_info": {
   "codemirror_mode": {
    "name": "ipython",
    "version": 3
   },
   "file_extension": ".py",
   "mimetype": "text/x-python",
   "name": "python",
   "nbconvert_exporter": "python",
   "pygments_lexer": "ipython3",
   "version": "3.9.7"
  },
  "toc": {
   "base_numbering": 1,
   "nav_menu": {},
   "number_sections": false,
   "sideBar": true,
   "skip_h1_title": false,
   "title_cell": "Table of Contents",
   "title_sidebar": "Contents",
   "toc_cell": false,
   "toc_position": {},
   "toc_section_display": true,
   "toc_window_display": false
  }
 },
 "nbformat": 4,
 "nbformat_minor": 2
}
